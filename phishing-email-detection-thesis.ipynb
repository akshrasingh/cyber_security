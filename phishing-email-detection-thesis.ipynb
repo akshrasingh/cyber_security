{
 "cells": [
  {
   "cell_type": "markdown",
   "id": "9d99ac86",
   "metadata": {
    "papermill": {
     "duration": 0.010678,
     "end_time": "2023-11-14T03:38:54.250073",
     "exception": false,
     "start_time": "2023-11-14T03:38:54.239395",
     "status": "completed"
    },
    "tags": []
   },
   "source": [
    "\n",
    "    \n",
    "<p style=\"font-family:Calibri; font-weight:bold; letter-spacing: 2px; font-size:250%; text-align:left;padding: 0px; border-bottom: 3px solid #003300\"><b>About the Dataset</b></p>\n",
    "Phishing emails have become a significant threat to individuals and organizations worldwide. These deceptive emails aim to trick recipients into divulging sensitive information or performing harmful actions. Detecting and preventing phishing emails is crucial to safeguarding personal and financial security. In recent years, machine learning techniques have emerged as a promising approach to combat this growing menace.\n",
    "The dataset specifies the email text body the type of emails which can be used to detect phishing emails by extensive analytics of the email text and classifying those using machine learning"
   ]
  },
  {
   "cell_type": "markdown",
   "id": "74eeb94a",
   "metadata": {
    "papermill": {
     "duration": 0.009765,
     "end_time": "2023-11-14T03:38:54.270221",
     "exception": false,
     "start_time": "2023-11-14T03:38:54.260456",
     "status": "completed"
    },
    "tags": []
   },
   "source": [
    "\n",
    "    \n",
    "<p style=\"font-family:Calibri; font-weight:bold; letter-spacing: 2px; font-size:250%; text-align:left;padding: 0px; border-bottom: 3px solid #003300\"><b>Exploring the Dataset</b></p>\n",
    "\n",
    "In this notebook, we will dive into the exciting world of data exploration and analysis. We have a collection of diverse datasets at our disposal, ranging from numerical data to text and images. Through a series of Python code and visualizations, we will uncover valuable insights, patterns, and trends hidden within the data.\n",
    "\n",
    "The goals of this notebook are as follows:\n",
    "- Understand the structure and format of the datasets\n",
    "- Perform data cleaning and preprocessing\n",
    "- Conduct exploratory data analysis (EDA) to gain initial insights\n",
    "- Visualize the data using various plots and charts\n",
    "- Identify correlations and relationships between variables\n",
    "- Extract meaningful information to inform further analysis or decision-making\n",
    "\n",
    "Throughout the notebook, we will use popular Python libraries such as Pandas, NumPy, and Matplotlib to manipulate and visualize the data. Additionally, we may leverage specialized libraries depending on the nature of the datasets, such as Seaborn for statistical visualization or NLTK for natural language processing.\n",
    "\n",
    "So, let's get started on our journey of exploring these fascinating datasets and uncovering the secrets they hold!\n",
    "    \n"
   ]
  },
  {
   "cell_type": "markdown",
   "id": "0c4d5d9e",
   "metadata": {
    "papermill": {
     "duration": 0.010209,
     "end_time": "2023-11-14T03:38:54.290659",
     "exception": false,
     "start_time": "2023-11-14T03:38:54.280450",
     "status": "completed"
    },
    "tags": []
   },
   "source": [
    "<div style=\"display: flex; justify-content: center;\">\n",
    "  <img src=\"https://media.tenor.com/SRy6HR5ibvsAAAAC/phishing-phisher.gif\" alt=\"Your GIF\" width=\"300\" height=\"200\" />\n",
    "</div>"
   ]
  },
  {
   "cell_type": "code",
   "execution_count": 1,
   "id": "3db2b033",
   "metadata": {
    "_cell_guid": "b1076dfc-b9ad-4769-8c92-a6c4dae69d19",
    "_uuid": "8f2839f25d086af736a60e9eeb907d3b93b6e0e5",
    "execution": {
     "iopub.execute_input": "2023-11-14T03:38:54.313790Z",
     "iopub.status.busy": "2023-11-14T03:38:54.313071Z",
     "iopub.status.idle": "2023-11-14T03:38:56.754966Z",
     "shell.execute_reply": "2023-11-14T03:38:56.754177Z"
    },
    "papermill": {
     "duration": 2.455804,
     "end_time": "2023-11-14T03:38:56.757373",
     "exception": false,
     "start_time": "2023-11-14T03:38:54.301569",
     "status": "completed"
    },
    "tags": []
   },
   "outputs": [
    {
     "name": "stderr",
     "output_type": "stream",
     "text": [
      "/opt/conda/lib/python3.10/site-packages/scipy/__init__.py:146: UserWarning: A NumPy version >=1.16.5 and <1.23.0 is required for this version of SciPy (detected version 1.24.3\n",
      "  warnings.warn(f\"A NumPy version >={np_minversion} and <{np_maxversion}\"\n"
     ]
    }
   ],
   "source": [
    "import pandas as pd\n",
    "import matplotlib.pyplot as plt\n",
    "import numpy as np\n",
    "from sklearn.tree import DecisionTreeClassifier\n",
    "from sklearn.feature_extraction.text import TfidfVectorizer\n",
    "from sklearn.ensemble import RandomForestClassifier, AdaBoostClassifier, GradientBoostingClassifier\n",
    "from sklearn.model_selection import KFold\n",
    "from sklearn.preprocessing import LabelEncoder\n",
    "from sklearn.metrics import accuracy_score, confusion_matrix, classification_report\n",
    "from xgboost import XGBClassifier"
   ]
  },
  {
   "cell_type": "code",
   "execution_count": 2,
   "id": "288964fa",
   "metadata": {
    "execution": {
     "iopub.execute_input": "2023-11-14T03:38:56.780678Z",
     "iopub.status.busy": "2023-11-14T03:38:56.780288Z",
     "iopub.status.idle": "2023-11-14T03:38:58.097495Z",
     "shell.execute_reply": "2023-11-14T03:38:58.096545Z"
    },
    "papermill": {
     "duration": 1.331286,
     "end_time": "2023-11-14T03:38:58.099721",
     "exception": false,
     "start_time": "2023-11-14T03:38:56.768435",
     "status": "completed"
    },
    "tags": []
   },
   "outputs": [
    {
     "data": {
      "text/html": [
       "<div>\n",
       "<style scoped>\n",
       "    .dataframe tbody tr th:only-of-type {\n",
       "        vertical-align: middle;\n",
       "    }\n",
       "\n",
       "    .dataframe tbody tr th {\n",
       "        vertical-align: top;\n",
       "    }\n",
       "\n",
       "    .dataframe thead th {\n",
       "        text-align: right;\n",
       "    }\n",
       "</style>\n",
       "<table border=\"1\" class=\"dataframe\">\n",
       "  <thead>\n",
       "    <tr style=\"text-align: right;\">\n",
       "      <th></th>\n",
       "      <th>Unnamed: 0</th>\n",
       "      <th>Email Text</th>\n",
       "      <th>Email Type</th>\n",
       "    </tr>\n",
       "  </thead>\n",
       "  <tbody>\n",
       "    <tr>\n",
       "      <th>0</th>\n",
       "      <td>0</td>\n",
       "      <td>re : 6 . 1100 , disc : uniformitarianism , re ...</td>\n",
       "      <td>Safe Email</td>\n",
       "    </tr>\n",
       "    <tr>\n",
       "      <th>1</th>\n",
       "      <td>1</td>\n",
       "      <td>the other side of * galicismos * * galicismo *...</td>\n",
       "      <td>Safe Email</td>\n",
       "    </tr>\n",
       "    <tr>\n",
       "      <th>2</th>\n",
       "      <td>2</td>\n",
       "      <td>re : equistar deal tickets are you still avail...</td>\n",
       "      <td>Safe Email</td>\n",
       "    </tr>\n",
       "    <tr>\n",
       "      <th>3</th>\n",
       "      <td>3</td>\n",
       "      <td>\\nHello I am your hot lil horny toy.\\n    I am...</td>\n",
       "      <td>Phishing Email</td>\n",
       "    </tr>\n",
       "    <tr>\n",
       "      <th>4</th>\n",
       "      <td>4</td>\n",
       "      <td>software at incredibly low prices ( 86 % lower...</td>\n",
       "      <td>Phishing Email</td>\n",
       "    </tr>\n",
       "  </tbody>\n",
       "</table>\n",
       "</div>"
      ],
      "text/plain": [
       "   Unnamed: 0                                         Email Text  \\\n",
       "0           0  re : 6 . 1100 , disc : uniformitarianism , re ...   \n",
       "1           1  the other side of * galicismos * * galicismo *...   \n",
       "2           2  re : equistar deal tickets are you still avail...   \n",
       "3           3  \\nHello I am your hot lil horny toy.\\n    I am...   \n",
       "4           4  software at incredibly low prices ( 86 % lower...   \n",
       "\n",
       "       Email Type  \n",
       "0      Safe Email  \n",
       "1      Safe Email  \n",
       "2      Safe Email  \n",
       "3  Phishing Email  \n",
       "4  Phishing Email  "
      ]
     },
     "execution_count": 2,
     "metadata": {},
     "output_type": "execute_result"
    }
   ],
   "source": [
    "df= pd.read_csv(\"/kaggle/input/phishingemails/Phishing_Email.csv\")\n",
    "df.head()"
   ]
  },
  {
   "cell_type": "code",
   "execution_count": 3,
   "id": "0a3ea752",
   "metadata": {
    "execution": {
     "iopub.execute_input": "2023-11-14T03:38:58.122272Z",
     "iopub.status.busy": "2023-11-14T03:38:58.121987Z",
     "iopub.status.idle": "2023-11-14T03:38:58.137412Z",
     "shell.execute_reply": "2023-11-14T03:38:58.136692Z"
    },
    "papermill": {
     "duration": 0.028865,
     "end_time": "2023-11-14T03:38:58.139366",
     "exception": false,
     "start_time": "2023-11-14T03:38:58.110501",
     "status": "completed"
    },
    "tags": []
   },
   "outputs": [],
   "source": [
    "df_safe_email = df[df['Email Type'] == \"Safe Email\"]\n",
    "df_phishing_email = df[df['Email Type'] == \"Phishing Email\"]"
   ]
  },
  {
   "cell_type": "code",
   "execution_count": 4,
   "id": "a8410a87",
   "metadata": {
    "execution": {
     "iopub.execute_input": "2023-11-14T03:38:58.161135Z",
     "iopub.status.busy": "2023-11-14T03:38:58.160819Z",
     "iopub.status.idle": "2023-11-14T03:38:58.171922Z",
     "shell.execute_reply": "2023-11-14T03:38:58.171026Z"
    },
    "papermill": {
     "duration": 0.024096,
     "end_time": "2023-11-14T03:38:58.173815",
     "exception": false,
     "start_time": "2023-11-14T03:38:58.149719",
     "status": "completed"
    },
    "tags": []
   },
   "outputs": [
    {
     "data": {
      "text/plain": [
       "Unnamed: 0     0\n",
       "Email Text    16\n",
       "Email Type     0\n",
       "dtype: int64"
      ]
     },
     "execution_count": 4,
     "metadata": {},
     "output_type": "execute_result"
    }
   ],
   "source": [
    "df.isna().sum()"
   ]
  },
  {
   "cell_type": "code",
   "execution_count": 5,
   "id": "b35b0bc3",
   "metadata": {
    "execution": {
     "iopub.execute_input": "2023-11-14T03:38:58.195867Z",
     "iopub.status.busy": "2023-11-14T03:38:58.195582Z",
     "iopub.status.idle": "2023-11-14T03:38:58.211021Z",
     "shell.execute_reply": "2023-11-14T03:38:58.210182Z"
    },
    "papermill": {
     "duration": 0.028665,
     "end_time": "2023-11-14T03:38:58.213063",
     "exception": false,
     "start_time": "2023-11-14T03:38:58.184398",
     "status": "completed"
    },
    "tags": []
   },
   "outputs": [
    {
     "data": {
      "text/html": [
       "<div>\n",
       "<style scoped>\n",
       "    .dataframe tbody tr th:only-of-type {\n",
       "        vertical-align: middle;\n",
       "    }\n",
       "\n",
       "    .dataframe tbody tr th {\n",
       "        vertical-align: top;\n",
       "    }\n",
       "\n",
       "    .dataframe thead th {\n",
       "        text-align: right;\n",
       "    }\n",
       "</style>\n",
       "<table border=\"1\" class=\"dataframe\">\n",
       "  <thead>\n",
       "    <tr style=\"text-align: right;\">\n",
       "      <th></th>\n",
       "      <th>Unnamed: 0</th>\n",
       "      <th>Email Text</th>\n",
       "      <th>Email Type</th>\n",
       "    </tr>\n",
       "  </thead>\n",
       "  <tbody>\n",
       "    <tr>\n",
       "      <th>31</th>\n",
       "      <td>31</td>\n",
       "      <td>NaN</td>\n",
       "      <td>Phishing Email</td>\n",
       "    </tr>\n",
       "    <tr>\n",
       "      <th>387</th>\n",
       "      <td>387</td>\n",
       "      <td>NaN</td>\n",
       "      <td>Phishing Email</td>\n",
       "    </tr>\n",
       "    <tr>\n",
       "      <th>1883</th>\n",
       "      <td>1883</td>\n",
       "      <td>NaN</td>\n",
       "      <td>Phishing Email</td>\n",
       "    </tr>\n",
       "    <tr>\n",
       "      <th>2049</th>\n",
       "      <td>2049</td>\n",
       "      <td>NaN</td>\n",
       "      <td>Phishing Email</td>\n",
       "    </tr>\n",
       "    <tr>\n",
       "      <th>2451</th>\n",
       "      <td>2451</td>\n",
       "      <td>NaN</td>\n",
       "      <td>Phishing Email</td>\n",
       "    </tr>\n",
       "    <tr>\n",
       "      <th>2972</th>\n",
       "      <td>2972</td>\n",
       "      <td>NaN</td>\n",
       "      <td>Phishing Email</td>\n",
       "    </tr>\n",
       "    <tr>\n",
       "      <th>3627</th>\n",
       "      <td>3627</td>\n",
       "      <td>NaN</td>\n",
       "      <td>Phishing Email</td>\n",
       "    </tr>\n",
       "    <tr>\n",
       "      <th>3806</th>\n",
       "      <td>3806</td>\n",
       "      <td>NaN</td>\n",
       "      <td>Phishing Email</td>\n",
       "    </tr>\n",
       "    <tr>\n",
       "      <th>5763</th>\n",
       "      <td>5763</td>\n",
       "      <td>NaN</td>\n",
       "      <td>Phishing Email</td>\n",
       "    </tr>\n",
       "    <tr>\n",
       "      <th>6299</th>\n",
       "      <td>6299</td>\n",
       "      <td>NaN</td>\n",
       "      <td>Phishing Email</td>\n",
       "    </tr>\n",
       "    <tr>\n",
       "      <th>6821</th>\n",
       "      <td>6822</td>\n",
       "      <td>NaN</td>\n",
       "      <td>Phishing Email</td>\n",
       "    </tr>\n",
       "    <tr>\n",
       "      <th>8594</th>\n",
       "      <td>8595</td>\n",
       "      <td>NaN</td>\n",
       "      <td>Phishing Email</td>\n",
       "    </tr>\n",
       "    <tr>\n",
       "      <th>9999</th>\n",
       "      <td>10000</td>\n",
       "      <td>NaN</td>\n",
       "      <td>Phishing Email</td>\n",
       "    </tr>\n",
       "    <tr>\n",
       "      <th>11069</th>\n",
       "      <td>11070</td>\n",
       "      <td>NaN</td>\n",
       "      <td>Phishing Email</td>\n",
       "    </tr>\n",
       "    <tr>\n",
       "      <th>11320</th>\n",
       "      <td>11321</td>\n",
       "      <td>NaN</td>\n",
       "      <td>Phishing Email</td>\n",
       "    </tr>\n",
       "    <tr>\n",
       "      <th>13843</th>\n",
       "      <td>13844</td>\n",
       "      <td>NaN</td>\n",
       "      <td>Phishing Email</td>\n",
       "    </tr>\n",
       "  </tbody>\n",
       "</table>\n",
       "</div>"
      ],
      "text/plain": [
       "       Unnamed: 0 Email Text      Email Type\n",
       "31             31        NaN  Phishing Email\n",
       "387           387        NaN  Phishing Email\n",
       "1883         1883        NaN  Phishing Email\n",
       "2049         2049        NaN  Phishing Email\n",
       "2451         2451        NaN  Phishing Email\n",
       "2972         2972        NaN  Phishing Email\n",
       "3627         3627        NaN  Phishing Email\n",
       "3806         3806        NaN  Phishing Email\n",
       "5763         5763        NaN  Phishing Email\n",
       "6299         6299        NaN  Phishing Email\n",
       "6821         6822        NaN  Phishing Email\n",
       "8594         8595        NaN  Phishing Email\n",
       "9999        10000        NaN  Phishing Email\n",
       "11069       11070        NaN  Phishing Email\n",
       "11320       11321        NaN  Phishing Email\n",
       "13843       13844        NaN  Phishing Email"
      ]
     },
     "execution_count": 5,
     "metadata": {},
     "output_type": "execute_result"
    }
   ],
   "source": [
    "nan_rows = df[df.isna().any(axis=1)]\n",
    "nan_rows"
   ]
  },
  {
   "cell_type": "code",
   "execution_count": 6,
   "id": "2ea12456",
   "metadata": {
    "execution": {
     "iopub.execute_input": "2023-11-14T03:38:58.235960Z",
     "iopub.status.busy": "2023-11-14T03:38:58.235667Z",
     "iopub.status.idle": "2023-11-14T03:38:58.244754Z",
     "shell.execute_reply": "2023-11-14T03:38:58.243940Z"
    },
    "papermill": {
     "duration": 0.022456,
     "end_time": "2023-11-14T03:38:58.246601",
     "exception": false,
     "start_time": "2023-11-14T03:38:58.224145",
     "status": "completed"
    },
    "tags": []
   },
   "outputs": [
    {
     "data": {
      "text/plain": [
       "Unnamed: 0    0\n",
       "Email Text    0\n",
       "Email Type    0\n",
       "dtype: int64"
      ]
     },
     "execution_count": 6,
     "metadata": {},
     "output_type": "execute_result"
    }
   ],
   "source": [
    "df_safe_email.isna().sum()"
   ]
  },
  {
   "cell_type": "code",
   "execution_count": 7,
   "id": "cb96bfd1",
   "metadata": {
    "execution": {
     "iopub.execute_input": "2023-11-14T03:38:58.268967Z",
     "iopub.status.busy": "2023-11-14T03:38:58.268669Z",
     "iopub.status.idle": "2023-11-14T03:38:58.276918Z",
     "shell.execute_reply": "2023-11-14T03:38:58.276120Z"
    },
    "papermill": {
     "duration": 0.021541,
     "end_time": "2023-11-14T03:38:58.278763",
     "exception": false,
     "start_time": "2023-11-14T03:38:58.257222",
     "status": "completed"
    },
    "tags": []
   },
   "outputs": [
    {
     "data": {
      "text/plain": [
       "Unnamed: 0     0\n",
       "Email Text    16\n",
       "Email Type     0\n",
       "dtype: int64"
      ]
     },
     "execution_count": 7,
     "metadata": {},
     "output_type": "execute_result"
    }
   ],
   "source": [
    "df_phishing_email.isna().sum()"
   ]
  },
  {
   "cell_type": "code",
   "execution_count": 8,
   "id": "dbc024e5",
   "metadata": {
    "execution": {
     "iopub.execute_input": "2023-11-14T03:38:58.302678Z",
     "iopub.status.busy": "2023-11-14T03:38:58.302396Z",
     "iopub.status.idle": "2023-11-14T03:38:58.318647Z",
     "shell.execute_reply": "2023-11-14T03:38:58.317442Z"
    },
    "papermill": {
     "duration": 0.030831,
     "end_time": "2023-11-14T03:38:58.320769",
     "exception": false,
     "start_time": "2023-11-14T03:38:58.289938",
     "status": "completed"
    },
    "tags": []
   },
   "outputs": [
    {
     "name": "stdout",
     "output_type": "stream",
     "text": [
      "Unnamed: 0    0\n",
      "Email Text    0\n",
      "Email Type    0\n",
      "dtype: int64\n"
     ]
    }
   ],
   "source": [
    "df = df.dropna()\n",
    "print(df.isna().sum())"
   ]
  },
  {
   "cell_type": "code",
   "execution_count": 9,
   "id": "ed0dacb9",
   "metadata": {
    "execution": {
     "iopub.execute_input": "2023-11-14T03:38:58.344738Z",
     "iopub.status.busy": "2023-11-14T03:38:58.344470Z",
     "iopub.status.idle": "2023-11-14T03:38:58.348764Z",
     "shell.execute_reply": "2023-11-14T03:38:58.347937Z"
    },
    "papermill": {
     "duration": 0.018393,
     "end_time": "2023-11-14T03:38:58.350924",
     "exception": false,
     "start_time": "2023-11-14T03:38:58.332531",
     "status": "completed"
    },
    "tags": []
   },
   "outputs": [
    {
     "name": "stdout",
     "output_type": "stream",
     "text": [
      "re : 6 . 1100 , disc : uniformitarianism , re : 1086 ; sex / lang dick hudson 's observations on us use of 's on ' but not 'd aughter ' as a vocative are very thought-provoking , but i am not sure that it is fair to attribute this to \" sons \" being \" treated like senior relatives \" . for one thing , we do n't normally use ' brother ' in this way any more than we do 'd aughter ' , and it is hard to imagine a natural class comprising senior relatives and 's on ' but excluding ' brother ' . for another , there seem to me to be differences here . if i am not imagining a distinction that is not there , it seems to me that the senior relative terms are used in a wider variety of contexts , e . g . , calling out from a distance to get someone 's attention , and hence at the beginning of an utterance , whereas 's on ' seems more natural in utterances like ' yes , son ' , ' hand me that , son ' than in ones like ' son ! ' or ' son , help me ! ' ( although perhaps these latter ones are not completely impossible ) . alexis mr\n"
     ]
    }
   ],
   "source": [
    "print(df['Email Text'].iloc[0])"
   ]
  },
  {
   "cell_type": "code",
   "execution_count": 10,
   "id": "7c56f58b",
   "metadata": {
    "execution": {
     "iopub.execute_input": "2023-11-14T03:38:58.374216Z",
     "iopub.status.busy": "2023-11-14T03:38:58.373946Z",
     "iopub.status.idle": "2023-11-14T03:38:58.379205Z",
     "shell.execute_reply": "2023-11-14T03:38:58.378346Z"
    },
    "papermill": {
     "duration": 0.01902,
     "end_time": "2023-11-14T03:38:58.381210",
     "exception": false,
     "start_time": "2023-11-14T03:38:58.362190",
     "status": "completed"
    },
    "tags": []
   },
   "outputs": [
    {
     "data": {
      "text/plain": [
       "(18634, 3)"
      ]
     },
     "execution_count": 10,
     "metadata": {},
     "output_type": "execute_result"
    }
   ],
   "source": [
    "df.shape"
   ]
  },
  {
   "cell_type": "code",
   "execution_count": 11,
   "id": "0a506092",
   "metadata": {
    "execution": {
     "iopub.execute_input": "2023-11-14T03:38:58.404342Z",
     "iopub.status.busy": "2023-11-14T03:38:58.404069Z",
     "iopub.status.idle": "2023-11-14T03:38:58.417867Z",
     "shell.execute_reply": "2023-11-14T03:38:58.416910Z"
    },
    "papermill": {
     "duration": 0.027608,
     "end_time": "2023-11-14T03:38:58.419890",
     "exception": false,
     "start_time": "2023-11-14T03:38:58.392282",
     "status": "completed"
    },
    "tags": []
   },
   "outputs": [
    {
     "name": "stdout",
     "output_type": "stream",
     "text": [
      "Email Type\n",
      "Safe Email        11322\n",
      "Phishing Email     7312\n",
      "Name: count, dtype: int64\n"
     ]
    }
   ],
   "source": [
    "email_type_counts = df['Email Type'].value_counts()\n",
    "print(email_type_counts)"
   ]
  },
  {
   "cell_type": "code",
   "execution_count": 12,
   "id": "32ca9467",
   "metadata": {
    "execution": {
     "iopub.execute_input": "2023-11-14T03:38:58.443735Z",
     "iopub.status.busy": "2023-11-14T03:38:58.443461Z",
     "iopub.status.idle": "2023-11-14T03:38:58.765715Z",
     "shell.execute_reply": "2023-11-14T03:38:58.764812Z"
    },
    "papermill": {
     "duration": 0.336615,
     "end_time": "2023-11-14T03:38:58.767915",
     "exception": false,
     "start_time": "2023-11-14T03:38:58.431300",
     "status": "completed"
    },
    "tags": []
   },
   "outputs": [
    {
     "data": {
      "image/png": "[encoded data removed]",
      "text/plain": [
       "<Figure size 800x600 with 1 Axes>"
      ]
     },
     "metadata": {},
     "output_type": "display_data"
    }
   ],
   "source": [
    "# Create the bar chart\n",
    "# Create a list of unique email types\n",
    "unique_email_types = email_type_counts.index.tolist()\n",
    "\n",
    "# Define a custom color map \n",
    "color_map = {\n",
    "    'Phishing Email': 'red',\n",
    "    'Safe Email': 'green',}\n",
    "\n",
    "# Map the colors to each email type\n",
    "colors = [color_map.get(email_type, 'gray') for email_type in unique_email_types]\n",
    "\n",
    "# Create the bar chart with custom colors\n",
    "plt.figure(figsize=(8, 6))\n",
    "plt.bar(unique_email_types, email_type_counts, color=colors)\n",
    "plt.xlabel('Email Type')\n",
    "plt.ylabel('Count')\n",
    "plt.title('Distribution of Email Types with Custom Colors')\n",
    "plt.xticks(rotation=45)\n",
    "\n",
    "# Show the chart\n",
    "plt.tight_layout()\n",
    "plt.show()"
   ]
  },
  {
   "cell_type": "markdown",
   "id": "20e848a4",
   "metadata": {
    "papermill": {
     "duration": 0.011409,
     "end_time": "2023-11-14T03:38:58.791238",
     "exception": false,
     "start_time": "2023-11-14T03:38:58.779829",
     "status": "completed"
    },
    "tags": []
   },
   "source": [
    "# Undersampling"
   ]
  },
  {
   "cell_type": "code",
   "execution_count": 13,
   "id": "d6934d60",
   "metadata": {
    "execution": {
     "iopub.execute_input": "2023-11-14T03:38:58.858446Z",
     "iopub.status.busy": "2023-11-14T03:38:58.858112Z",
     "iopub.status.idle": "2023-11-14T03:38:58.874812Z",
     "shell.execute_reply": "2023-11-14T03:38:58.873891Z"
    },
    "papermill": {
     "duration": 0.032582,
     "end_time": "2023-11-14T03:38:58.876953",
     "exception": false,
     "start_time": "2023-11-14T03:38:58.844371",
     "status": "completed"
    },
    "tags": []
   },
   "outputs": [],
   "source": [
    "Safe_Email = df[df[\"Email Type\"]== \"Safe Email\"]\n",
    "Phishing_Email = df[df[\"Email Type\"]== \"Phishing Email\"]\n",
    "Safe_Email = Safe_Email.sample(Phishing_Email.shape[0])"
   ]
  },
  {
   "cell_type": "code",
   "execution_count": 14,
   "id": "3a5f0655",
   "metadata": {
    "execution": {
     "iopub.execute_input": "2023-11-14T03:38:58.903122Z",
     "iopub.status.busy": "2023-11-14T03:38:58.902802Z",
     "iopub.status.idle": "2023-11-14T03:38:58.908678Z",
     "shell.execute_reply": "2023-11-14T03:38:58.907731Z"
    },
    "papermill": {
     "duration": 0.021456,
     "end_time": "2023-11-14T03:38:58.910763",
     "exception": false,
     "start_time": "2023-11-14T03:38:58.889307",
     "status": "completed"
    },
    "tags": []
   },
   "outputs": [
    {
     "data": {
      "text/plain": [
       "((7312, 3), (7312, 3))"
      ]
     },
     "execution_count": 14,
     "metadata": {},
     "output_type": "execute_result"
    }
   ],
   "source": [
    "Safe_Email.shape,Phishing_Email.shape"
   ]
  },
  {
   "cell_type": "code",
   "execution_count": 15,
   "id": "18171a12",
   "metadata": {
    "execution": {
     "iopub.execute_input": "2023-11-14T03:38:58.937955Z",
     "iopub.status.busy": "2023-11-14T03:38:58.937604Z",
     "iopub.status.idle": "2023-11-14T03:38:58.949767Z",
     "shell.execute_reply": "2023-11-14T03:38:58.948922Z"
    },
    "papermill": {
     "duration": 0.028294,
     "end_time": "2023-11-14T03:38:58.952062",
     "exception": false,
     "start_time": "2023-11-14T03:38:58.923768",
     "status": "completed"
    },
    "tags": []
   },
   "outputs": [
    {
     "data": {
      "text/html": [
       "<div>\n",
       "<style scoped>\n",
       "    .dataframe tbody tr th:only-of-type {\n",
       "        vertical-align: middle;\n",
       "    }\n",
       "\n",
       "    .dataframe tbody tr th {\n",
       "        vertical-align: top;\n",
       "    }\n",
       "\n",
       "    .dataframe thead th {\n",
       "        text-align: right;\n",
       "    }\n",
       "</style>\n",
       "<table border=\"1\" class=\"dataframe\">\n",
       "  <thead>\n",
       "    <tr style=\"text-align: right;\">\n",
       "      <th></th>\n",
       "      <th>Unnamed: 0</th>\n",
       "      <th>Email Text</th>\n",
       "      <th>Email Type</th>\n",
       "    </tr>\n",
       "  </thead>\n",
       "  <tbody>\n",
       "    <tr>\n",
       "      <th>0</th>\n",
       "      <td>17700</td>\n",
       "      <td>On Tue, 2002-08-20 at 12:10, John P. Looney wr...</td>\n",
       "      <td>Safe Email</td>\n",
       "    </tr>\n",
       "    <tr>\n",
       "      <th>1</th>\n",
       "      <td>15811</td>\n",
       "      <td>URL: http://www.newsisfree.com/click/-0,859765...</td>\n",
       "      <td>Safe Email</td>\n",
       "    </tr>\n",
       "    <tr>\n",
       "      <th>2</th>\n",
       "      <td>11601</td>\n",
       "      <td>URL: http://www.aaronsw.com/weblog/000625\\nDat...</td>\n",
       "      <td>Safe Email</td>\n",
       "    </tr>\n",
       "    <tr>\n",
       "      <th>3</th>\n",
       "      <td>9638</td>\n",
       "      <td>the linguistic review 15 / 2 - 3 ( 1998 ) spec...</td>\n",
       "      <td>Safe Email</td>\n",
       "    </tr>\n",
       "    <tr>\n",
       "      <th>4</th>\n",
       "      <td>12149</td>\n",
       "      <td>short positions through monday el paso lending...</td>\n",
       "      <td>Safe Email</td>\n",
       "    </tr>\n",
       "  </tbody>\n",
       "</table>\n",
       "</div>"
      ],
      "text/plain": [
       "   Unnamed: 0                                         Email Text  Email Type\n",
       "0       17700  On Tue, 2002-08-20 at 12:10, John P. Looney wr...  Safe Email\n",
       "1       15811  URL: http://www.newsisfree.com/click/-0,859765...  Safe Email\n",
       "2       11601  URL: http://www.aaronsw.com/weblog/000625\\nDat...  Safe Email\n",
       "3        9638  the linguistic review 15 / 2 - 3 ( 1998 ) spec...  Safe Email\n",
       "4       12149  short positions through monday el paso lending...  Safe Email"
      ]
     },
     "execution_count": 15,
     "metadata": {},
     "output_type": "execute_result"
    }
   ],
   "source": [
    "Data= pd.concat([Safe_Email, Phishing_Email], ignore_index = True)\n",
    "Data.head()"
   ]
  },
  {
   "cell_type": "code",
   "execution_count": 16,
   "id": "20839d0e",
   "metadata": {
    "execution": {
     "iopub.execute_input": "2023-11-14T03:38:58.978153Z",
     "iopub.status.busy": "2023-11-14T03:38:58.977854Z",
     "iopub.status.idle": "2023-11-14T03:38:58.987758Z",
     "shell.execute_reply": "2023-11-14T03:38:58.986935Z"
    },
    "papermill": {
     "duration": 0.024917,
     "end_time": "2023-11-14T03:38:58.989598",
     "exception": false,
     "start_time": "2023-11-14T03:38:58.964681",
     "status": "completed"
    },
    "tags": []
   },
   "outputs": [
    {
     "data": {
      "text/plain": [
       "Unnamed: 0    0\n",
       "Email Text    0\n",
       "Email Type    0\n",
       "dtype: int64"
      ]
     },
     "execution_count": 16,
     "metadata": {},
     "output_type": "execute_result"
    }
   ],
   "source": [
    "Data.isna().sum()"
   ]
  },
  {
   "cell_type": "code",
   "execution_count": 17,
   "id": "faa44660",
   "metadata": {
    "execution": {
     "iopub.execute_input": "2023-11-14T03:38:59.016436Z",
     "iopub.status.busy": "2023-11-14T03:38:59.016136Z",
     "iopub.status.idle": "2023-11-14T03:38:59.023305Z",
     "shell.execute_reply": "2023-11-14T03:38:59.022570Z"
    },
    "papermill": {
     "duration": 0.022454,
     "end_time": "2023-11-14T03:38:59.025164",
     "exception": false,
     "start_time": "2023-11-14T03:38:59.002710",
     "status": "completed"
    },
    "tags": []
   },
   "outputs": [],
   "source": [
    "X = Data[\"Email Text\"].values\n",
    "y = Data[\"Email Type\"].values\n",
    "from sklearn.model_selection import train_test_split\n",
    "X_train,x_test,y_train,y_test = train_test_split(X, y, test_size = 0.3, random_state = 0)"
   ]
  },
  {
   "cell_type": "markdown",
   "id": "30a726df",
   "metadata": {
    "papermill": {
     "duration": 0.012709,
     "end_time": "2023-11-14T03:38:59.050540",
     "exception": false,
     "start_time": "2023-11-14T03:38:59.037831",
     "status": "completed"
    },
    "tags": []
   },
   "source": [
    "# Random Forest Classifier"
   ]
  },
  {
   "cell_type": "code",
   "execution_count": 18,
   "id": "c438444c",
   "metadata": {
    "execution": {
     "iopub.execute_input": "2023-11-14T03:38:59.076758Z",
     "iopub.status.busy": "2023-11-14T03:38:59.076476Z",
     "iopub.status.idle": "2023-11-14T03:38:59.083206Z",
     "shell.execute_reply": "2023-11-14T03:38:59.082532Z"
    },
    "papermill": {
     "duration": 0.021925,
     "end_time": "2023-11-14T03:38:59.085180",
     "exception": false,
     "start_time": "2023-11-14T03:38:59.063255",
     "status": "completed"
    },
    "tags": []
   },
   "outputs": [],
   "source": [
    "from sklearn.ensemble import RandomForestClassifier\n",
    "from sklearn.feature_extraction.text import TfidfVectorizer\n",
    "from sklearn.pipeline import Pipeline\n",
    "\n",
    "# define the Classifier\n",
    "classifier = Pipeline([(\"tfidf\",TfidfVectorizer() ),(\"classifier\",RandomForestClassifier(n_estimators=10))])"
   ]
  },
  {
   "cell_type": "code",
   "execution_count": 19,
   "id": "399e73dc",
   "metadata": {
    "execution": {
     "iopub.execute_input": "2023-11-14T03:38:59.111347Z",
     "iopub.status.busy": "2023-11-14T03:38:59.111057Z",
     "iopub.status.idle": "2023-11-14T03:39:07.139067Z",
     "shell.execute_reply": "2023-11-14T03:39:07.138070Z"
    },
    "papermill": {
     "duration": 8.04365,
     "end_time": "2023-11-14T03:39:07.141239",
     "exception": false,
     "start_time": "2023-11-14T03:38:59.097589",
     "status": "completed"
    },
    "tags": []
   },
   "outputs": [
    {
     "data": {
      "text/html": [
       "<style>#sk-container-id-1 {color: black;background-color: white;}#sk-container-id-1 pre{padding: 0;}#sk-container-id-1 div.sk-toggleable {background-color: white;}#sk-container-id-1 label.sk-toggleable__label {cursor: pointer;display: block;width: 100%;margin-bottom: 0;padding: 0.3em;box-sizing: border-box;text-align: center;}#sk-container-id-1 label.sk-toggleable__label-arrow:before {content: \"▸\";float: left;margin-right: 0.25em;color: #696969;}#sk-container-id-1 label.sk-toggleable__label-arrow:hover:before {color: black;}#sk-container-id-1 div.sk-estimator:hover label.sk-toggleable__label-arrow:before {color: black;}#sk-container-id-1 div.sk-toggleable__content {max-height: 0;max-width: 0;overflow: hidden;text-align: left;background-color: #f0f8ff;}#sk-container-id-1 div.sk-toggleable__content pre {margin: 0.2em;color: black;border-radius: 0.25em;background-color: #f0f8ff;}#sk-container-id-1 input.sk-toggleable__control:checked~div.sk-toggleable__content {max-height: 200px;max-width: 100%;overflow: auto;}#sk-container-id-1 input.sk-toggleable__control:checked~label.sk-toggleable__label-arrow:before {content: \"▾\";}#sk-container-id-1 div.sk-estimator input.sk-toggleable__control:checked~label.sk-toggleable__label {background-color: #d4ebff;}#sk-container-id-1 div.sk-label input.sk-toggleable__control:checked~label.sk-toggleable__label {background-color: #d4ebff;}#sk-container-id-1 input.sk-hidden--visually {border: 0;clip: rect(1px 1px 1px 1px);clip: rect(1px, 1px, 1px, 1px);height: 1px;margin: -1px;overflow: hidden;padding: 0;position: absolute;width: 1px;}#sk-container-id-1 div.sk-estimator {font-family: monospace;background-color: #f0f8ff;border: 1px dotted black;border-radius: 0.25em;box-sizing: border-box;margin-bottom: 0.5em;}#sk-container-id-1 div.sk-estimator:hover {background-color: #d4ebff;}#sk-container-id-1 div.sk-parallel-item::after {content: \"\";width: 100%;border-bottom: 1px solid gray;flex-grow: 1;}#sk-container-id-1 div.sk-label:hover label.sk-toggleable__label {background-color: #d4ebff;}#sk-container-id-1 div.sk-serial::before {content: \"\";position: absolute;border-left: 1px solid gray;box-sizing: border-box;top: 0;bottom: 0;left: 50%;z-index: 0;}#sk-container-id-1 div.sk-serial {display: flex;flex-direction: column;align-items: center;background-color: white;padding-right: 0.2em;padding-left: 0.2em;position: relative;}#sk-container-id-1 div.sk-item {position: relative;z-index: 1;}#sk-container-id-1 div.sk-parallel {display: flex;align-items: stretch;justify-content: center;background-color: white;position: relative;}#sk-container-id-1 div.sk-item::before, #sk-container-id-1 div.sk-parallel-item::before {content: \"\";position: absolute;border-left: 1px solid gray;box-sizing: border-box;top: 0;bottom: 0;left: 50%;z-index: -1;}#sk-container-id-1 div.sk-parallel-item {display: flex;flex-direction: column;z-index: 1;position: relative;background-color: white;}#sk-container-id-1 div.sk-parallel-item:first-child::after {align-self: flex-end;width: 50%;}#sk-container-id-1 div.sk-parallel-item:last-child::after {align-self: flex-start;width: 50%;}#sk-container-id-1 div.sk-parallel-item:only-child::after {width: 0;}#sk-container-id-1 div.sk-dashed-wrapped {border: 1px dashed gray;margin: 0 0.4em 0.5em 0.4em;box-sizing: border-box;padding-bottom: 0.4em;background-color: white;}#sk-container-id-1 div.sk-label label {font-family: monospace;font-weight: bold;display: inline-block;line-height: 1.2em;}#sk-container-id-1 div.sk-label-container {text-align: center;}#sk-container-id-1 div.sk-container {/* jupyter's `normalize.less` sets `[hidden] { display: none; }` but bootstrap.min.css set `[hidden] { display: none !important; }` so we also need the `!important` here to be able to override the default hidden behavior on the sphinx rendered scikit-learn.org. See: https://github.com/scikit-learn/scikit-learn/issues/21755 */display: inline-block !important;position: relative;}#sk-container-id-1 div.sk-text-repr-fallback {display: none;}</style><div id=\"sk-container-id-1\" class=\"sk-top-container\"><div class=\"sk-text-repr-fallback\"><pre>Pipeline(steps=[(&#x27;tfidf&#x27;, TfidfVectorizer()),\n",
       "                (&#x27;classifier&#x27;, RandomForestClassifier(n_estimators=10))])</pre><b>In a Jupyter environment, please rerun this cell to show the HTML representation or trust the notebook. <br />On GitHub, the HTML representation is unable to render, please try loading this page with nbviewer.org.</b></div><div class=\"sk-container\" hidden><div class=\"sk-item sk-dashed-wrapped\"><div class=\"sk-label-container\"><div class=\"sk-label sk-toggleable\"><input class=\"sk-toggleable__control sk-hidden--visually\" id=\"sk-estimator-id-1\" type=\"checkbox\" ><label for=\"sk-estimator-id-1\" class=\"sk-toggleable__label sk-toggleable__label-arrow\">Pipeline</label><div class=\"sk-toggleable__content\"><pre>Pipeline(steps=[(&#x27;tfidf&#x27;, TfidfVectorizer()),\n",
       "                (&#x27;classifier&#x27;, RandomForestClassifier(n_estimators=10))])</pre></div></div></div><div class=\"sk-serial\"><div class=\"sk-item\"><div class=\"sk-estimator sk-toggleable\"><input class=\"sk-toggleable__control sk-hidden--visually\" id=\"sk-estimator-id-2\" type=\"checkbox\" ><label for=\"sk-estimator-id-2\" class=\"sk-toggleable__label sk-toggleable__label-arrow\">TfidfVectorizer</label><div class=\"sk-toggleable__content\"><pre>TfidfVectorizer()</pre></div></div></div><div class=\"sk-item\"><div class=\"sk-estimator sk-toggleable\"><input class=\"sk-toggleable__control sk-hidden--visually\" id=\"sk-estimator-id-3\" type=\"checkbox\" ><label for=\"sk-estimator-id-3\" class=\"sk-toggleable__label sk-toggleable__label-arrow\">RandomForestClassifier</label><div class=\"sk-toggleable__content\"><pre>RandomForestClassifier(n_estimators=10)</pre></div></div></div></div></div></div></div>"
      ],
      "text/plain": [
       "Pipeline(steps=[('tfidf', TfidfVectorizer()),\n",
       "                ('classifier', RandomForestClassifier(n_estimators=10))])"
      ]
     },
     "execution_count": 19,
     "metadata": {},
     "output_type": "execute_result"
    }
   ],
   "source": [
    "classifier.fit(X_train,y_train)"
   ]
  },
  {
   "cell_type": "code",
   "execution_count": 20,
   "id": "a6156140",
   "metadata": {
    "execution": {
     "iopub.execute_input": "2023-11-14T03:39:07.168140Z",
     "iopub.status.busy": "2023-11-14T03:39:07.167811Z",
     "iopub.status.idle": "2023-11-14T03:39:08.556901Z",
     "shell.execute_reply": "2023-11-14T03:39:08.555861Z"
    },
    "papermill": {
     "duration": 1.404761,
     "end_time": "2023-11-14T03:39:08.559066",
     "exception": false,
     "start_time": "2023-11-14T03:39:07.154305",
     "status": "completed"
    },
    "tags": []
   },
   "outputs": [
    {
     "data": {
      "text/plain": [
       "0.9314038286235187"
      ]
     },
     "execution_count": 20,
     "metadata": {},
     "output_type": "execute_result"
    }
   ],
   "source": [
    "from sklearn.metrics import classification_report,accuracy_score,confusion_matrix\n",
    "y_pred = classifier.predict(x_test)\n",
    "accuracy_score(y_test,y_pred)"
   ]
  },
  {
   "cell_type": "markdown",
   "id": "2f5ea42f",
   "metadata": {
    "papermill": {
     "duration": 0.01345,
     "end_time": "2023-11-14T03:39:08.586481",
     "exception": false,
     "start_time": "2023-11-14T03:39:08.573031",
     "status": "completed"
    },
    "tags": []
   },
   "source": [
    "# Cara Penggunaan"
   ]
  },
  {
   "cell_type": "code",
   "execution_count": 21,
   "id": "022022c4",
   "metadata": {
    "execution": {
     "iopub.execute_input": "2023-11-14T03:39:08.613373Z",
     "iopub.status.busy": "2023-11-14T03:39:08.613068Z",
     "iopub.status.idle": "2023-11-14T03:39:08.620585Z",
     "shell.execute_reply": "2023-11-14T03:39:08.619906Z"
    },
    "papermill": {
     "duration": 0.02325,
     "end_time": "2023-11-14T03:39:08.622554",
     "exception": false,
     "start_time": "2023-11-14T03:39:08.599304",
     "status": "completed"
    },
    "tags": []
   },
   "outputs": [],
   "source": [
    "new_text = [\"Well well weell\"]\n",
    "predictions = classifier.predict(new_text)"
   ]
  },
  {
   "cell_type": "code",
   "execution_count": 22,
   "id": "1b0f6aff",
   "metadata": {
    "execution": {
     "iopub.execute_input": "2023-11-14T03:39:08.649989Z",
     "iopub.status.busy": "2023-11-14T03:39:08.649677Z",
     "iopub.status.idle": "2023-11-14T03:39:08.654959Z",
     "shell.execute_reply": "2023-11-14T03:39:08.654131Z"
    },
    "papermill": {
     "duration": 0.021376,
     "end_time": "2023-11-14T03:39:08.656967",
     "exception": false,
     "start_time": "2023-11-14T03:39:08.635591",
     "status": "completed"
    },
    "tags": []
   },
   "outputs": [
    {
     "data": {
      "text/plain": [
       "array(['Phishing Email'], dtype=object)"
      ]
     },
     "execution_count": 22,
     "metadata": {},
     "output_type": "execute_result"
    }
   ],
   "source": [
    "predictions"
   ]
  },
  {
   "cell_type": "markdown",
   "id": "23f11103",
   "metadata": {
    "papermill": {
     "duration": 0.012787,
     "end_time": "2023-11-14T03:39:08.683266",
     "exception": false,
     "start_time": "2023-11-14T03:39:08.670479",
     "status": "completed"
    },
    "tags": []
   },
   "source": [
    "# SVM"
   ]
  },
  {
   "cell_type": "code",
   "execution_count": 23,
   "id": "e3d7e4e1",
   "metadata": {
    "execution": {
     "iopub.execute_input": "2023-11-14T03:39:08.709927Z",
     "iopub.status.busy": "2023-11-14T03:39:08.709638Z",
     "iopub.status.idle": "2023-11-14T03:39:08.713975Z",
     "shell.execute_reply": "2023-11-14T03:39:08.713117Z"
    },
    "papermill": {
     "duration": 0.019894,
     "end_time": "2023-11-14T03:39:08.715924",
     "exception": false,
     "start_time": "2023-11-14T03:39:08.696030",
     "status": "completed"
    },
    "tags": []
   },
   "outputs": [],
   "source": [
    "from sklearn.svm import SVC\n",
    "\n",
    "SVM = Pipeline([(\"tfidf\", TfidfVectorizer()),(\"SVM\", SVC(C = 100, gamma = \"auto\"))])"
   ]
  },
  {
   "cell_type": "code",
   "execution_count": 24,
   "id": "7df1409e",
   "metadata": {
    "execution": {
     "iopub.execute_input": "2023-11-14T03:39:08.742609Z",
     "iopub.status.busy": "2023-11-14T03:39:08.742353Z",
     "iopub.status.idle": "2023-11-14T03:40:56.330137Z",
     "shell.execute_reply": "2023-11-14T03:40:56.329140Z"
    },
    "papermill": {
     "duration": 107.618521,
     "end_time": "2023-11-14T03:40:56.347344",
     "exception": false,
     "start_time": "2023-11-14T03:39:08.728823",
     "status": "completed"
    },
    "tags": []
   },
   "outputs": [
    {
     "data": {
      "text/html": [
       "<style>#sk-container-id-2 {color: black;background-color: white;}#sk-container-id-2 pre{padding: 0;}#sk-container-id-2 div.sk-toggleable {background-color: white;}#sk-container-id-2 label.sk-toggleable__label {cursor: pointer;display: block;width: 100%;margin-bottom: 0;padding: 0.3em;box-sizing: border-box;text-align: center;}#sk-container-id-2 label.sk-toggleable__label-arrow:before {content: \"▸\";float: left;margin-right: 0.25em;color: #696969;}#sk-container-id-2 label.sk-toggleable__label-arrow:hover:before {color: black;}#sk-container-id-2 div.sk-estimator:hover label.sk-toggleable__label-arrow:before {color: black;}#sk-container-id-2 div.sk-toggleable__content {max-height: 0;max-width: 0;overflow: hidden;text-align: left;background-color: #f0f8ff;}#sk-container-id-2 div.sk-toggleable__content pre {margin: 0.2em;color: black;border-radius: 0.25em;background-color: #f0f8ff;}#sk-container-id-2 input.sk-toggleable__control:checked~div.sk-toggleable__content {max-height: 200px;max-width: 100%;overflow: auto;}#sk-container-id-2 input.sk-toggleable__control:checked~label.sk-toggleable__label-arrow:before {content: \"▾\";}#sk-container-id-2 div.sk-estimator input.sk-toggleable__control:checked~label.sk-toggleable__label {background-color: #d4ebff;}#sk-container-id-2 div.sk-label input.sk-toggleable__control:checked~label.sk-toggleable__label {background-color: #d4ebff;}#sk-container-id-2 input.sk-hidden--visually {border: 0;clip: rect(1px 1px 1px 1px);clip: rect(1px, 1px, 1px, 1px);height: 1px;margin: -1px;overflow: hidden;padding: 0;position: absolute;width: 1px;}#sk-container-id-2 div.sk-estimator {font-family: monospace;background-color: #f0f8ff;border: 1px dotted black;border-radius: 0.25em;box-sizing: border-box;margin-bottom: 0.5em;}#sk-container-id-2 div.sk-estimator:hover {background-color: #d4ebff;}#sk-container-id-2 div.sk-parallel-item::after {content: \"\";width: 100%;border-bottom: 1px solid gray;flex-grow: 1;}#sk-container-id-2 div.sk-label:hover label.sk-toggleable__label {background-color: #d4ebff;}#sk-container-id-2 div.sk-serial::before {content: \"\";position: absolute;border-left: 1px solid gray;box-sizing: border-box;top: 0;bottom: 0;left: 50%;z-index: 0;}#sk-container-id-2 div.sk-serial {display: flex;flex-direction: column;align-items: center;background-color: white;padding-right: 0.2em;padding-left: 0.2em;position: relative;}#sk-container-id-2 div.sk-item {position: relative;z-index: 1;}#sk-container-id-2 div.sk-parallel {display: flex;align-items: stretch;justify-content: center;background-color: white;position: relative;}#sk-container-id-2 div.sk-item::before, #sk-container-id-2 div.sk-parallel-item::before {content: \"\";position: absolute;border-left: 1px solid gray;box-sizing: border-box;top: 0;bottom: 0;left: 50%;z-index: -1;}#sk-container-id-2 div.sk-parallel-item {display: flex;flex-direction: column;z-index: 1;position: relative;background-color: white;}#sk-container-id-2 div.sk-parallel-item:first-child::after {align-self: flex-end;width: 50%;}#sk-container-id-2 div.sk-parallel-item:last-child::after {align-self: flex-start;width: 50%;}#sk-container-id-2 div.sk-parallel-item:only-child::after {width: 0;}#sk-container-id-2 div.sk-dashed-wrapped {border: 1px dashed gray;margin: 0 0.4em 0.5em 0.4em;box-sizing: border-box;padding-bottom: 0.4em;background-color: white;}#sk-container-id-2 div.sk-label label {font-family: monospace;font-weight: bold;display: inline-block;line-height: 1.2em;}#sk-container-id-2 div.sk-label-container {text-align: center;}#sk-container-id-2 div.sk-container {/* jupyter's `normalize.less` sets `[hidden] { display: none; }` but bootstrap.min.css set `[hidden] { display: none !important; }` so we also need the `!important` here to be able to override the default hidden behavior on the sphinx rendered scikit-learn.org. See: https://github.com/scikit-learn/scikit-learn/issues/21755 */display: inline-block !important;position: relative;}#sk-container-id-2 div.sk-text-repr-fallback {display: none;}</style><div id=\"sk-container-id-2\" class=\"sk-top-container\"><div class=\"sk-text-repr-fallback\"><pre>Pipeline(steps=[(&#x27;tfidf&#x27;, TfidfVectorizer()),\n",
       "                (&#x27;SVM&#x27;, SVC(C=100, gamma=&#x27;auto&#x27;))])</pre><b>In a Jupyter environment, please rerun this cell to show the HTML representation or trust the notebook. <br />On GitHub, the HTML representation is unable to render, please try loading this page with nbviewer.org.</b></div><div class=\"sk-container\" hidden><div class=\"sk-item sk-dashed-wrapped\"><div class=\"sk-label-container\"><div class=\"sk-label sk-toggleable\"><input class=\"sk-toggleable__control sk-hidden--visually\" id=\"sk-estimator-id-4\" type=\"checkbox\" ><label for=\"sk-estimator-id-4\" class=\"sk-toggleable__label sk-toggleable__label-arrow\">Pipeline</label><div class=\"sk-toggleable__content\"><pre>Pipeline(steps=[(&#x27;tfidf&#x27;, TfidfVectorizer()),\n",
       "                (&#x27;SVM&#x27;, SVC(C=100, gamma=&#x27;auto&#x27;))])</pre></div></div></div><div class=\"sk-serial\"><div class=\"sk-item\"><div class=\"sk-estimator sk-toggleable\"><input class=\"sk-toggleable__control sk-hidden--visually\" id=\"sk-estimator-id-5\" type=\"checkbox\" ><label for=\"sk-estimator-id-5\" class=\"sk-toggleable__label sk-toggleable__label-arrow\">TfidfVectorizer</label><div class=\"sk-toggleable__content\"><pre>TfidfVectorizer()</pre></div></div></div><div class=\"sk-item\"><div class=\"sk-estimator sk-toggleable\"><input class=\"sk-toggleable__control sk-hidden--visually\" id=\"sk-estimator-id-6\" type=\"checkbox\" ><label for=\"sk-estimator-id-6\" class=\"sk-toggleable__label sk-toggleable__label-arrow\">SVC</label><div class=\"sk-toggleable__content\"><pre>SVC(C=100, gamma=&#x27;auto&#x27;)</pre></div></div></div></div></div></div></div>"
      ],
      "text/plain": [
       "Pipeline(steps=[('tfidf', TfidfVectorizer()),\n",
       "                ('SVM', SVC(C=100, gamma='auto'))])"
      ]
     },
     "execution_count": 24,
     "metadata": {},
     "output_type": "execute_result"
    }
   ],
   "source": [
    "SVM.fit(X_train,y_train)"
   ]
  },
  {
   "cell_type": "code",
   "execution_count": 25,
   "id": "68780aef",
   "metadata": {
    "execution": {
     "iopub.execute_input": "2023-11-14T03:40:56.376601Z",
     "iopub.status.busy": "2023-11-14T03:40:56.376287Z",
     "iopub.status.idle": "2023-11-14T03:41:45.154755Z",
     "shell.execute_reply": "2023-11-14T03:41:45.153782Z"
    },
    "papermill": {
     "duration": 48.809114,
     "end_time": "2023-11-14T03:41:45.170273",
     "exception": false,
     "start_time": "2023-11-14T03:40:56.361159",
     "status": "completed"
    },
    "tags": []
   },
   "outputs": [
    {
     "data": {
      "text/plain": [
       "0.4990884229717411"
      ]
     },
     "execution_count": 25,
     "metadata": {},
     "output_type": "execute_result"
    }
   ],
   "source": [
    "from sklearn.metrics import classification_report,accuracy_score,confusion_matrix\n",
    "s_ypred = SVM.predict(x_test)\n",
    "accuracy_score(y_test,s_ypred )"
   ]
  },
  {
   "cell_type": "markdown",
   "id": "9e3a7436",
   "metadata": {
    "papermill": {
     "duration": 0.012827,
     "end_time": "2023-11-14T03:41:45.196386",
     "exception": false,
     "start_time": "2023-11-14T03:41:45.183559",
     "status": "completed"
    },
    "tags": []
   },
   "source": [
    "# Using K-Fold and XGBoost"
   ]
  },
  {
   "cell_type": "code",
   "execution_count": 26,
   "id": "dbcda859",
   "metadata": {
    "execution": {
     "iopub.execute_input": "2023-11-14T03:41:45.223590Z",
     "iopub.status.busy": "2023-11-14T03:41:45.223263Z",
     "iopub.status.idle": "2023-11-14T03:41:45.230732Z",
     "shell.execute_reply": "2023-11-14T03:41:45.229926Z"
    },
    "papermill": {
     "duration": 0.023462,
     "end_time": "2023-11-14T03:41:45.232760",
     "exception": false,
     "start_time": "2023-11-14T03:41:45.209298",
     "status": "completed"
    },
    "tags": []
   },
   "outputs": [],
   "source": [
    "def read_data(file_path):\n",
    "    data = pd.read_csv(file_path, encoding='latin-1')\n",
    "    data.dropna(inplace=True)\n",
    "\n",
    "    label_encoder = LabelEncoder()\n",
    "    T_vectorizer = TfidfVectorizer(sublinear_tf=True, ngram_range=(1, 2), max_features=5000)\n",
    "\n",
    "    X = data['Email Text'].values\n",
    "    y = data['Email Type'].values\n",
    "\n",
    "    for i in range(len(y)):\n",
    "        if y[i] == 'Phishing Email':\n",
    "            y[i] = 1\n",
    "        else:\n",
    "            y[i] = 0\n",
    "\n",
    "    y = label_encoder.fit_transform(y)\n",
    "    return X, y\n",
    "\n",
    "\n",
    "def print_report(y_val, y_pred, fold):\n",
    "    print(f'Fold: {fold}')\n",
    "    print(f'Accuracy Score: {accuracy_score(y_val, y_pred)}')\n",
    "    print(f'Confusion Matrix: \\n {confusion_matrix(y_val, y_pred)}')\n",
    "    print(f'Classification Report: \\n {classification_report(y_val, y_pred)}')"
   ]
  },
  {
   "cell_type": "code",
   "execution_count": 27,
   "id": "68ee273b",
   "metadata": {
    "execution": {
     "iopub.execute_input": "2023-11-14T03:41:45.260537Z",
     "iopub.status.busy": "2023-11-14T03:41:45.260264Z",
     "iopub.status.idle": "2023-11-14T03:41:45.808590Z",
     "shell.execute_reply": "2023-11-14T03:41:45.807597Z"
    },
    "papermill": {
     "duration": 0.56453,
     "end_time": "2023-11-14T03:41:45.810785",
     "exception": false,
     "start_time": "2023-11-14T03:41:45.246255",
     "status": "completed"
    },
    "tags": []
   },
   "outputs": [
    {
     "name": "stdout",
     "output_type": "stream",
     "text": [
      "   Unnamed: 0                                         Email Text  \\\n",
      "0           0  re : 6 . 1100 , disc : uniformitarianism , re ...   \n",
      "1           1  the other side of * galicismos * * galicismo *...   \n",
      "2           2  re : equistar deal tickets are you still avail...   \n",
      "3           3  \\nHello I am your hot lil horny toy.\\n    I am...   \n",
      "4           4  software at incredibly low prices ( 86 % lower...   \n",
      "\n",
      "       Email Type  \n",
      "0      Safe Email  \n",
      "1      Safe Email  \n",
      "2      Safe Email  \n",
      "3  Phishing Email  \n",
      "4  Phishing Email  \n",
      "Email Type\n",
      "Safe Email        11322\n",
      "Phishing Email     7328\n",
      "Name: count, dtype: int64\n"
     ]
    }
   ],
   "source": [
    "data = pd.read_csv('/kaggle/input/phishingemails/Phishing_Email.csv')\n",
    "print(data.head())\n",
    "print(data['Email Type'].value_counts())"
   ]
  },
  {
   "cell_type": "code",
   "execution_count": 28,
   "id": "b83c7256",
   "metadata": {
    "execution": {
     "iopub.execute_input": "2023-11-14T03:41:45.839665Z",
     "iopub.status.busy": "2023-11-14T03:41:45.839280Z",
     "iopub.status.idle": "2023-11-14T03:41:46.362706Z",
     "shell.execute_reply": "2023-11-14T03:41:46.361651Z"
    },
    "papermill": {
     "duration": 0.53989,
     "end_time": "2023-11-14T03:41:46.364785",
     "exception": false,
     "start_time": "2023-11-14T03:41:45.824895",
     "status": "completed"
    },
    "tags": []
   },
   "outputs": [
    {
     "name": "stdout",
     "output_type": "stream",
     "text": [
      "(18634,) (18634,)\n"
     ]
    }
   ],
   "source": [
    "X, y = read_data('/kaggle/input/phishingemails/Phishing_Email.csv')\n",
    "num_folds = 5\n",
    "kfold = KFold(n_splits=num_folds, shuffle=True, random_state=42)\n",
    "\n",
    "print(X.shape, y.shape)"
   ]
  },
  {
   "cell_type": "code",
   "execution_count": 29,
   "id": "ec0241b8",
   "metadata": {
    "execution": {
     "iopub.execute_input": "2023-11-14T03:41:46.393017Z",
     "iopub.status.busy": "2023-11-14T03:41:46.392712Z",
     "iopub.status.idle": "2023-11-14T03:52:07.561569Z",
     "shell.execute_reply": "2023-11-14T03:52:07.556693Z"
    },
    "papermill": {
     "duration": 621.196306,
     "end_time": "2023-11-14T03:52:07.574930",
     "exception": false,
     "start_time": "2023-11-14T03:41:46.378624",
     "status": "completed"
    },
    "tags": []
   },
   "outputs": [
    {
     "name": "stdout",
     "output_type": "stream",
     "text": [
      "Fold: 1\n",
      "Accuracy Score: 0.9691440837134424\n",
      "Confusion Matrix: \n",
      " [[2115   94]\n",
      " [  21 1497]]\n",
      "Classification Report: \n",
      "               precision    recall  f1-score   support\n",
      "\n",
      "           0       0.99      0.96      0.97      2209\n",
      "           1       0.94      0.99      0.96      1518\n",
      "\n",
      "    accuracy                           0.97      3727\n",
      "   macro avg       0.97      0.97      0.97      3727\n",
      "weighted avg       0.97      0.97      0.97      3727\n",
      "\n",
      "Fold: 2\n",
      "Accuracy Score: 0.9702173329755835\n",
      "Confusion Matrix: \n",
      " [[2196   83]\n",
      " [  28 1420]]\n",
      "Classification Report: \n",
      "               precision    recall  f1-score   support\n",
      "\n",
      "           0       0.99      0.96      0.98      2279\n",
      "           1       0.94      0.98      0.96      1448\n",
      "\n",
      "    accuracy                           0.97      3727\n",
      "   macro avg       0.97      0.97      0.97      3727\n",
      "weighted avg       0.97      0.97      0.97      3727\n",
      "\n",
      "Fold: 3\n",
      "Accuracy Score: 0.9653877112959485\n",
      "Confusion Matrix: \n",
      " [[2174   86]\n",
      " [  43 1424]]\n",
      "Classification Report: \n",
      "               precision    recall  f1-score   support\n",
      "\n",
      "           0       0.98      0.96      0.97      2260\n",
      "           1       0.94      0.97      0.96      1467\n",
      "\n",
      "    accuracy                           0.97      3727\n",
      "   macro avg       0.96      0.97      0.96      3727\n",
      "weighted avg       0.97      0.97      0.97      3727\n",
      "\n",
      "Fold: 4\n",
      "Accuracy Score: 0.9750469546552186\n",
      "Confusion Matrix: \n",
      " [[2260   72]\n",
      " [  21 1374]]\n",
      "Classification Report: \n",
      "               precision    recall  f1-score   support\n",
      "\n",
      "           0       0.99      0.97      0.98      2332\n",
      "           1       0.95      0.98      0.97      1395\n",
      "\n",
      "    accuracy                           0.98      3727\n",
      "   macro avg       0.97      0.98      0.97      3727\n",
      "weighted avg       0.98      0.98      0.98      3727\n",
      "\n",
      "Fold: 5\n",
      "Accuracy Score: 0.9712828770799785\n",
      "Confusion Matrix: \n",
      " [[2161   81]\n",
      " [  26 1458]]\n",
      "Classification Report: \n",
      "               precision    recall  f1-score   support\n",
      "\n",
      "           0       0.99      0.96      0.98      2242\n",
      "           1       0.95      0.98      0.96      1484\n",
      "\n",
      "    accuracy                           0.97      3726\n",
      "   macro avg       0.97      0.97      0.97      3726\n",
      "weighted avg       0.97      0.97      0.97      3726\n",
      "\n"
     ]
    }
   ],
   "source": [
    "fold = 1\n",
    "\n",
    "for train_index, val_index in kfold.split(X):\n",
    "\n",
    "  X_train, X_val = X[train_index], X[val_index]\n",
    "  y_train, y_val = y[train_index], y[val_index]\n",
    "\n",
    "  vectorizer = TfidfVectorizer(sublinear_tf=True, ngram_range=(1, 3), max_features=10000)\n",
    "  vectorizer.fit(X_train)\n",
    "\n",
    "  X_train = vectorizer.transform(X_train)\n",
    "  X_val = vectorizer.transform(X_val)\n",
    "  \n",
    "  model = XGBClassifier(n_estimators=800, learning_rate=0.1, max_depth=4, colsample_bytree=0.2, n_jobs=-1, random_state=42)\n",
    "  model.fit(X_train, y_train)\n",
    "  y_pred = model.predict(X_val)\n",
    "\n",
    "  print_report(y_val, y_pred, fold)\n",
    "  fold += 1"
   ]
  },
  {
   "cell_type": "code",
   "execution_count": 30,
   "id": "b93a61a8",
   "metadata": {
    "execution": {
     "iopub.execute_input": "2023-11-14T03:52:07.605707Z",
     "iopub.status.busy": "2023-11-14T03:52:07.605404Z",
     "iopub.status.idle": "2023-11-14T03:52:07.611569Z",
     "shell.execute_reply": "2023-11-14T03:52:07.610721Z"
    },
    "papermill": {
     "duration": 0.023926,
     "end_time": "2023-11-14T03:52:07.613709",
     "exception": false,
     "start_time": "2023-11-14T03:52:07.589783",
     "status": "completed"
    },
    "tags": []
   },
   "outputs": [
    {
     "data": {
      "text/plain": [
       "<1x10000 sparse matrix of type '<class 'numpy.float64'>'\n",
       "\twith 52 stored elements in Compressed Sparse Row format>"
      ]
     },
     "execution_count": 30,
     "metadata": {},
     "output_type": "execute_result"
    }
   ],
   "source": [
    "X_train[1]"
   ]
  },
  {
   "cell_type": "markdown",
   "id": "3fabfabb",
   "metadata": {
    "papermill": {
     "duration": 0.013622,
     "end_time": "2023-11-14T03:52:07.641347",
     "exception": false,
     "start_time": "2023-11-14T03:52:07.627725",
     "status": "completed"
    },
    "tags": []
   },
   "source": [
    "# Cara Penggunaan\n",
    "1 = \"Phising Email\"\n",
    "\n",
    "0 = \"Safe Email\""
   ]
  },
  {
   "cell_type": "code",
   "execution_count": 31,
   "id": "33b685c2",
   "metadata": {
    "execution": {
     "iopub.execute_input": "2023-11-14T03:52:07.670539Z",
     "iopub.status.busy": "2023-11-14T03:52:07.670250Z",
     "iopub.status.idle": "2023-11-14T03:52:07.681076Z",
     "shell.execute_reply": "2023-11-14T03:52:07.680389Z"
    },
    "papermill": {
     "duration": 0.030339,
     "end_time": "2023-11-14T03:52:07.685428",
     "exception": false,
     "start_time": "2023-11-14T03:52:07.655089",
     "status": "completed"
    },
    "tags": []
   },
   "outputs": [
    {
     "name": "stdout",
     "output_type": "stream",
     "text": [
      "[1]\n"
     ]
    }
   ],
   "source": [
    "new_text = [\"Hello this is definetly not a scam\"]\n",
    "\n",
    "# Transform the new text using the same vectorizer\n",
    "new_text_transformed = vectorizer.transform(new_text)\n",
    "\n",
    "# Make predictions\n",
    "predictions = model.predict(new_text_transformed)\n",
    "\n",
    "print(predictions)"
   ]
  },
  {
   "cell_type": "code",
   "execution_count": null,
   "id": "4b5fd71f",
   "metadata": {
    "papermill": {
     "duration": 0.014119,
     "end_time": "2023-11-14T03:52:07.714771",
     "exception": false,
     "start_time": "2023-11-14T03:52:07.700652",
     "status": "completed"
    },
    "tags": []
   },
   "outputs": [],
   "source": []
  },
  {
   "cell_type": "markdown",
   "id": "9f9dd964",
   "metadata": {
    "papermill": {
     "duration": 0.014112,
     "end_time": "2023-11-14T03:52:07.743142",
     "exception": false,
     "start_time": "2023-11-14T03:52:07.729030",
     "status": "completed"
    },
    "tags": []
   },
   "source": [
    "## Using Hyperparameter Tuning with Boosting Algorithms\n",
    "\n",
    "Boosting algorithms, such as AdaBoost, Gradient Boosting, and XGBoost, are powerful techniques used in machine learning to improve model performance and predictive accuracy. While boosting algorithms offer great potential, their effectiveness relies heavily on carefully selecting and tuning hyperparameters.\n",
    "\n",
    "Hyperparameter tuning refers to the process of finding the optimal values for the hyperparameters of a model. Boosting algorithms have several hyperparameters that control various aspects of the boosting process, such as the number of weak learners, learning rate, maximum tree depth, and regularization parameters.\n",
    "\n",
    "Here are some reasons why hyperparameter tuning is crucial when using boosting algorithms:\n",
    "\n",
    "1. **Improved Model Performance**: By fine-tuning the hyperparameters, we can achieve better model performance in terms of accuracy, precision, recall, and overall predictive power. Finding the right combination of hyperparameter values can help boost the model's effectiveness in capturing complex patterns and avoiding overfitting.\n",
    "\n",
    "2. **Controlled Model Complexity**: Boosting algorithms can be prone to overfitting if the hyperparameters are not properly set. Hyperparameter tuning allows us to control the complexity of the model and strike a balance between underfitting and overfitting. By finding the optimal values, we can ensure a model that generalizes well to unseen data.\n",
    "\n",
    "3. **Efficient Resource Utilization**: Boosting algorithms can be computationally expensive, especially when dealing with large datasets or complex models. Hyperparameter tuning helps in optimizing the resources utilized by the model. By selecting the right hyperparameter values, we can achieve a good trade-off between model performance and computational efficiency.\n",
    "\n",
    "4. **Adaptability to Different Datasets**: Different datasets may require different hyperparameter settings to achieve optimal performance. Hyperparameter tuning allows us to adapt the boosting algorithm to the specific characteristics of our dataset. By systematically searching and experimenting with different hyperparameter values, we can find the best configuration for each specific use case.\n",
    "\n",
    "In this notebook, we will explore various techniques and methodologies for hyperparameter tuning with boosting algorithms. By leveraging these techniques, we aim to enhance the performance and robustness of our models, ultimately leading to more accurate predictions and valuable insights.\n",
    "\n",
    "Let's dive into the world of hyperparameter tuning with boosting algorithms and unlock their full potential!\n"
   ]
  },
  {
   "cell_type": "code",
   "execution_count": null,
   "id": "4a3f87e9",
   "metadata": {
    "papermill": {
     "duration": 0.014366,
     "end_time": "2023-11-14T03:52:07.771903",
     "exception": false,
     "start_time": "2023-11-14T03:52:07.757537",
     "status": "completed"
    },
    "tags": []
   },
   "outputs": [],
   "source": []
  }
 ],
 "metadata": {
  "kernelspec": {
   "display_name": "Python 3",
   "language": "python",
   "name": "python3"
  },
  "language_info": {
   "codemirror_mode": {
    "name": "ipython",
    "version": 3
   },
   "file_extension": ".py",
   "mimetype": "text/x-python",
   "name": "python",
   "nbconvert_exporter": "python",
   "pygments_lexer": "ipython3",
   "version": "3.10.12"
  },
  "papermill": {
   "default_parameters": {},
   "duration": 798.282462,
   "end_time": "2023-11-14T03:52:08.909075",
   "environment_variables": {},
   "exception": null,
   "input_path": "__notebook__.ipynb",
   "output_path": "__notebook__.ipynb",
   "parameters": {},
   "start_time": "2023-11-14T03:38:50.626613",
   "version": "2.4.0"
  }
 },
 "nbformat": 4,
 "nbformat_minor": 5
}
