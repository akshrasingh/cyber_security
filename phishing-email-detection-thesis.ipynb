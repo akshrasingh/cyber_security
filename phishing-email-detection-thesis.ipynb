{
 "cells": [
  {
   "cell_type": "markdown",
   "id": "9d99ac86",
   "metadata": {
    "papermill": {
     "duration": 0.010678,
     "end_time": "2023-11-14T03:38:54.250073",
     "exception": false,
     "start_time": "2023-11-14T03:38:54.239395",
     "status": "completed"
    },
    "tags": []
   },
   "source": [
    "\n",
    "    \n",
    "<p style=\"font-family:Calibri; font-weight:bold; letter-spacing: 2px; font-size:250%; text-align:left;padding: 0px; border-bottom: 3px solid #003300\"><b>About the Dataset</b></p>\n",
    "Phishing emails have become a significant threat to individuals and organizations worldwide. These deceptive emails aim to trick recipients into divulging sensitive information or performing harmful actions. Detecting and preventing phishing emails is crucial to safeguarding personal and financial security. In recent years, machine learning techniques have emerged as a promising approach to combat this growing menace.\n",
    "The dataset specifies the email text body the type of emails which can be used to detect phishing emails by extensive analytics of the email text and classifying those using machine learning"
   ]
  },
  {
   "cell_type": "markdown",
   "id": "74eeb94a",
   "metadata": {
    "papermill": {
     "duration": 0.009765,
     "end_time": "2023-11-14T03:38:54.270221",
     "exception": false,
     "start_time": "2023-11-14T03:38:54.260456",
     "status": "completed"
    },
    "tags": []
   },
   "source": [
    "\n",
    "    \n",
    "<p style=\"font-family:Calibri; font-weight:bold; letter-spacing: 2px; font-size:250%; text-align:left;padding: 0px; border-bottom: 3px solid #003300\"><b>Exploring the Dataset</b></p>\n",
    "\n",
    "In this notebook, we will dive into the exciting world of data exploration and analysis. We have a collection of diverse datasets at our disposal, ranging from numerical data to text and images. Through a series of Python code and visualizations, we will uncover valuable insights, patterns, and trends hidden within the data.\n",
    "\n",
    "The goals of this notebook are as follows:\n",
    "- Understand the structure and format of the datasets\n",
    "- Perform data cleaning and preprocessing\n",
    "- Conduct exploratory data analysis (EDA) to gain initial insights\n",
    "- Visualize the data using various plots and charts\n",
    "- Identify correlations and relationships between variables\n",
    "- Extract meaningful information to inform further analysis or decision-making\n",
    "\n",
    "Throughout the notebook, we will use popular Python libraries such as Pandas, NumPy, and Matplotlib to manipulate and visualize the data. Additionally, we may leverage specialized libraries depending on the nature of the datasets, such as Seaborn for statistical visualization or NLTK for natural language processing.\n",
    "\n",
    "So, let's get started on our journey of exploring these fascinating datasets and uncovering the secrets they hold!\n",
    "    \n"
   ]
  },
  {
   "cell_type": "markdown",
   "id": "0c4d5d9e",
   "metadata": {
    "papermill": {
     "duration": 0.010209,
     "end_time": "2023-11-14T03:38:54.290659",
     "exception": false,
     "start_time": "2023-11-14T03:38:54.280450",
     "status": "completed"
    },
    "tags": []
   },
   "source": [
    "<div style=\"display: flex; justify-content: center;\">\n",
    "  <img src=\"https://media.tenor.com/SRy6HR5ibvsAAAAC/phishing-phisher.gif\" alt=\"Your GIF\" width=\"300\" height=\"200\" />\n",
    "</div>"
   ]
  },
  {
   "cell_type": "code",
<<<<<<< Updated upstream
   "execution_count": 2,
=======
   "execution_count": 3,
>>>>>>> Stashed changes
   "id": "3db2b033",
   "metadata": {
    "_cell_guid": "b1076dfc-b9ad-4769-8c92-a6c4dae69d19",
    "_uuid": "8f2839f25d086af736a60e9eeb907d3b93b6e0e5",
    "execution": {
     "iopub.execute_input": "2023-11-14T03:38:54.313790Z",
     "iopub.status.busy": "2023-11-14T03:38:54.313071Z",
     "iopub.status.idle": "2023-11-14T03:38:56.754966Z",
     "shell.execute_reply": "2023-11-14T03:38:56.754177Z"
    },
    "papermill": {
     "duration": 2.455804,
     "end_time": "2023-11-14T03:38:56.757373",
     "exception": false,
     "start_time": "2023-11-14T03:38:54.301569",
     "status": "completed"
    },
    "tags": []
   },
<<<<<<< Updated upstream
   "outputs": [
    {
     "name": "stdout",
     "output_type": "stream",
     "text": [
      "Requirement already satisfied: xgboost in c:\\users\\aafta\\appdata\\local\\programs\\python\\python312\\lib\\site-packages (2.1.1)\n",
      "Requirement already satisfied: numpy in c:\\users\\aafta\\appdata\\local\\programs\\python\\python312\\lib\\site-packages (from xgboost) (1.26.4)\n",
      "Requirement already satisfied: scipy in c:\\users\\aafta\\appdata\\local\\programs\\python\\python312\\lib\\site-packages (from xgboost) (1.14.1)\n"
     ]
    }
   ],
=======
   "outputs": [],
>>>>>>> Stashed changes
   "source": [
    "import pandas as pd\n",
    "import matplotlib.pyplot as plt\n",
    "import numpy as np\n",
    "from sklearn.tree import DecisionTreeClassifier\n",
    "from sklearn.feature_extraction.text import TfidfVectorizer\n",
    "from sklearn.ensemble import RandomForestClassifier, AdaBoostClassifier, GradientBoostingClassifier\n",
    "from sklearn.model_selection import KFold\n",
    "from sklearn.preprocessing import LabelEncoder\n",
    "from sklearn.metrics import accuracy_score, confusion_matrix, classification_report\n",
    "!pip install xgboost\n",
    "\n",
    "from xgboost import XGBClassifier"
   ]
  },
  {
   "cell_type": "code",
<<<<<<< Updated upstream
   "execution_count": 3,
=======
   "execution_count": 4,
>>>>>>> Stashed changes
   "id": "288964fa",
   "metadata": {
    "execution": {
     "iopub.execute_input": "2023-11-14T03:38:56.780678Z",
     "iopub.status.busy": "2023-11-14T03:38:56.780288Z",
     "iopub.status.idle": "2023-11-14T03:38:58.097495Z",
     "shell.execute_reply": "2023-11-14T03:38:58.096545Z"
    },
    "papermill": {
     "duration": 1.331286,
     "end_time": "2023-11-14T03:38:58.099721",
     "exception": false,
     "start_time": "2023-11-14T03:38:56.768435",
     "status": "completed"
    },
    "tags": []
   },
   "outputs": [
    {
     "data": {
      "text/html": [
       "<div>\n",
       "<style scoped>\n",
       "    .dataframe tbody tr th:only-of-type {\n",
       "        vertical-align: middle;\n",
       "    }\n",
       "\n",
       "    .dataframe tbody tr th {\n",
       "        vertical-align: top;\n",
       "    }\n",
       "\n",
       "    .dataframe thead th {\n",
       "        text-align: right;\n",
       "    }\n",
       "</style>\n",
       "<table border=\"1\" class=\"dataframe\">\n",
       "  <thead>\n",
       "    <tr style=\"text-align: right;\">\n",
       "      <th></th>\n",
       "      <th>Unnamed: 0</th>\n",
       "      <th>Email Text</th>\n",
       "      <th>Email Type</th>\n",
       "    </tr>\n",
       "  </thead>\n",
       "  <tbody>\n",
       "    <tr>\n",
       "      <th>0</th>\n",
       "      <td>0</td>\n",
       "      <td>re : 6 . 1100 , disc : uniformitarianism , re ...</td>\n",
       "      <td>Safe Email</td>\n",
       "    </tr>\n",
       "    <tr>\n",
       "      <th>1</th>\n",
       "      <td>1</td>\n",
       "      <td>the other side of * galicismos * * galicismo *...</td>\n",
       "      <td>Safe Email</td>\n",
       "    </tr>\n",
       "    <tr>\n",
       "      <th>2</th>\n",
       "      <td>2</td>\n",
       "      <td>re : equistar deal tickets are you still avail...</td>\n",
       "      <td>Safe Email</td>\n",
       "    </tr>\n",
       "    <tr>\n",
       "      <th>3</th>\n",
       "      <td>3</td>\n",
       "      <td>\\r\\nHello I am your hot lil horny toy.\\r\\n    ...</td>\n",
       "      <td>Phishing Email</td>\n",
       "    </tr>\n",
       "    <tr>\n",
       "      <th>4</th>\n",
       "      <td>4</td>\n",
       "      <td>software at incredibly low prices ( 86 % lower...</td>\n",
       "      <td>Phishing Email</td>\n",
       "    </tr>\n",
       "  </tbody>\n",
       "</table>\n",
       "</div>"
      ],
      "text/plain": [
       "   Unnamed: 0                                         Email Text  \\\n",
       "0           0  re : 6 . 1100 , disc : uniformitarianism , re ...   \n",
       "1           1  the other side of * galicismos * * galicismo *...   \n",
       "2           2  re : equistar deal tickets are you still avail...   \n",
       "3           3  \\r\\nHello I am your hot lil horny toy.\\r\\n    ...   \n",
       "4           4  software at incredibly low prices ( 86 % lower...   \n",
       "\n",
       "       Email Type  \n",
       "0      Safe Email  \n",
       "1      Safe Email  \n",
       "2      Safe Email  \n",
       "3  Phishing Email  \n",
       "4  Phishing Email  "
      ]
     },
<<<<<<< Updated upstream
     "execution_count": 3,
=======
     "execution_count": 4,
>>>>>>> Stashed changes
     "metadata": {},
     "output_type": "execute_result"
    }
   ],
   "source": [
    "df= pd.read_csv(\"Phishing_Email.csv\")\n",
    "df.head()"
   ]
  },
  {
   "cell_type": "code",
<<<<<<< Updated upstream
   "execution_count": 4,
=======
   "execution_count": 5,
>>>>>>> Stashed changes
   "id": "0a3ea752",
   "metadata": {
    "execution": {
     "iopub.execute_input": "2023-11-14T03:38:58.122272Z",
     "iopub.status.busy": "2023-11-14T03:38:58.121987Z",
     "iopub.status.idle": "2023-11-14T03:38:58.137412Z",
     "shell.execute_reply": "2023-11-14T03:38:58.136692Z"
    },
    "papermill": {
     "duration": 0.028865,
     "end_time": "2023-11-14T03:38:58.139366",
     "exception": false,
     "start_time": "2023-11-14T03:38:58.110501",
     "status": "completed"
    },
    "tags": []
   },
   "outputs": [],
   "source": [
    "df_safe_email = df[df['Email Type'] == \"Safe Email\"]\n",
    "df_phishing_email = df[df['Email Type'] == \"Phishing Email\"]"
   ]
  },
  {
   "cell_type": "code",
<<<<<<< Updated upstream
   "execution_count": 5,
=======
   "execution_count": 6,
>>>>>>> Stashed changes
   "id": "a8410a87",
   "metadata": {
    "execution": {
     "iopub.execute_input": "2023-11-14T03:38:58.161135Z",
     "iopub.status.busy": "2023-11-14T03:38:58.160819Z",
     "iopub.status.idle": "2023-11-14T03:38:58.171922Z",
     "shell.execute_reply": "2023-11-14T03:38:58.171026Z"
    },
    "papermill": {
     "duration": 0.024096,
     "end_time": "2023-11-14T03:38:58.173815",
     "exception": false,
     "start_time": "2023-11-14T03:38:58.149719",
     "status": "completed"
    },
    "tags": []
   },
   "outputs": [
    {
     "data": {
      "text/plain": [
       "Unnamed: 0     0\n",
       "Email Text    16\n",
       "Email Type     0\n",
       "dtype: int64"
      ]
     },
<<<<<<< Updated upstream
     "execution_count": 5,
=======
     "execution_count": 6,
>>>>>>> Stashed changes
     "metadata": {},
     "output_type": "execute_result"
    }
   ],
   "source": [
    "df.isna().sum()"
   ]
  },
  {
   "cell_type": "code",
<<<<<<< Updated upstream
   "execution_count": 6,
=======
   "execution_count": 7,
>>>>>>> Stashed changes
   "id": "b35b0bc3",
   "metadata": {
    "execution": {
     "iopub.execute_input": "2023-11-14T03:38:58.195867Z",
     "iopub.status.busy": "2023-11-14T03:38:58.195582Z",
     "iopub.status.idle": "2023-11-14T03:38:58.211021Z",
     "shell.execute_reply": "2023-11-14T03:38:58.210182Z"
    },
    "papermill": {
     "duration": 0.028665,
     "end_time": "2023-11-14T03:38:58.213063",
     "exception": false,
     "start_time": "2023-11-14T03:38:58.184398",
     "status": "completed"
    },
    "tags": []
   },
   "outputs": [
    {
     "data": {
      "text/html": [
       "<div>\n",
       "<style scoped>\n",
       "    .dataframe tbody tr th:only-of-type {\n",
       "        vertical-align: middle;\n",
       "    }\n",
       "\n",
       "    .dataframe tbody tr th {\n",
       "        vertical-align: top;\n",
       "    }\n",
       "\n",
       "    .dataframe thead th {\n",
       "        text-align: right;\n",
       "    }\n",
       "</style>\n",
       "<table border=\"1\" class=\"dataframe\">\n",
       "  <thead>\n",
       "    <tr style=\"text-align: right;\">\n",
       "      <th></th>\n",
       "      <th>Unnamed: 0</th>\n",
       "      <th>Email Text</th>\n",
       "      <th>Email Type</th>\n",
       "    </tr>\n",
       "  </thead>\n",
       "  <tbody>\n",
       "    <tr>\n",
       "      <th>31</th>\n",
       "      <td>31</td>\n",
       "      <td>NaN</td>\n",
       "      <td>Phishing Email</td>\n",
       "    </tr>\n",
       "    <tr>\n",
       "      <th>387</th>\n",
       "      <td>387</td>\n",
       "      <td>NaN</td>\n",
       "      <td>Phishing Email</td>\n",
       "    </tr>\n",
       "    <tr>\n",
       "      <th>1883</th>\n",
       "      <td>1883</td>\n",
       "      <td>NaN</td>\n",
       "      <td>Phishing Email</td>\n",
       "    </tr>\n",
       "    <tr>\n",
       "      <th>2049</th>\n",
       "      <td>2049</td>\n",
       "      <td>NaN</td>\n",
       "      <td>Phishing Email</td>\n",
       "    </tr>\n",
       "    <tr>\n",
       "      <th>2451</th>\n",
       "      <td>2451</td>\n",
       "      <td>NaN</td>\n",
       "      <td>Phishing Email</td>\n",
       "    </tr>\n",
       "    <tr>\n",
       "      <th>2972</th>\n",
       "      <td>2972</td>\n",
       "      <td>NaN</td>\n",
       "      <td>Phishing Email</td>\n",
       "    </tr>\n",
       "    <tr>\n",
       "      <th>3627</th>\n",
       "      <td>3627</td>\n",
       "      <td>NaN</td>\n",
       "      <td>Phishing Email</td>\n",
       "    </tr>\n",
       "    <tr>\n",
       "      <th>3806</th>\n",
       "      <td>3806</td>\n",
       "      <td>NaN</td>\n",
       "      <td>Phishing Email</td>\n",
       "    </tr>\n",
       "    <tr>\n",
       "      <th>5763</th>\n",
       "      <td>5763</td>\n",
       "      <td>NaN</td>\n",
       "      <td>Phishing Email</td>\n",
       "    </tr>\n",
       "    <tr>\n",
       "      <th>6299</th>\n",
       "      <td>6299</td>\n",
       "      <td>NaN</td>\n",
       "      <td>Phishing Email</td>\n",
       "    </tr>\n",
       "    <tr>\n",
       "      <th>6821</th>\n",
       "      <td>6822</td>\n",
       "      <td>NaN</td>\n",
       "      <td>Phishing Email</td>\n",
       "    </tr>\n",
       "    <tr>\n",
       "      <th>8594</th>\n",
       "      <td>8595</td>\n",
       "      <td>NaN</td>\n",
       "      <td>Phishing Email</td>\n",
       "    </tr>\n",
       "    <tr>\n",
       "      <th>9999</th>\n",
       "      <td>10000</td>\n",
       "      <td>NaN</td>\n",
       "      <td>Phishing Email</td>\n",
       "    </tr>\n",
       "    <tr>\n",
       "      <th>11069</th>\n",
       "      <td>11070</td>\n",
       "      <td>NaN</td>\n",
       "      <td>Phishing Email</td>\n",
       "    </tr>\n",
       "    <tr>\n",
       "      <th>11320</th>\n",
       "      <td>11321</td>\n",
       "      <td>NaN</td>\n",
       "      <td>Phishing Email</td>\n",
       "    </tr>\n",
       "    <tr>\n",
       "      <th>13843</th>\n",
       "      <td>13844</td>\n",
       "      <td>NaN</td>\n",
       "      <td>Phishing Email</td>\n",
       "    </tr>\n",
       "  </tbody>\n",
       "</table>\n",
       "</div>"
      ],
      "text/plain": [
       "       Unnamed: 0 Email Text      Email Type\n",
       "31             31        NaN  Phishing Email\n",
       "387           387        NaN  Phishing Email\n",
       "1883         1883        NaN  Phishing Email\n",
       "2049         2049        NaN  Phishing Email\n",
       "2451         2451        NaN  Phishing Email\n",
       "2972         2972        NaN  Phishing Email\n",
       "3627         3627        NaN  Phishing Email\n",
       "3806         3806        NaN  Phishing Email\n",
       "5763         5763        NaN  Phishing Email\n",
       "6299         6299        NaN  Phishing Email\n",
       "6821         6822        NaN  Phishing Email\n",
       "8594         8595        NaN  Phishing Email\n",
       "9999        10000        NaN  Phishing Email\n",
       "11069       11070        NaN  Phishing Email\n",
       "11320       11321        NaN  Phishing Email\n",
       "13843       13844        NaN  Phishing Email"
      ]
     },
<<<<<<< Updated upstream
     "execution_count": 6,
=======
     "execution_count": 7,
>>>>>>> Stashed changes
     "metadata": {},
     "output_type": "execute_result"
    }
   ],
   "source": [
    "nan_rows = df[df.isna().any(axis=1)]\n",
    "nan_rows"
   ]
  },
  {
   "cell_type": "code",
<<<<<<< Updated upstream
   "execution_count": 7,
=======
   "execution_count": 8,
>>>>>>> Stashed changes
   "id": "2ea12456",
   "metadata": {
    "execution": {
     "iopub.execute_input": "2023-11-14T03:38:58.235960Z",
     "iopub.status.busy": "2023-11-14T03:38:58.235667Z",
     "iopub.status.idle": "2023-11-14T03:38:58.244754Z",
     "shell.execute_reply": "2023-11-14T03:38:58.243940Z"
    },
    "papermill": {
     "duration": 0.022456,
     "end_time": "2023-11-14T03:38:58.246601",
     "exception": false,
     "start_time": "2023-11-14T03:38:58.224145",
     "status": "completed"
    },
    "tags": []
   },
   "outputs": [
    {
     "data": {
      "text/plain": [
       "Unnamed: 0    0\n",
       "Email Text    0\n",
       "Email Type    0\n",
       "dtype: int64"
      ]
     },
<<<<<<< Updated upstream
     "execution_count": 7,
=======
     "execution_count": 8,
>>>>>>> Stashed changes
     "metadata": {},
     "output_type": "execute_result"
    }
   ],
   "source": [
    "df_safe_email.isna().sum()"
   ]
  },
  {
   "cell_type": "code",
<<<<<<< Updated upstream
   "execution_count": 8,
=======
   "execution_count": 9,
>>>>>>> Stashed changes
   "id": "cb96bfd1",
   "metadata": {
    "execution": {
     "iopub.execute_input": "2023-11-14T03:38:58.268967Z",
     "iopub.status.busy": "2023-11-14T03:38:58.268669Z",
     "iopub.status.idle": "2023-11-14T03:38:58.276918Z",
     "shell.execute_reply": "2023-11-14T03:38:58.276120Z"
    },
    "papermill": {
     "duration": 0.021541,
     "end_time": "2023-11-14T03:38:58.278763",
     "exception": false,
     "start_time": "2023-11-14T03:38:58.257222",
     "status": "completed"
    },
    "tags": []
   },
   "outputs": [
    {
     "data": {
      "text/plain": [
       "Unnamed: 0     0\n",
       "Email Text    16\n",
       "Email Type     0\n",
       "dtype: int64"
      ]
     },
<<<<<<< Updated upstream
     "execution_count": 8,
=======
     "execution_count": 9,
>>>>>>> Stashed changes
     "metadata": {},
     "output_type": "execute_result"
    }
   ],
   "source": [
    "df_phishing_email.isna().sum()"
   ]
  },
  {
   "cell_type": "code",
<<<<<<< Updated upstream
   "execution_count": 9,
=======
   "execution_count": 10,
>>>>>>> Stashed changes
   "id": "dbc024e5",
   "metadata": {
    "execution": {
     "iopub.execute_input": "2023-11-14T03:38:58.302678Z",
     "iopub.status.busy": "2023-11-14T03:38:58.302396Z",
     "iopub.status.idle": "2023-11-14T03:38:58.318647Z",
     "shell.execute_reply": "2023-11-14T03:38:58.317442Z"
    },
    "papermill": {
     "duration": 0.030831,
     "end_time": "2023-11-14T03:38:58.320769",
     "exception": false,
     "start_time": "2023-11-14T03:38:58.289938",
     "status": "completed"
    },
    "tags": []
   },
   "outputs": [
    {
     "name": "stdout",
     "output_type": "stream",
     "text": [
      "Unnamed: 0    0\n",
      "Email Text    0\n",
      "Email Type    0\n",
      "dtype: int64\n"
     ]
    }
   ],
   "source": [
    "df = df.dropna()\n",
    "print(df.isna().sum())"
   ]
  },
  {
   "cell_type": "code",
<<<<<<< Updated upstream
   "execution_count": 10,
=======
   "execution_count": 11,
>>>>>>> Stashed changes
   "id": "ed0dacb9",
   "metadata": {
    "execution": {
     "iopub.execute_input": "2023-11-14T03:38:58.344738Z",
     "iopub.status.busy": "2023-11-14T03:38:58.344470Z",
     "iopub.status.idle": "2023-11-14T03:38:58.348764Z",
     "shell.execute_reply": "2023-11-14T03:38:58.347937Z"
    },
    "papermill": {
     "duration": 0.018393,
     "end_time": "2023-11-14T03:38:58.350924",
     "exception": false,
     "start_time": "2023-11-14T03:38:58.332531",
     "status": "completed"
    },
    "tags": []
   },
   "outputs": [
    {
     "name": "stdout",
     "output_type": "stream",
     "text": [
      "re : 6 . 1100 , disc : uniformitarianism , re : 1086 ; sex / lang dick hudson 's observations on us use of 's on ' but not 'd aughter ' as a vocative are very thought-provoking , but i am not sure that it is fair to attribute this to \" sons \" being \" treated like senior relatives \" . for one thing , we do n't normally use ' brother ' in this way any more than we do 'd aughter ' , and it is hard to imagine a natural class comprising senior relatives and 's on ' but excluding ' brother ' . for another , there seem to me to be differences here . if i am not imagining a distinction that is not there , it seems to me that the senior relative terms are used in a wider variety of contexts , e . g . , calling out from a distance to get someone 's attention , and hence at the beginning of an utterance , whereas 's on ' seems more natural in utterances like ' yes , son ' , ' hand me that , son ' than in ones like ' son ! ' or ' son , help me ! ' ( although perhaps these latter ones are not completely impossible ) . alexis mr\n"
     ]
    }
   ],
   "source": [
    "print(df['Email Text'].iloc[0])"
   ]
  },
  {
   "cell_type": "code",
<<<<<<< Updated upstream
   "execution_count": 11,
=======
   "execution_count": 12,
>>>>>>> Stashed changes
   "id": "7c56f58b",
   "metadata": {
    "execution": {
     "iopub.execute_input": "2023-11-14T03:38:58.374216Z",
     "iopub.status.busy": "2023-11-14T03:38:58.373946Z",
     "iopub.status.idle": "2023-11-14T03:38:58.379205Z",
     "shell.execute_reply": "2023-11-14T03:38:58.378346Z"
    },
    "papermill": {
     "duration": 0.01902,
     "end_time": "2023-11-14T03:38:58.381210",
     "exception": false,
     "start_time": "2023-11-14T03:38:58.362190",
     "status": "completed"
    },
    "tags": []
   },
   "outputs": [
    {
     "data": {
      "text/plain": [
       "(18634, 3)"
      ]
     },
<<<<<<< Updated upstream
     "execution_count": 11,
=======
     "execution_count": 12,
>>>>>>> Stashed changes
     "metadata": {},
     "output_type": "execute_result"
    }
   ],
   "source": [
    "df.shape"
   ]
  },
  {
   "cell_type": "code",
<<<<<<< Updated upstream
   "execution_count": 12,
=======
   "execution_count": 13,
>>>>>>> Stashed changes
   "id": "0a506092",
   "metadata": {
    "execution": {
     "iopub.execute_input": "2023-11-14T03:38:58.404342Z",
     "iopub.status.busy": "2023-11-14T03:38:58.404069Z",
     "iopub.status.idle": "2023-11-14T03:38:58.417867Z",
     "shell.execute_reply": "2023-11-14T03:38:58.416910Z"
    },
    "papermill": {
     "duration": 0.027608,
     "end_time": "2023-11-14T03:38:58.419890",
     "exception": false,
     "start_time": "2023-11-14T03:38:58.392282",
     "status": "completed"
    },
    "tags": []
   },
   "outputs": [
    {
     "name": "stdout",
     "output_type": "stream",
     "text": [
      "Email Type\n",
      "Safe Email        11322\n",
      "Phishing Email     7312\n",
      "Name: count, dtype: int64\n"
     ]
    }
   ],
   "source": [
    "email_type_counts = df['Email Type'].value_counts()\n",
    "print(email_type_counts)"
   ]
  },
  {
   "cell_type": "code",
<<<<<<< Updated upstream
   "execution_count": 13,
=======
   "execution_count": 14,
>>>>>>> Stashed changes
   "id": "32ca9467",
   "metadata": {
    "execution": {
     "iopub.execute_input": "2023-11-14T03:38:58.443735Z",
     "iopub.status.busy": "2023-11-14T03:38:58.443461Z",
     "iopub.status.idle": "2023-11-14T03:38:58.765715Z",
     "shell.execute_reply": "2023-11-14T03:38:58.764812Z"
    },
    "papermill": {
     "duration": 0.336615,
     "end_time": "2023-11-14T03:38:58.767915",
     "exception": false,
     "start_time": "2023-11-14T03:38:58.431300",
     "status": "completed"
    },
    "tags": []
   },
   "outputs": [
    {
     "data": {
<<<<<<< Updated upstream
      "image/png": "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",
=======
      "image/png": "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",
>>>>>>> Stashed changes
      "text/plain": [
       "<Figure size 800x600 with 1 Axes>"
      ]
     },
     "metadata": {},
     "output_type": "display_data"
    }
   ],
   "source": [
    "# Create the bar chart\n",
    "# Create a list of unique email types\n",
    "unique_email_types = email_type_counts.index.tolist()\n",
    "\n",
    "# Define a custom color map \n",
    "color_map = {\n",
    "    'Phishing Email': 'red',\n",
    "    'Safe Email': 'green',}\n",
    "\n",
    "# Map the colors to each email type\n",
    "colors = [color_map.get(email_type, 'gray') for email_type in unique_email_types]\n",
    "\n",
    "# Create the bar chart with custom colors\n",
    "plt.figure(figsize=(8, 6))\n",
    "plt.bar(unique_email_types, email_type_counts, color=colors)\n",
    "plt.xlabel('Email Type')\n",
    "plt.ylabel('Count')\n",
    "plt.title('Distribution of Email Types with Custom Colors')\n",
    "plt.xticks(rotation=45)\n",
    "\n",
    "# Show the chart\n",
    "plt.tight_layout()\n",
    "plt.show()"
   ]
  },
  {
   "cell_type": "code",
<<<<<<< Updated upstream
   "execution_count": 14,
=======
   "execution_count": 17,
>>>>>>> Stashed changes
   "id": "ed9e3602",
   "metadata": {},
   "outputs": [
    {
     "data": {
<<<<<<< Updated upstream
      "image/png": "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",
=======
      "image/png": "iVBORw0KGgoAAAANSUhEUgAAAoIAAAJFCAYAAABJHZYZAAAAOXRFWHRTb2Z0d2FyZQBNYXRwbG90bGliIHZlcnNpb24zLjkuMiwgaHR0cHM6Ly9tYXRwbG90bGliLm9yZy8hTgPZAAAACXBIWXMAAA9hAAAPYQGoP6dpAABW6ElEQVR4nO3dd3gUVcPG4WfTSKF3kE5oShcQQQTpCCpVBUFQ2meBV98XxQLYULGBIioKSBMUBFFA6b1Ir9Jb6B1CCaTufH8sREJNQrJnd+d3X9dcsLuzs88iwsM5c2YclmVZAgAAgO34mQ4AAAAAMyiCAAAANkURBAAAsCmKIAAAgE1RBAEAAGyKIggAAGBTFEEAAACboggCAADYFEUQAADApiiCgA106tRJRYoUSfKcw+HQu+++aySPJ6lTp47q1Knjls+6/tf83XfflcPh0KlTp9zy+UWKFFGnTp3c8lkAvANFEEhjo0aNksPhuOW2YsUK0xGTpU6dOrf9Hlc3TyqTnTp1SpItY8aMKlasmFq3bq3JkyfL6XSmyecsX75c7777riIjI9PkeGnJk7MB8DwBpgMAvur9999X0aJFb3g+PDzc7VmGDRuW4hL09ttvq0uXLomPV69ercGDB+utt95SmTJlEp8vX758muVMCxkyZNDw4cMlSZcvX9b+/fs1bdo0tW7dWnXq1NEff/yhzJkzJ+4/e/bsFH/G8uXL9d5776lTp07KmjVrst93+fJlBQSk7x+7t8u2Y8cO+fnx738A/6IIAumkSZMmqlKliukYkqTAwMAUv6dBgwZJHgcHB2vw4MFq0KCB26ZSUyMgIEDt27dP8lz//v01YMAAvfnmm+ratasmTJiQ+FpQUFC65nE6nYqNjVVwcLCCg4PT9bPuJEOGDEY/H4Dn4Z+GgCERERFyOBz6/PPP9c0336hYsWIKDQ1Vw4YNdfDgQVmWpQ8++EAFChRQSEiInnjiCZ05cybJMf744w81bdpU+fPnV4YMGVS8eHF98MEHSkhISLLfzc4RvFsjR46Uw+HQ+vXrb3jto48+kr+/vw4fPizJNc1ctmxZrV27VjVq1FBISIiKFi2qoUOH3vDemJgYvfPOOwoPD1eGDBlUsGBBvf7664qJibmrvG+88YYaNmyoX3/9VTt37kx8/mbnCH799de67777FBoaqmzZsqlKlSoaP368JNd5fa+99pokqWjRoonT0BEREZJc5wG+/PLLGjdunO677z5lyJBBM2fOTHztZlPpp06d0pNPPqnMmTMrR44c+s9//qPo6OjE16/+Xhk1atQN7732mHfKdrNzBPfu3as2bdooe/bsCg0NVfXq1fXnn38m2WfhwoVyOByaOHGiPvzwQxUoUEDBwcGqV6+edu/efctfcwCejxFBIJ2cO3fuhkUADodDOXLkSPLcuHHjFBsbqx49eujMmTP69NNP9eSTT6pu3bpauHChevfurd27d+vrr79Wr1699OOPPya+d9SoUcqYMaP++9//KmPGjJo/f7769eun8+fP67PPPkvX79e6dWu99NJLGjdunCpVqnTDd6pTp47uueeexOfOnj2rRx99VE8++aTatm2riRMn6oUXXlBQUJCef/55Sa7Rs8cff1xLly5Vt27dVKZMGW3evFmDBg3Szp079fvvv99V5g4dOmj27NmaM2eOSpYsedN9hg0bpp49e6p169aJhWzTpk1auXKl2rVrp5YtW2rnzp36+eefNWjQIOXMmVOSlCtXrsRjzJ8/XxMnTtTLL7+snDlz3rGEP/nkkypSpIg+/vhjrVixQoMHD9bZs2c1ZsyYFH2/5GS71vHjx1WjRg1dunRJPXv2VI4cOTR69Gg9/vjjmjRpklq0aJFk/wEDBsjPz0+9evXSuXPn9Omnn+qZZ57RypUrU5QTgAexAKSpkSNHWpJuumXIkCFxv3379lmSrFy5clmRkZGJz7/55puWJKtChQpWXFxc4vNt27a1goKCrOjo6MTnLl26dMPnd+/e3QoNDU2yX8eOHa3ChQsn2U+S9c477yT7e/3666+WJGvBggVJMuXPn99KSEhIfG7dunWWJGvkyJGJz9WuXduSZH3xxReJz8XExFgVK1a0cufObcXGxlqWZVljx461/Pz8rCVLliT57KFDh1qSrGXLlt02Y8eOHa2wsLBbvr5+/XpLkvXqq68myVa7du3Ex0888YR133333fZzPvvsM0uStW/fvhtek2T5+flZW7Zsuelr1/6av/POO5Yk6/HHH0+y34svvmhJsjZu3GhZ1r+/V679Nb3VMW+XrXDhwlbHjh0TH7/yyiuWpCS/3hcuXLCKFi1qFSlSJPG/64IFCyxJVpkyZayYmJjEfb/66itLkrV58+YbPguAd2BqGEgn33zzjebMmZNkmzFjxg37tWnTRlmyZEl8/MADD0iS2rdvn2RhwQMPPKDY2NjE6VZJCgkJSfz5hQsXdOrUKdWqVUuXLl3S9u3b0+NrJfHss8/qyJEjWrBgQeJz48aNU0hIiFq1apVk34CAAHXv3j3xcVBQkLp3764TJ05o7dq1kqRff/1VZcqUUenSpXXq1KnErW7dupKU5HNSI2PGjJJcv1a3kjVrVh06dEirV69O9efUrl1b9957b7L3f+mll5I87tGjhyTpr7/+SnWG5Pjrr79UrVo1PfTQQ4nPZcyYUd26dVNERIS2bt2aZP/nnnsuyTmVtWrVkuSaXgbgnZgaBtJJtWrVkrVYpFChQkkeXy2FBQsWvOnzZ8+eTXxuy5Yt6tOnj+bPn6/z588n2f/cuXOpyp0SDRo0UL58+TRu3DjVq1dPTqdTP//8s5544gllypQpyb758+dXWFhYkueuTs9GRESoevXq2rVrl7Zt23bLqcwTJ07cVd6LFy9K0g3ZrtW7d2/NnTtX1apVU3h4uBo2bKh27dqpZs2ayf6cm60Wv50SJUokeVy8eHH5+fklntuXXvbv35/4D49rXV0Vvn//fpUtWzbx+et/r2bLlk1S0t+TALwLRRAwzN/fP0XPW5YlSYqMjFTt2rWVOXNmvf/++ypevLiCg4O1bt069e7dO82umXc7/v7+ateunYYNG6Zvv/1Wy5Yt05EjR25YtZtcTqdT5cqV08CBA2/6+vXlOKX++ecfSbe/hE+ZMmW0Y8cOTZ8+XTNnztTkyZP17bffql+/fnrvvfeS9TnXjtSmhsPhuO3jq65fFJTe7vR7EoD3oQgCXmrhwoU6ffq0fvvtNz388MOJz+/bt8+tOZ599ll98cUXmjZtmmbMmKFcuXKpUaNGN+x35MgRRUVFJRkVvLp69+piiuLFi2vjxo2qV6/eLcvP3Rg7dqwcDscNl8a5XlhYmJ566ik99dRTio2NVcuWLfXhhx/qzTffVHBwcJpn27VrV5JRxN27d8vpdCb+ulwdebv+ItH79++/4VgpyVa4cGHt2LHjhuevnlZQuHDhZB8LgHfiHEHAS10dnbl2NCY2NlbffvutW3OUL19e5cuX1/DhwzV58mQ9/fTTN71ocnx8vL7//vvEx7Gxsfr++++VK1cu3X///ZJcq2cPHz6sYcOG3fD+y5cvKyoqKtU5BwwYoNmzZ+upp566YSr2WqdPn07yOCgoSPfee68sy1JcXJwkJZbZtLp7xzfffJPk8ddffy3JdS1KScqcObNy5sypxYsXJ9nvZv+tU5Lt0Ucf1apVq/T3338nPhcVFaUffvhBRYoUSdF5jgC8EyOCQDqZMWPGTRds1KhRQ8WKFbvr49eoUUPZsmVTx44d1bNnTzkcDo0dO9bINN2zzz6rXr16SdItp4Xz58+vTz75RBERESpZsqQmTJigDRs26Icffki84HWHDh00ceJE/d///Z8WLFigmjVrKiEhQdu3b9fEiRM1a9asO553GR8fr59++kmSFB0drf3792vq1KnatGmTHnnkEf3www+3fX/Dhg2VN29e1axZU3ny5NG2bds0ZMgQNW3aNPHcwqvF9e2339bTTz+twMBAPfbYYzecA5lc+/bt0+OPP67GjRvr77//1k8//aR27dqpQoUKift06dJFAwYMUJcuXVSlShUtXrw4yfUQr0pJtjfeeEM///yzmjRpop49eyp79uwaPXq09u3bp8mTJ3MXEsAGKIJAOunXr99Nnx85cmSaFMEcOXJo+vTp+t///qc+ffooW7Zsat++verVq3fTqdn09Mwzz6h3794qXry4qlWrdtN9smXLptGjR6tHjx4aNmyY8uTJoyFDhqhr166J+/j5+en333/XoEGDNGbMGE2ZMkWhoaEqVqyY/vOf/9zy2n/XiomJUYcOHSRJoaGhyp07t+6//37169dPLVq0uGO56d69u8aNG6eBAwfq4sWLKlCggHr27Kk+ffok7lO1alV98MEHGjp0qGbOnCmn06l9+/alughOmDBB/fr10xtvvKGAgAC9/PLLN1wHsl+/fjp58qQmTZqkiRMnqkmTJpoxY4Zy586dZL+UZMuTJ4+WL1+u3r176+uvv1Z0dLTKly+vadOmqWnTpqn6LgC8i8PiLF8Ad+nUqVPKly+f+vXrp759+97wep06dXTq1KnExRoAAM/AuD+AuzZq1CglJCQkjsQBALwDU8MAUm3+/PnaunWrPvzwQzVv3jzN72cMAEhfFEEAqfb+++9r+fLlqlmzZuJKVwCA9+AcQQAAAJviHEEAAACboggCAADYFEUQAADApiiCAAAANkURBAAAsCmKIAAAgE1RBAEAAGyKIggAAGBTFEEAAACboggCAADYFEUQAADApiiCAAAANkURBAAAsCmKIAAAgE1RBAEAAGyKIggAAGBTFEEAAACboggCAADYFEUQAADApiiCAAAANkURBAAAsCmKIAAAgE1RBAEAAGyKIggAAGBTFEEAAACboggCAADYFEUQAADApiiCAAAANkURBAAAsCmKIAAAgE1RBAEAAGyKIggAAGBTFEEAAACboggCAADYFEUQAADApiiCAAAANkURBAAAsCmKIAAAgE1RBAEAAGyKIggAAGBTFEEAAACboggCAADYFEUQAADApiiCAAAANkURBAAAsCmKIAAAgE1RBAEAAGyKIggAAGBTFEEAAACboggCAADYFEUQAADApiiCAAAANkURBAAAsCmKIAAAgE1RBAEAAGyKIggAAGBTAaYDAEByWZaly/GXleBMkNNyKsFKSPx5cJylLLEOyd/ftQUEJP3R3990fADwOBRBAG53IeaC9p/bryMXjujs5bM6F3NO56LPKTI60vXzmCs/jz6X5LULsRfktJw3PeaPJx/Sc98svf0Hh4VJOXP+u+XIkfTxzbbAwHT4FQAAz0ARBJCmLMvSiagT2n9uv/ZH7teBcwdcPz935eeR+3U2+qyZcFFRrm3//uS/J1Omf0th7txSeLhUuvS/W9686ZcXANIZRRBAqsQmxGrbyW3aeHyjNh3fpH9O/KO9Z/fq4PmDio6PNh0v7Vy44Nr27bv561mzSqVKuUrh1R9Ll3YVRkYTAXg4iiCAOzp64Whi4dt0fJM2Ht+oHad2KM4ZZzqaeZGR0sqVru1aAQFSsWJJRw9Ll5bKl3dNUQOAB6AIAkjiyIUjWrx/sVYdXpVY/E5eOmk6lveJj5d27nRtU6f++3xAgFSpkvTQQ/9uuXObywnA1iiCgM3tPbtXi/cv1uL9i7Vo/yLtPbvXdCTfFh8vrV7t2gYNcj1XsqRUq9a/xTA83GxGALZBEQRsZtvJba7id8BV/g6dP2Q6Eq6OHI4Y4XqcL59Us6arFNaqJVWowOVvAKQLiiDg4yIiIzR953QtiFigpQeW6kTUCdORcCdHj0qTJrk2ybVyuXp1Vyls0EB64AHJ4TCbEYBPcFiWZZkOASDtWJalNUfWaOqOqfpjxx/afGKz6UhukazrCPqK/Pml5s2lFi2kOnVc5x0CQCpQBAEfEBMfo/n75mvqjqmatnOaDl84bDqS29mqCF4re3apWTOpZUupYUMpJMR0IgBehH9GAl7qzOUz+nPnn5q6c6pm7Z6lC7EXTEeCCWfOSGPGuLawMKlxY9dIYbNmUpYsptMB8HAUQcCLnIs+p4lbJmr8P+O19MBSxTvjTUeCJ4mKkiZPdm1BQdIjj7hGCp94QsqTx3Q6AB6IqWHAwzktp+bsmaPRG0fr9+2/63L8ZdORPJJtp4aTw89PqlHDVQrbtaMUAkhEEQQ81PZT2zV6w2iN3TTWluf8pRRFMJkCA10LTbp3l+rWZfUxYHNMDQMeJDI6Ur/884tGbRillYdX3vkNQErFxUm//uraSpaUunWTOnWScuQwnQyAAYwIAoY5Ladm75mtkRtGauqOqYqOjzYdySsxIngXMmSQWrd2jRLWqmU6DQA3YkQQMCQqNko/rv9Rg1cN1u4zu03HgZ3FxEjjxrm2++5zFcJnn2XVMWADfqYDAHZz6Pwh9Z7TWwUGFVDPmT0pgfAsW7ZIPXu6Llr9/PPSqlWmEwFIR4wIAm6y5sgaDfx7oH7d+iuXfYHnu3RJGjnStVWq5BolbN/eda1CAD6DEUEgHTktp6Zsm6JaI2up6rCq+vmfnymB8D7r10v/939S4cLSxx9LFy+aTgQgjVAEgXRwMfaiBq8crBJfl1DLiS219ACLGOADTp+W3npLKlJE+ugj6QJ3swG8HUUQSEPnY87r/UXvq+CggvrPzP9o79m9piMBae/0aentt12F8MMPKYSAF6MIAmngQswFfbj4QxX5sojeWfiOIqMjTUcC0t+ZM1KfPq5C2L+/dP686UQAUogiCNyFi7EX9fGSj1X0q6Lqs6CPzkafNR0JcL8zZ6S+fV2F8P33pXPnTCcCkEwUQSAVYuJj9OWKL1Xsq2J6a/5bOn35tOlIgHlnz0rvvOMqhO+9RyEEvABFEEiBBGeCRq4fqZJDSurVWa/q5KWTpiMBnicyUnr3XVchfPdd12MAHokiCCTTb9t+U7nvyun5qc/rwLkDpuMAni8y0jUyWKSI9OmnrvscA/AoFEHgDjYe26haI2up1cRW2nZqm+k4gPc5d07q3VsqX16aO9d0GgDXoAgCtxAZHakef/XQ/T/cz3UAgbSwfbvUoIHUpo106JDpNABEEQRuYFmWRqwboZJfl9SQ1UOUYCWYjgT4lkmTpNKlXXcpiY01nQawNYogcI21R9bqwREPqsu0LiwEAdJTVJTrLiXlykmzZplOA9gWRRCQdPrSaXWf1l3VhlfTysMrTccB7GPnTqlxY6llS+kAi7AAd6MIwtacllND1wxVySEl9cO6H+S0nKYjAfY0ZYpUpozrlnUxMabTALZBEYRtrTmyRlWHVdULf76gM5fPmI4D4NIl1y3rypaVZswwnQawBYogbCcuIU595/fVgyMe1Lqj60zHAXC93bulRx+VmjeX9u83nQbwaRRB2Mrm45tVbXg19V/SX/HOeNNxANzOH3+4FpMMH246CeCzKIKwhQRngj5e8rGqDKuiDcc2mI4DILkuXJC6dpUef1w6ftx0GsDnUATh83ac2qGaP9bUW/PfUmwC1ywDvNK0aa5zB3/7zXQSwKdQBOGzLMvSVyu+UqXvK3FJGMAXnDoltWolPfus67Z1AO4aRRA+KSIyQnXH1NUrs17R5fjLpuMASEtjx7ruW7xwoekkgNejCMLnDFs7TOW/K6+FEQtNRwGQXg4ckOrVc11uJp6FX0BqUQThMy7GXlTbyW3VbXo3XYi9YDoOgPTmdLouQF27NpeZAVKJIgifsO3kNlUbVk2//POL6SgA3G35cqliRWnSJNNJAK9DEYTX++WfX1RteDVtO7XNdBQApkRGSm3aSN26SZc5LxhILoogvFZcQpx6/NVDbSe31cXYi6bjAPAEw4ZJVapIO3aYTgJ4BYogvNLBcwf18KiHNWT1ENNRAHiarVul6tWl2bNNJwE8HkUQXmfOnjmq/ENlrTi0wnQUAJ4qMtJ1v+LBg00nATwaRRBew7Isvb/ofTUe11inLp0yHQeAp0tIkP7zH6l7dykuznQawCMFmA4AJEdkdKTaTW6nGbtnmI4CwNv88IO0c6c0ebKUPbvpNIBHYUQQHi8iMkI1RtSgBAJIvYULpWrVpG1cXQC4FkUQHm3NkTWqPrw6l4YBcPf27JEefFCaOdN0EsBjUAThsabtmKY6o+roeNRx01EA+Ipz56RmzaQvvzSdBPAIFEF4pCGrhqj5hOaKiosyHQWAr0lIkF59VeralUUksD2KIDyK03Lqv7P+qx4zeshpOU3HAeDLhg+XGjSQTp82nQQwhiIIj3E57rLa/NpGg1YMMh0FgF0sWuRaRLJ1q+kkgBEUQXiEk1EnVXdMXf227TfTUQDYzd69rkUky5aZTgK4HUUQxu08vVMPjniQO4UAMOf8ealxY9dlZgAboQjCqI3HNqrmjzW15+we01EA2N3Fi67b0s2ZYzoJ4DYUQRiz7ug61R1Tl9vFAfAcly9Ljz0m/fmn6SSAW1AEYcSqw6tUb0w9nbl8xnQUAEgqJkZq2VL6/XfTSYB0RxGE2/198G81GNtAkdGRpqMAwM3Fxkpt2kgTJ5pOAqQriiDcaumBpWr0UyOdjzlvOgoA3F58vNSunTR2rOkkQLqhCMJtFkYsVOOfGutC7AXTUQAgeRISpE6dpBEjTCcB0gVFEG4xd+9cNR3flFvGAfA+TqfrdnTffms6CZDmKIJIdzN3z9RjPz+mS3GXTEcBgNSxLOmll6RB3PkIvoUiiHQ1fed0Nf+luaLjo01HAYC799//SgMGmE4BpBmKINLNvL3z1GpiK8UkxJiOAgBp5803pfffN50CSBMUQaSLdUfXqcWEFopNiDUdBQDS3jvvcM4gfAJFEGluz5k9ajKuCauDAfi2nj2lqVNNpwDuCkUQaer4xeNq9FMjnYg6YToKAKSvhASpbVtp5UrTSYBUowgizVyIuaAm45poz9k9pqMAgHtcuuS6N/Hu3aaTAKlCEUSaiE2IVfMJzbX+2HrTUQDAvU6elBo3dv0IeBmKIO6a03Kq/W/tNX/ffNNRAMCMPXukZs1cI4SAF6EI4q79Z8Z/9OvWX03HAACzVq1ynTOYkGA6CZBsFEHclf6L+2vI6iGmYwCAZ5g61bWaGPASFEGk2sj1I9V3QV/TMQDAs3z7LXcfgdegCCJVlh9crv/78/9MxwAAz/TWW9K4caZTAHdEEUSKHb1wVK0ntuauIQBwK5YlPf+8NJ9FdPBsFEGkSGxCrFpObKmjF4+ajgIAni02VmrZUvrnH9NJgFuiCCJFXvrzJa04tMJ0DADwDufOSU2bSmfOmE4C3BRFEMk2dM1QDV8/3HQMAPAuBw5IHTu6posBD0MRRLIsPbBUPWdwSQQASJXp06XPPzedArgBRRB3dPj8YbWe2FpxzjjTUQDAe731lrRsmekUQBIUQdxWTHyMWk5sqeNRx01HAQDvFh8vPf20dOqU6SRAIoogbuuFP1/QqsOrTMcAAN9w6JDUoQPnC8JjUARxS9+t/k4jN4w0HQMAfMvMmdx5BB6DIoib2nhso16d9arpGADgm/r2lRYvNp0CoAjiRpfiLqnt5LaKSYgxHQUAfFNCgtS2rXTihOkksDmKIG7w6sxXte3UNtMxAMC3HTkitW8vOZ2mk8DGKIJIYvLWyfph3Q+mYwCAPcyZI/XvbzoFbIwiiEQHzx1U12ldTccAAHt57z1p/nzTKWBTFEFIkizLUsffO+ps9FnTUQDAXpxOqV076dgx00lgQxRBSJIGrRikBRELTMcAAHs6flx69lnTKWBDFEFoy4ktemveW6ZjAIC9zZkjjeTarXAviqDNxSbEqv2U9lwqBgA8Qa9eXFIGbkURtLl3FryjDcc2mI4BAJCkM2eknj1Np4CNUARtbPXh1fp0+aemYwAArjVhgjR9uukUsAmKoE0lOBPUfXp3OS0uZAoAHufFF6ULF0yngA1QBG1q8MrBWn9svekYAICbOXhQevNN0ylgAxRBGzp47qD6LexnOgYA4Ha++05avtx0Cvg4iqAN9ZzZUxdjL5qOAQC4HadT6tpVio01nQQ+jCJoM1N3TNXv2383HQMAkBxbt0offWQ6BXwYRdBGomKj1GNGD9MxAAAp8fHHrkIIpAOKoI30W9BPB84dMB0DAJASsbGuKWLLMp0EPogiaBMbjm3QVyu/Mh0DAJAay5dL335rOgV8EEXQBpyWU92nd1eClWA6CgAgtd58Uzp0yHQK+BiKoA0MXTNUqw6vMh0DAHA3LlyQXnnFdAr4GIqgjztz+Yzenv+26RgAgLQwebK0cqXpFPAhFEEf99GSjxQZHWk6BgAgrfTubToBfAhF0Iftj9yvIauGmI4BAEhLixZJM2aYTgEfQRH0YX0X9FVMQozpGACAtPbGG647jwB3iSLoozYe26hxm8eZjgEASA+bNknjx5tOAR9AEfRRvef2ltPiX4sA4LP69uU+xLhrFEEfNG/vPM3aM8t0DABAeoqIkL77znQKeDmKoI+xLEu957KiDABs4cMPXdcXBFKJIuhjJmyZoLVH15qOAQBwh5Mnpc8+M50CXowi6ENiE2K5eDQA2M3AgdLx46ZTwEtRBH3I0DVDtffsXtMxAADuFBUlvf++6RTwUhRBHxEVG6X+i/ubjgEAMGHYMGnPHtMp4IUogj5i+LrhOnnppOkYAAAT4uKkPn1Mp4AXogj6gLiEOA1cMdB0DACASRMmSOvWmU4BL0MR9AHjN4/XgXMHTMcAAJhkWdJHH5lOAS9DEfRylmXp0+Wfmo4BAPAEv//uutA0kEwUQS83bec0bT251XQMAIAnSEiQBg82nQJehCLo5QYsHWA6AgDAk4wYwd1GkGwUQS+2ZP8S/X3ob9MxAACe5Px56ccfTaeAl6AIerEByxgNBADcxODBktNpOgW8AEXQS20+vll/7frLdAwAgCfau1f64w/TKeAFKIJeitFAAMBtDRpkOgG8AEXQC0VERmjCPxNMxwAAeLIlS6S1a02ngIejCHqhb1Z9owQrwXQMAICn86BRwVGjRilr1qy33adTp05q3rx5so6XnH2LFCmiL7/8MlnH80YRERFyOBzasGGDJGnhwoVyOByKjIxM9jEogl4mNiFWozeONh0DAOANJk6Ujhxxy0d16tRJDodDDodDQUFBCg8P1/vvv6/4+PhkH+Orr77SqFGj0izT6tWr1a1btzQ73q0UKVIk8btfuw0YkL6ncRUsWFBHjx5V2bJlU32MgDTMAzeYsm2KTl46aToGAMAbxMVJQ4a47dZzjRs31siRIxUTE6O//vpLL730kgIDA/Xmm28m6/1ZsmRJ0zy5cuVK0+Pdzvvvv6+uXbsmeS5Tpkzp+pn+/v7KmzfvXR2DEUEvM2zdMNMRAADe5PvvpUuX3PJRGTJkUN68eVW4cGG98MILql+/vqZOnZpkn1mzZqlMmTLKmDGjGjdurKNHjya+dv1076RJk1SuXDmFhIQoR44cql+/vqKiopIc7/PPP1e+fPmUI0cOvfTSS4qLi0t87fqpYYfDoeHDh6tFixYKDQ1ViRIlbsg3depUlShRQsHBwXrkkUc0evToZE23ZsqUSXnz5k2yhYWFSfp3ynbWrFmqVKmSQkJCVLduXZ04cUIzZsxQmTJllDlzZrVr106XrvlvNXPmTD300EPKmjWrcuTIoWbNmmnPnj2Jr18/NZwaFEEvsufMHs3fN990DACANzlzRhozxshHh4SEKDY2NvHxpUuX9Pnnn2vs2LFavHixDhw4oF69et30vUePHlXbtm31/PPPa9u2bVq4cKFatmwpy7IS91mwYIH27NmjBQsWaPTo0Ro1atQdp5bfe+89Pfnkk9q0aZMeffRRPfPMMzpz5owkad++fWrdurWaN2+ujRs3qnv37nr77bfv/hfiinfffVdDhgzR8uXLdfDgQT355JP68ssvNX78eP3555+aPXu2vv7668T9o6Ki9N///ldr1qzRvHnz5OfnpxYtWsiZhteIpAh6keHrhsuSdecdAQC41pdfSpb7/v6wLEtz587VrFmzVLdu3cTn4+LiNHToUFWpUkWVK1fWyy+/rHnz5t30GEePHlV8fLxatmypIkWKqFy5cnrxxReVMWPGxH2yZcumIUOGqHTp0mrWrJmaNm16y+Nd1alTJ7Vt21bh4eH66KOPdPHiRa1atUqS9P3336tUqVL67LPPVKpUKT399NPq1KlTsr5z7969lTFjxiTbkiVLkuzTv39/1axZU5UqVVLnzp21aNEifffdd6pUqZJq1aql1q1ba8GCBYn7t2rVSi1btlR4eLgqVqyoH3/8UZs3b9bWrVuTlSk5KIJeIi4hTiM3jDQdAwDgjXbskOan/4zS9OnTlTFjRgUHB6tJkyZ66qmn9O677ya+HhoaquLFiyc+zpcvn06cOHHTY1WoUEH16tVTuXLl1KZNGw0bNkxnz55Nss99990nf3//ZB3vqvLlyyf+PCwsTJkzZ058z44dO1S1atUk+1erVu32X/qK1157TRs2bEiyValS5ZafnSdPHoWGhqpYsWJJnrs2/65du9S2bVsVK1ZMmTNnVpEiRSRJBw4cSFam5GCxiJeYtnOajkcdNx0DAOCtxoyR6tVL14945JFH9N133ykoKEj58+dXQEDSmhEYGJjkscPhSDLVey1/f3/NmTNHy5cvT5wyffvtt7Vy5UoVLVr0lse707Rpat6THDlz5lR4eHiyP9vhcNwxy2OPPabChQtr2LBhyp8/v5xOp8qWLZtkuv1uMSLoJX5Y+4PpCAAAb/bbb9J1Cy3SWlhYmMLDw1WoUKEbSmBqOBwO1axZU++9957Wr1+voKAgTZkyJQ2S3lypUqW0Zs2aJM+tXr063T7vdk6fPq0dO3aoT58+qlevnsqUKXPDiGhaYETQC+yP3K85e+eYjgEA8GYXL7rKYIcOppMky8qVKzVv3jw1bNhQuXPn1sqVK3Xy5EmVKVMm3T6ze/fuGjhwoHr37q3OnTtrw4YNiYtPHA7Hbd974cIFHTt2LMlzoaGhypw5c6qyZMuWTTly5NAPP/ygfPny6cCBA3rjjTdSdazbYUTQCwxfN1xOK+1WCAEAbGrsWNMJki1z5sxavHixHn30UZUsWVJ9+vTRF198oSZNmqTbZxYtWlSTJk3Sb7/9pvLly+u7775LXDWcIUOG2763X79+ypcvX5Lt9ddfT3UWPz8//fLLL1q7dq3Kli2rV199VZ999lmqj3crDutWk/PwCAnOBBX+srAOXzhsOgrg0X48+ZCe+2ap6RiAZ/Pzkw4elPLnN53Ea3z44YcaOnSoDh48aDpKumBE0MPN3zefEggASBtOp/TTT6ZTeLRvv/1Wq1ev1t69ezV27Fh99tln6tixo+lY6YZzBD3cpK2TTEcAAPiSMWOku5iy9HW7du1S//79debMGRUqVEj/+9//kn2LPG/E1LAHS3AmKN8X+bi3MJAMTA0DKbBxo3TNNe1gX0wNe7BF+xdRAgEAaW/iRNMJ4CEogh6MaWEAQLr49VfTCeAhKIIeymk59du230zHAAD4op07pQ0bTKeAB6AIeqgl+5dwSzkAQPqZMMF0AngAiqCHYloYAJCumB6GKIIeybIs/badaWEAQDras0dau9Z0ChhGEfRAyw4u05ELR0zHAAD4OqaHbY8i6IGYFgYAuMX06aYTwDCKoIexLEuTt002HQMAYAfbtklHmIGyM4qgh1l/bL0OnT9kOgYAwC7mzjWdAAZRBD3MnD1zTEcAANgJRdDWKIIeZt6+eaYjAADshCJoaxRBDxITH6OlB5aajgEAsJOjR6UtW0yngCEUQQ+y7OAyXY6/bDoGAMBuGBW0LYqgB5m7l/8RAQAGzOH8dLuiCHoQiiAAwIhFi6T4eNMpYABF0ENERkdq7VFu9QMAMODiRWnFCtMpYABF0EMs2LdATstpOgYAwK44T9CWKIIegmlhAIBRnCdoSxRBDzF3H0UQAGDQqlXShQumU8DNKIIe4ND5Q9p5eqfpGAAAO4uPlxYuNJ0CbkYR9ADz9803HQEAAKaHbYgi6AFWHlppOgIApIvvJJWXlPnK9qCkGde8vkdSC0m5rrz+pKTjdzjmx5KqSsokKbek5pJ2XLfPfyVll1RQ0rjrXvtV0mMp+xr2wYIR26EIeoA1R9eYjgAA6aKApAGS1kpaI6mupCckbZEUJamhJIek+ZKWSYqVq6Td7hoKiyS9JGmFpDmS4q4cJ+rK69MkjZc0W9KnkrpIOnXltXOS3pb0TVp8OV+0bZt09qzpFHCjANMB7C7eGa9NxzeZjgEA6eL6kbcP5RolXCHpsKQISevlGg2UpNGSsslVDOvf4pgzr3s8Sq6RwbWSHpa0TVIdSVWubK9I2icpp6TXJb0gqVBqvoxdbNwo1aljOgXchBFBw/458Y+i46NNxwCAdJcg6Re5Ru4elBQj12hghmv2CZbrL6alKTjuuSs/Zr/yYwW5Rh/PylUOL0sKv3LMdZJ6pi6+fWzcaDoB3IgiaNjaI9xNBIBv2ywpo1yF7/8kTZF0r6TqksIk9ZZ0Sa6C2Euuwng0mcd2yjXiV1NS2SvPNZLUXq7zCDvJNcoYJtdI4FC5RiRLXXnPlrv4Xj5rwwbTCeBGFEHD1hzh/EAAvq2UpA2SVspVxjpK2irXApFf5TqnL6OkLJIiJVVW8v9yeknSP3KNNF7rXUm75SqhLeRaYFJfUqCk/nKNDnaR9GxqvpCvY0TQVjhH0DAWigDwdUFyTc1K0v2SVkv6StL3ci3y2CPXYo4ASVkl5ZVULBnHfVnSdEmL5VqUcivbJf0k17mIP8p1HmEuuVYoPy/pglwrkHHF1q1SXJwUGGg6CdyAEUGD4hLitPn4ZtMxAMCtnHKdH3itnHKVwPmSTkh6/Dbvt+QqgVOu7F/0Dvt2lzRQrlHHBLlWGeuaHxOSH90eYmKk7dtNp4CbUAQN2nxis2ISrv/jEAB8x5tyjdhFyDVN+6akhZKeufL6SLlWEO+Ra9SujaRX5ZpOvqqepCHXPH7pyr7j5RrJO3Zlu3yTzx8u1+jf1dXLNeUqjyskDZLrXMWsqf1yvozzBG2DqWGDOD8QgK87Idd5eEflOgewvKRZkhpceX2HXOXwjKQicl3j79XrjnF16viq7678WOe6/UbKtTjkquNyXa5m+TXPVZP0P0lN5brkzOgUfRsb2bhR6tDBdAq4AUXQIFYMA/B1I+7w+oAr2+1EXPfYSuZn57nJeyWp35UNt8GIoG0wNWwQC0UAAB6JlcO2QRE0JMGZoC0nuIIVAMADnTolHT5sOgXcgCJoSERkBAtFAACei1FBW6AIGrLj9A7TEQAAuDXOE7QFiqAhO0/vNB0BAIBbY0TQFiiChuw4xYggAMCDMSJoCxRBQ3aeYUQQAODBdu+WYmNNp0A6owgawtQwAMCjOZ3SkSOmUyCdUQQNiImP0eHzLMsHAHg4LiHj8yiCBkRERshK9rXxAQAw5NAh0wmQziiCBuyL3Gc6AgAAd8aIoM+jCBqw7yxFEADgBRgR9HkUQQMYEQQAeAVGBH0eRdAAiiAAwCtQBH0eRdCAQ+cZagcAeAGmhn0eRdCAU5dOmY4AAMCdHTkiWVzlwpdRBA2gCAIAvEJcnHTihOkUSEcUQTeLd8YrMjrSdAwAAJKH8wR9GkXQzRgNBAB4FYqgT6MIuhlFEADgVVgw4tMogm52Muqk6QgAACQfI4I+jSLoZowIAgC8CiOCPo0i6GYUQQCAV2FE0KdRBN3s5CWmhgEAXuT8edMJkI4ogm7GiCAAwKvExJhOgHREEXQziiAAwKtER5tOgHREEXQziiAAwKswIujTKIJudinukukIAAAkHyOCPo0i6GZxzjjTEQAASD6KoE+jCLpZbEKs6QgAACQfU8M+jSLoZnEJjAgCALwIRdCnUQTdjKlhAIBXcTqlWGazfBVF0M0YEQQAeB1GBX0WRdDNGBEEAHgdFoz4LIqgmzEiCADwOowI+iyKoJsxIggA8DqMCPosiqCbMSIIAPA6FEGfRRF0M0YEgfSxL5S/qIB0w9Swz6IIuhkjgkD6+CBsjf5pVct0DMA3MSLosyiCbpZgJZiOAPisamX/1rlq5U3HAHxPAn93+SqKoJsF+gWajgD4rMuOeNVsfETx9+QzHQXwLaGhphMgnVAE3Sw0kP+ZgPS0xe+UOnfMKitDBtNRAN+RMaPpBEgnFEE3owgC6W9M0DaN6FbFdAzAd2TKZDoB0glF0M3CgsJMRwBsoWuOZdrU5mHTMQDfwIigz6IIuhkjgoD7VLt3mSIfqGA6BuD9KII+iyLoZhRBwH1iHAl6sNEhxRfIbzoK4L2CgyV/f9MpkE4ogm5GEQTca7vfaXV6NrOs4GDTUQDvxGigT6MIuhlFEHC/cUHb9X23+03HALwTRdCnUQTdLCyQxSKACS9kX6b1T7J4BEgxiqBPowi6GSOCgDkPllmms9Urmo4BeBeKoE+jCLoZRRAwJ8aRoOqNDii+4D2mowDegyLo0yiCbkYRBMza6TijDh0yygoJMR0F8A4UQZ9GEXSzTEFcnR0w7ZegHfquWyXTMQDvQBH0aRRBN8uTMY/pCAAkvZRtudY8Xdt0DMDzUQR9GkXQzfJn4sK2gKeoUWqJztRgZBC4LYqgT6MIulm+jPlMRwBwRZzDqQfqRyiuUAHTUQDPRRH0aRRBN2NEEPAsu/3O6pkOobJCWcgF3FTevKYTIB1RBN0sd1hu+Tu4ZyPgSX4N3Kmvu1UwHQPwTEWKmE6AdEQRdDN/P3/lDsttOgaA6/wn699a1ZY7jwA3oAj6NIqgAfkycZ4g4IkeKrlUp2tWNh0D8BwOh1S4sOkUSEcUQQM4TxDwTHEOp6rV36u4IoVMRwE8Q+7cUnCw6RRIRxRBA1g5DHiuvY5ItX0mg6ywMNNRAPOYFvZ5FEEDGBEEPNvkwF0a1K2c6RiAeRRBn0cRNIARQcDz/S/LCq14hjuPwOYogj6PImgAI4KAd3gofLFO1brfdAzAHIqgz6MIGlAoCyeiA94gwWGp6iO7FVeU/2dhUxRBn0cRNKBkjpLyc/BLD3iDCL9zevKZIFncZgt2xKVjfB5txICQwBAVzsL/XIC3+D1gtz7vVtZ0DMD9GBH0eRRBQ8rkKmM6AoAUeD3zCi3rwOIR2Eju3FJIiOkUSGcUQUPuzXmv6QgAUqh2scU6UbuK6RiAezAaaAsUQUMYEQS8T4LDUpU6OxVbrIjpKED6owjaAkXQkDI5KYKANzroOK/W7fxlZcpkOgqQvlgoYgsUQUMYEQS817SAPfq0672yHA7TUYD0U6KE6QRwA4qgIVmDsypvxrymYwBIpTcyr9SSDg+bjgGkn8qVTSeAG1AEDWJ6GPBudYou0vFHqpqOAaS9DBmk8uVNp4AbBJgOYGdlcpbRgogFpmN4pvOS5kjaLSlOUnZJT0i658rrlqQFktZJipZUUFIzSTluc0ynpIWSNkm6KCmTpIqSHpZ0dYZv2ZVNkh6SVOOa9x+S9KekLpL8U/m94FMsh1T14R3adbCoMuzeZzoOkHbKl5cCA02ngBswImgQ5wnewmVJI+QqW89IeklSQ0nXXs5qmaSVcpW/LpKCJI2VqzTeylJJqyU9euWY9a85jiQdk6tctr6yzZd0/MprCZKmX/k8SiCucdBxXi2elqzMmU1HAdJOFS6TZBcUQYOYGr6FpZKySGouqYCkbJLC5RoVlFyjgSvkGskrLSmvpBaSLkjafpvjHryyf8krx7xPUnFJh6+8fkpSHknFrmx5rjwnScslFda/I5LANWYE7NNHXUuzeAS+gyJoGxRBgyrlqySH+IvjBjsk5Zc0UdKnkoZKWnvN62flmtotds1zwXKVxkO3OW5BSXv1b7k7JumApKsL4/JIOi0p8sp2WlJuSWckrZdUN3VfB/bQJ9MqLXqWxSPwERRB2+AcQYOyh2RXyRwlteP0DtNRPMtZuaZwH5RUS64RuxlyTclWlKsESlLG694Xds1rN/OQpBhJQ+T6J5BTUj1JV8+HznXl8dgrj+tdeW60pAZyna+48EqOxpKKpPibwcfVLbJIh+tVU755q0xHAVIvJES67z7TKeAmFEHDHiz4IEXwepZcI4L1rzzOJ+mEpDVyFcHU2iJps6RWco30HZM0U/8uGpGkqle2qzZIyiDXaOLXkrrJtZBlkqRXxP9BSMJySPc/tFX7DhZThp17TccBUqdSJcmfk6Htgqlhw6rfU910BM+TSa6RuGvlknTuys+vjgReP/oXpRtHCa81R65RwXJyTQNXkFRd0pJb7B8l1whgE7mmnHNc2YrKNZp4+vZfA/Z01HFRjz/llJWFxSPwUkwL2wpF0LAHCz5oOoLnKagbS9ZpuRaQSK6FHhklXXu1jmi5ylqB2xw3TrrhlEw/uUYgb2aWXNPTWa7s47zmNed1j4FrzPaP0AddS7F4BN6JImgrFEHDyuYuq0xB3LM0iQflKnWL5SqAm+RaLFLtyusOuUbyFsu1Svi4pClyjSSWvuY4o/XvpWEk12rhxZJ2ynUe4jZJf0u62eLtPVc+++o0cX65FpnskmuK2iEpZ+q/InzfOxlXa35HFo/AC1EEbcVhWdatxkPgJvXH1Ne8ffNMx/AsOyTNk6uMZZOrHN5/zetXLyi9Vq7RwEKSmippORsk17l/j1x5HCPXtQG3yzXtm0lSWUm1lfRcvzi5Viq3luv8xKvWXnl/wJXPKnlX3xA24LCkQ8seUP65K++8M+AJMmWSIiMlP8aJ7IIi6AH6zu+r/kv6m44BIB3kscIU8UteBe/YYzoKcGcPPywtWmQ6BdyIyu8BOE8Q8F3HHVF6rE28nFmz3HlnwLSq3DvbbiiCHqB6AVYOA75sbsB+vdu1hCym2+DpOD/QdvhTyQNcvbA0AN/1QdgazelUy3QM4PYYEbQdiqCHeLAA08OAr2tUaJEONWQGAB6qUCGpeHHTKeBmFEEPUbNgTdMRALhB5Qc3Kbp0uOkYwI0aNDCdAAZQBD1Eo/BGpiMAcIOTjkt6tE2snNmymo4CJNWwoekEMIAi6CEKZSmke3PdazoGADdY4H9AfbsUZ/EIPIefn1SvnukUMIA/hTxIk/AmpiMAcJOPwtZq5nMsHoGHqFxZypHDdAoYQBH0IBRBwF4eLbhIBxqxUAwegGlh26IIepBahWspY1BG0zEAuFHl6ht0+V4uHwXDWChiWxRBDxLkH6S6ReuajgHAjU47LqtRq0tyZs9mOgrsKixMqlHDdAoYQhH0MEwPA/azxP+Q3upSVJa/v+kosKMGDaSgINMpYAhF0MNQBAF7+iR0nf587iHTMWBHjz1mOgEMogh6mMJZC3MZGcCmHiuwSBFNmKKDGzkcUtOmplPAIIqgB2JUELCvKtXW61LZUqZjwC6qVpXy5DGdAgZRBD0QRRCwr9OOy2rY4qKcObKbjgI7YFrY9iiCHojLyAD2tsz/sHp3LsziEaQ/iqDtUQQ9UJB/kB4t8ajpGAAM+jx0vaY+X9N0DPiyQoWkChVMp4BhFEEP9fR9T5uOAMCw5vcs1t6mlEGkk2bNTCeAB6AIeqgmJZooU1Am0zEAGFalylpdKlvadAz4onbtTCeAB6AIeqjggGA9UfoJ0zEAGHbWEa16Lc/LmTOn6SjwJeHhUk1Gm0ER9GhP3feU6QgAPMAKvyP6b+d7ZAUEmI4CX9Gxo+kE8BAOy7Is0yFwc7EJscr7eV6djT5rOgoADzD56MNq+f1i0zHg7RwOad8+qXBh00ngAYyMCP7+++8KDw+Xv7+/XnnlFRMR7kqnTp3UvHnzxMd16tRJl+8R5B+kVmVapflxAXinVvkWa08zpvNwl+rUoQQiUYqK4MmTJ/XCCy+oUKFCypAhg/LmzatGjRpp2bJlKfrQ7t27q3Xr1jp48KA++OCDFL33qlGjRsnhcNywBQcHp+p4KfHVV19p1KhR6f45ktShQge3fA4A73D//WsUVaGM6RjwZkwL4xopOuGkVatWio2N1ejRo1WsWDEdP35c8+bN0+nTp5N9jIsXL+rEiRNq1KiR8ufPn+LA18qcObN27NiR5DmHw3FXx0yOLFmypPtnXFWrUC0VzlJY+8/td9tnAvBc5xwxqvt4pP4+klN+J0+ZjgNvExYmtWKmCf9K9ohgZGSklixZok8++USPPPKIChcurGrVqunNN9/U448/nrjfwIEDVa5cOYWFhalgwYJ68cUXdfHiRUnSwoULlSmT65IodevWlcPh0MKFCyVJS5cuVa1atRQSEqKCBQuqZ8+eioqKum0mh8OhvHnzJtnyXHPPxDp16qhHjx565ZVXlC1bNuXJk0fDhg1TVFSUnnvuOWXKlEnh4eGaMWNG4nsSEhLUuXNnFS1aVCEhISpVqpS++uqrJJ97/dRwenI4HGpfvr1bPguAd1jlf1T/6ZxfVmCg6SjwNq1aSRm5cxX+lewimDFjRmXMmFG///67YmJibn1APz8NHjxYW7Zs0ejRozV//ny9/vrrkqQaNWokjuBNnjxZR48eVY0aNbRnzx41btxYrVq10qZNmzRhwgQtXbpUL7/88l1+PWn06NHKmTOnVq1apR49euiFF15QmzZtVKNGDa1bt04NGzZUhw4ddOnSJUmS0+lUgQIF9Ouvv2rr1q3q16+f3nrrLU2cOPGus6RWh/JMDwNIakjwJk3q/KDpGPA2TAvjOilaNTx58mR17dpVly9fVuXKlVW7dm09/fTTKl++/C3fM2nSJP3f//2fTp1yTWFERkYqW7ZsWrBggerUqSNJ6tKli/z9/fX9998nvm/p0qWqXbu2oqKibnre36hRo/Tcc88pLCwsyfO1atVKHOGrU6eOEhIStGTJEkmu0b4sWbKoZcuWGjNmjCTp2LFjypcvn/7++29Vr179pt/h5Zdf1rFjxzRp0iRJrhHByMhI/f7774mfU7FiRX355Zd3+BVMvWrDqmn1kdXpdnwA3mnHuodUcupS0zHgDQoVkiIiXKuGgStSfI5g06ZNtWTJEq1YsUIzZszQp59+quHDh6tTp06SpLlz5+rjjz/W9u3bdf78ecXHxys6OlqXLl1SaGjoTY+7ceNGbdq0SePGjUt8zrIsOZ1O7du3T2XK3PzE6EyZMmndunVJngsJCUny+NqS6u/vrxw5cqhcuXKJz12dSj5x4kTic998841+/PFHHThwQJcvX1ZsbKwqVqx451+gdNS5UmeKIIAbVKm0SkcO3KeMG7aYjgJP16EDJRA3SPHlY4KDg9WgQQP17dtXy5cvV6dOnfTOO+9IkiIiItSsWTOVL19ekydP1tq1a/XNN99IkmJjY295zIsXL6p79+7asGFD4rZx40bt2rVLxYsXv3V4Pz+Fh4cn2e65554k+wRedw6Nw+FI8tzVxSVOp1OS9Msvv6hXr17q3LmzZs+erQ0bNui55567bX53aF++vbJkcN8iFQDe4YIjVnUeP62E3LlMR4GnY1oYN3HXl6m/9957E6dI165dK6fTqS+++EJ+fq6OmZxz6ypXrqytW7cqPDz8buPctWXLlqlGjRp68cUXE5/bs2ePwUQuYUFh6lSxk75a+dWddwZgK2v9jqnH8+X0zReRcsTFmY4DT1SjhlSihOkU8EDJHhE8ffq06tatq59++kmbNm3Svn379Ouvv+rTTz/VE0+47okbHh6uuLg4ff3119q7d6/Gjh2roUOH3vHYvXv31vLly/Xyyy9rw4YN2rVrl/744487LhaxLEvHjh27Ybs6upcaJUqU0Jo1azRr1izt3LlTffv21erVnjEl+1LVl+QQw/oAbvRd8Gb90vXm5zkDjAbiVlK0aviBBx7QoEGD9PDDD6ts2bLq27evunbtqiFDhkiSKlSooIEDB+qTTz5R2bJlNW7cOH388cd3PHb58uW1aNEi7dy5U7Vq1VKlSpXUr1+/O15n8Pz588qXL98N27Xn+6VU9+7d1bJlSz311FN64IEHdPr06SSjgyaVyFFCDYo3MB0DgIdql3uJdjzxkOkY8DTBwdJT3LseN8e9hr3MtB3T9Pgvj995RwC2lMkK0uFpJZVp3T+mo8BTtG8vjR1rOgU8lJF7DSP1mpZsqiJZi5iOAcBDXXDEqnazk0rIm+fOO8MeevUynQAejCLoZfwcfnqhygumYwDwYOv9juvF53LJCgoyHQWmNWwoVahgOgU8GEXQC3Wu1FnBATdeZBsArvohwz8a16Wa6RgwrXdv0wng4SiCXihHaA49XfZp0zEAeLgOuZdqW4tapmPAlCpVpLp1TaeAh6MIeqmXq979fZgB+L6q5Vfo/P3l7rwjfM9rr5lOAC9AEfRS9+e/Xw/c84DpGAA8XJQjTg81PaaEfHlNR4E7FS8utWplOgW8AEXQi71Wg3/tAbizzX4n1b1TDhaP2Mn//if5+5tOAS/AdQS9mGVZqjC0gjaf2Gw6CgAvMPLUQ+o0ZKnpGEhvuXNL+/e7LiQN3AEjgl7M4XCoz8N9TMcA4CWey7lU/7Ri8YjP69GDEohkY0TQyzktp8p9V05bT241HQWAFwixAnT0r3uVZfUm01GQHsLCpIMHpWzZTCeBl2BE0Mv5Ofz0dq23TccA4CUuO+JVs8kRJeRn8YhP6tKFEogUYUTQBzgtp+795l7tOL3DdBQAXqJT7L368Ys9csTEmI6CtBIQIO3ZIxUqZDoJvAgjgj7Az+Gnt2q9ZToGAC8yKmirRnarajoG0tLTT1MCkWKMCPqIBGeCSg0ppT1n95iOAsCLbPynlspPWmI6BtLCpk1SOS4ejpRhRNBH+Pv5MyoIIMWq3bdckdUqmI6Bu/XYY5RApAojgj4k3hmvEl+XUERkhOkoALzIvVZObRwRpIBDR0xHQWoEBLhGA8uUMZ0EXogRQR8S4BegNx9603QMAF5mq+OUnn82iyyuPeedunalBCLVGBH0MXEJcSo1pJT2Re4zHQWAl/n+TE11G7zMdAykRObM0u7dUq5cppPASzEi6GMC/QP1Sf1PTMcA4IW6Z1+m9U8+bDoGUuLNNymBuCuMCPqoWiNraekB7ikKIGUyWP46Oqucsq3YYDoK7qRwYWn7dm4nh7vCiKCP+rLRl3LIYToGAC8T40hQjYYHFV/gHtNRcCcffUQJxF2jCPqo+/Pfr2crPGs6BgAvtN3vtDp2zCQrJMR0FNxKtWpS27amU8AHUAR92Ef1PlJYYJjpGAC80PjA7fquWyXTMXArAwdKDmZ9cPcogj4sf6b86l2zt+kYALzUS9mWa+1TtU3HwPVatZJq1jSdAj6CxSI+7nLcZZUaUkoHzx80HQWAFwq0/HRsTgVlX77edBRIUlCQtHWrVLy46STwEYwI+riQwBANqD/AdAwAXirO4dQD9SMUV6iA6SiQpJdeogQiTTEiaBM1RtTQ34f+Nh0DgJd6Mq6kfhl4UI7Ll01Hsa/s2V0Xj86WzXQS+BBGBG1iUKNBXE4GQKpNDNypId0rmo5hb/36UQKR5hgRtJEOUzrop00/mY4BwIut2lFbVX9eZDqG/YSHu84NDAw0nQQ+hiJoIyejTureb+/VqUunTEcB4KUCLT8dnVtROZatMx3FPhwOad486ZFHTCeBD2Jq2EZyheXSl42+NB0DgBeLczhVrf5exRUuaDqKfXTvTglEuqEI2swz5Z9R0xJNTccA4MX2OiLVtn2wrNBQ01F8X+HC0mefmU4BH0YRtKGhzYYqc4bMpmMA8GKTA3fpy+4VTMfwbQ6HNGKElDGj6STwYRRBGyqQuYA+rf+p6RgAvNx/s/ytFc9w55F0062bVK+e6RTwcSwWsSnLslR3TF0tjFhoOgoAL+ZvOXRsfmXlXLLWdBTfUriwtHmzlCmT6STwcYwI2pTD4dCwx4YpJCDEdBQAXizBYanqI7sVV7SQ6Si+ZfhwSiDcgiJoY+HZw/X+I++bjgHAy0X4ndOTzwTJ4ly2tNG1q1S/vukUsAmmhm0uwZmgB0c8qNVHVpuOAsDLfX6+uv43cIXpGN6tUCHpn38YDYTbMCJoc/5+/hrx+AgF+nG1egB3p1fmFVrWnsUjd2XYMEog3IoiCJXLU079avczHQOAD6hdfLFO1K5iOoZ36txZatjQdArYDFPDkCQ5Lafqj6mvBRELTEcB4OUKWZm1a2w2Be3dbzqK9yhY0DUlnJlrvMK9GBGEJMnP4adxLccpV2gu01EAeLkDjvNq3S6AxSMp8cMPlEAYQRFEonyZ8mlMizFyyGE6CgAvNy1gjz7tdp8sB3+e3FGXLlLjxqZTwKYogkiicXhj9arRy3QMAD7gjcwrtbTDw6ZjeLYKFaTBg02ngI1xjiBuEJcQp4dHPawVh7gMBIC74285dHhxFeVZwCWqbpA1q7R2rVSsmOkksDFGBHGDQP9A/dLqF2UNzmo6CgAvl+CwVPXhHYotXsR0FM/icEg//UQJhHEUQdxU4ayFNeLxEaZjAPABBx3n1bytQxaLIf7Vp4/UtKnpFABFELfWskxLvVjlRdMxAPiAGQH79FHX0iwekVwLQ95913QKQBLnCOIOYuJj9MDwB7Tx+EbTUQD4gAX7aqvO6EWmY5hTpIjrvMDs2U0nASQxIog7yBCQQRNaT1CmIG55BODu1S2ySEfrVjMdw4zgYGnyZEogPApFEHdUKmcpjWs5Tn4OfrsAuDuWQ7q/1lbFlLDhIolvv5UqVzadAkiCv9mRLI+VekwD6g0wHQOADzjquKjmT1n2WjzStav03HOmUwA3oAgi2V6r+Zqeq8gfZADu3syAffqgWyl7LB6pWlX6+mvTKYCbYrEIUiQ2IVb1x9TXkgNLTEcB4APm7q+teiN9ePFIzpyuxSGFCplOAtwUI4JIkSD/IP321G8qmrWo6SgAfECDQot0pP4DpmOkDz8/6eefKYHwaBRBpFjO0Jya1nYaK4kB3DXLIVWpuUXRpYqbjpL2PvxQql/fdArgtiiCSJX7ct+nX1r/wkpiAHftqOOiHmsTL2fWLKajpJ0XXpDeeMN0CuCO+FscqfZoiUf1WYPPTMcA4APmBuzXe11LyPLzgb+W2rSRhgwxnQJIFhaL4K51mdpFI9ZzX2IAd2/2/tpq4M2LR+rVk/76SwoKMp0ESBaKIO5aXEKcGv3USAsiFpiOAsAHHFxWXQXmrDAdI+Xuv19asEDKxPnT8B4+MAYP0wL9A/XH03+oav6qpqMA8AFVamxWdOlw0zFSpkQJacYMSiC8DkUQaSJThkya2X6m7st1n+koALzccUeUHm0TK2e2rKajJE/+/NLs2VKuXKaTAClGEUSayR6SXXM6zFHxbD54GQgAbrXA/4D6dinu+YtHsmWTZs2SihQxnQRIFQ//PwzeJl+mfJr77Fzdk+ke01EAeLmPwtZq5nO1TMe4tZAQado0qWxZ00mAVKMIIs0VyVpEc5+dq1yhTJMAuDuPFlykA40eNB3jRgEB0sSJUs2appMAd4UiiHRROmdpzWo/S1ky+NAFYgEYUaX6Rl2+t6TpGP9yOKThw6VmzUwnAe4aRRDpplK+Svqz3Z8KDQw1HQWAFzvpuKQmrS7LmT2b6Sgun3widexoOgWQJiiCSFc1C9XUlKemKMifi6sCSL1F/gf1Vpeisvz9zQbp1Ut67TWzGYA0RBFEumtYvKF+bvWz/B2G/wAH4NU+CV2nv557yFyAXr2kz7itJnwLRRBu0bJMS/3c6mcF+gWajgLAizUrsEj7mxhYPNK/PyUQPolbzMGtpu6Yqid/fVIxCTGmowDwUjmsEB2cVFAhW3am/4c5HNLXX0svvZT+nwUYwIgg3OrxUo9ratupCgkIMR0FgJc67bisBi2j5MyRPX0/yN9fGj2aEgifRhGE2zUs3lAz289UxqCMpqMA8FLL/A+rd+fC6bd4JEMGadIkqUOH9Dk+4CGYGoYxKw+t1KPjH9WZy2dMRwHgpX4/XFtPDFuUtgcNC5P++EOqVy9tjwt4IIogjNpyYosa/tRQRy4cMR0FgJfau6qGiv61PG0Oli2b9NdfUvXqaXM8wMNRBGFcRGSEGoxtoN1ndpuOAsALZbOCdWhyEYX+s/3uDpQnjzR7tlS+fNoEA7wA5wjCuCJZi2jZ88tUMW9F01EAeKGzjmg1aHFBzpw5Un+QwoWlpUspgbAdiiA8Qu6w3FrYcaEeLvyw6SgAvNBy/8Pq1bmgrICAlL+5dGlXCQwPT/tggIejCMJjZAnOojkd5qhjBe7hCSDlBoVs0JTONVL2pkqVpMWLpQIF0icU4OEogvAoQf5BGtV8lD6p/4n8HPz2BJAyrfIt1p5mNZO3c7160oIFUq5c6RsK8GAsFoHH+mP7H2o/pb0uxl40HQWAF8liZdDhKcUUtmnbrXfq0UMaOFBKzVQy4EMogvBom45v0mM/P6YD5w6YjgLAi1RLyKe/h8bJ7+SppC8EBkrffit16WImGOBhmHuDRyufp7xWdVmlBwsYuMk8AK+1yv+oXn3+nqSLR3LlkubNowQC16AIwuPlyZhHCzouUPvy7U1HAeBFBods1KTOV/4RWb68tGqVVKuW2VCAh2FqGF7loyUfqc/8PrLEb1sAybPV0UNl/vuRlJH7mwPXowjC60zZNkUdpnRQVFyU6SgAPJifw0/9H+mvNx56Qw6Hw3QcwCNRBOGV/jnxj56a9JS2ntxqOgoAD5QjJIfGtxqvhsUbmo4CeDSKILzWpbhL6jmjp0asH2E6CgAPUjlfZf325G8qnLWw6SiAx6MIwuv9vPlndZ/eXRdiL5iOAsCw5ys+r2+afqPggGDTUQCvQBGET9h9ZreemvSU1h1dZzoKAAOyBWfT982+V5v72piOAngViiB8RmxCrF6f87q+WvmV6SgA3OiRIo9oTIsxKpCZ+wUDKUURhM+ZumOqnvvjOZ25fMZ0FADpKMg/SP0f6a//1fgf9yYHUokiCJ908NxBtfutnZYeWGo6CoB0UDpnaY1vOV6V8lUyHQXwavwTCj6pYJaCWthxofrU6iN/h7/pOADS0ItVXtS6busogUAaYEQQPm/NkTXqPLWzNh3fZDoKgLuQOyy3fnz8RzUt2dR0FMBnUARhC3EJcRqwdID6L+mv2IRY03EApFDTEk314xM/KndYbtNRAJ9CEYStbD25VZ2ndtaKQytMRwGQDDlCcuizBp/puUrPmY4C+CSKIGzHaTk1eOVgvT3/bV2Ku2Q6DoBb6FSxkz5r8JlyhuY0HQXwWRRB2Na+s/vUdVpXzds3z3QUANconbO0hjYdqtpFapuOAvg8iiBsb/i64eo1u5fOxZwzHQWwteCAYL310Fvq/VBvBfkHmY4D2AJFEJB05MIRvfzXy5qyfYrpKIAt1S9WX981/U7h2cNNRwFshSIIXGP+vvl6ddarXGoGcJPcYbk1sOFAPVP+GdNRAFuiCALXcVpODV83XH0X9NWJqBOm4wA+ySGHulTuok/qf6JsIdlMxwFsiyII3ML5mPP6cPGH+mrlV4pJiDEdB/AZDYs31Cf1P1HFvBVNRwFsjyII3MHes3v1+pzXNXnbZNNRAK9WOV9lfVr/U9UrVs90FABXUASBZFq8f7FenfWq1h1dZzoK4FWKZi2qD+t+qKfLPi2Hw2E6DoBrUASBFHBaTo3eMFpvz39bRy8eNR0H8Gg5Q3OqT60+eqHqC1wOBvBQFEEgFaJio/Tdmu/0+fLPdTzquOk4gEcJDQzVq9Vf1es1X1fmDJlNxwFwGxRB4C5cjrus79d+r0+XfcoIIWzP3+Gv5ys9r3frvKv8mfKbjgMgGSiCQBqIjo/W8HXD9cmyT3To/CHTcQC3yuCfQZ0qdtJrNV5T8ezFTccBkAIUQSANxSbE6sf1P2rA0gHaf26/6ThAusqcIbNeqPKCXqn+ivJmzGs6DoBUoAgC6SAuIU6jN47Wx0s/1t6ze03HAdJU3ox59coDr+iFqi9wDiDg5SiCQDqKd8Zr3KZx+mTZJ9p2apvpOMBdKZ6tuF6r8Zo6VeykDAEZTMcBkAYogoCbzNs7T0NWD9G0HdOUYCWYjgMkW+V8ldW7Zm+1KtNK/n7+puMASEMUQcDNDpw7oKFrhmr4uuE6eemk6TjATfk7/NWkRBP1qNZDDYs3NB0HQDqhCAKGxMTHaOKWiRqyeohWHV5lOg4gSSqUpZA6V+qszpU6657M95iOAyCdUQQBD7D68Gp9s/obTdgyQdHx0abjwGYC/ALUrGQzdavcTY3CG8nP4Wc6EgA3oQgCHuTUpVMasW6ERqwfoV1ndpmOAx9XNGtRdancRc9VfE75MuUzHQeAARRBwEOtPrxa4zeP14QtE7hrCdJMoF+gnij9hLpW7qoGxRrI4XCYjgTAIIog4OGcllML9i3Q+M3j9dv23xQZHWk6EryMn8NPDxd+WK3LtFab+9ood1hu05EAeAiKIOBFYuJj9NeuvzT+n/GavnM65xPilvwd/qpTpI5a39taLUq3UJ6MeUxHAuCBKIKAlzofc15Ttk3R+H/Ga97eeVybEArwC1DdonXVukxrtSjTQjlDc5qOBMDDUQQBH3Dm8hnN2DVDf+76UzN3z9TZ6LOmI8FNAv0CVa9YPbW5t42al26u7CHZTUcC4EUogoCPSXAmaNnBZZq+c7r+3PWntp7cajoS0liRrEVUv2h91StWT42KN1K2kGymIwHwUhRBwMcdOn9Is/fM1qw9szR371yduXzGdCSkUI6QHKpbtK7qF6uvekXrqXj24qYjAfARFEHARpyWU2uOrNGcPXO07OAyrTi0gmlkDxQaGKqHCj2k+kXrq36x+qqYtyKXeQGQLiiCgI1ZlqUdp3doxaEV+vvg3/r70N/acnKLnJbTdDRbyRqcVVXzV1X1AtVVt2hd1ShYQ0H+QaZjAbABiiCAJM7HnNeqw6tc5fDQ31pxaAXTyWkoOCBY5fOUV7X81VTtnmp6oMADKpG9BCN+AIygCAK4LcuytPP0Tq09ulbbTm7TtlOubdfpXYpzxpmO59GyBmdVxbwVVSlvJdeWr5JK5yytAL8A09EAQBJFEEAqxTvjtfvM7iTlcNvJbdp+arui4qJMx3ObTEGZVDx7cRXPVlzh2cOTbAUyFzAdDwBuiyIIIE1ZlqWD5w9q28lt2n9uv45cOKKjF47qyMUrP144ohNRJ7zmAthB/kHKGZpT92S6R+HZw28ofNyxA4A3owgCcDun5dSJqBP/lsQLR3T04lEdvXBUF2Iv6FLcJUXFRelS3KUkW1Ss67no+GhZuvMfXYF+gQr0D7zhx5CAEOUIzaFcobmUMzSncobmTPx5rrCkz2XKkMkNvyIAYAZFEIDXsSxLl+MvKyo2StHx0QrwC0hS9IL8gzgPDwCSgSIIAABgU36mAwAAAMAMiiAAAIBNUQQBAABsiiIIAABgUxRBAAAAm6IIAgAA2BRFEAAAwKYoggAAADZFEQQAALApiiAAAIBNUQQBAABsiiIIAABgUxRBAAAAm6IIAgAA2BRFEAAAwKYoggAAADZFEQQAALApiiAAAIBNUQQBAABsiiIIAABgUxRBAAAAm6IIAgAA2BRFEAAAwKYoggAAADZFEQQAALApiiAAAIBNUQQBAABsiiIIAABgUxRBAAAAm6IIAgAA2BRFEAAAwKYoggAAADZFEQQAALApiiAAAIBNUQQBAABsiiIIAABgUxRBAAAAm6IIAgAA2BRFEAAAwKYoggAAADZFEQQAALApiiAAAIBNUQQBAABsiiIIAABgUxRBAAAAm6IIAgAA2BRFEAAAwKYoggAAADZFEQQAALApiiAAAIBNUQQBAABsiiIIAABgUxRBAAAAm6IIAgAA2BRFEAAAwKYoggAAADZFEQQAALApiiAAAIBNUQQBAABsiiIIAABgUxRBAAAAm6IIAgAA2NT/A3HIXOomiQRvAAAAAElFTkSuQmCC",
>>>>>>> Stashed changes
      "text/plain": [
       "<Figure size 700x700 with 1 Axes>"
      ]
     },
     "metadata": {},
     "output_type": "display_data"
    }
   ],
   "source": [
    "# Plot a pie chart for the distribution of email types\n",
    "plt.figure(figsize=(7, 7))\n",
    "plt.pie(email_type_counts, labels=email_type_counts.index, \n",
    "        autopct='%1.1f%%', colors=['green', 'red'], startangle=90)\n",
    "plt.title('Email Type Distribution')\n",
    "plt.show()\n"
   ]
  },
  {
   "cell_type": "code",
   "execution_count": 15,
   "id": "ebfa1cb0",
   "metadata": {},
   "outputs": [],
   "source": [
    "import pandas as pd\n",
    "import matplotlib.pyplot as plt\n",
    "import seaborn as sns\n"
   ]
  },
  {
   "cell_type": "markdown",
   "id": "20e848a4",
   "metadata": {
    "papermill": {
     "duration": 0.011409,
     "end_time": "2023-11-14T03:38:58.791238",
     "exception": false,
     "start_time": "2023-11-14T03:38:58.779829",
     "status": "completed"
    },
    "tags": []
   },
   "source": [
    "# Undersampling"
   ]
  },
  {
   "cell_type": "code",
   "execution_count": 16,
   "id": "d6934d60",
   "metadata": {
    "execution": {
     "iopub.execute_input": "2023-11-14T03:38:58.858446Z",
     "iopub.status.busy": "2023-11-14T03:38:58.858112Z",
     "iopub.status.idle": "2023-11-14T03:38:58.874812Z",
     "shell.execute_reply": "2023-11-14T03:38:58.873891Z"
    },
    "papermill": {
     "duration": 0.032582,
     "end_time": "2023-11-14T03:38:58.876953",
     "exception": false,
     "start_time": "2023-11-14T03:38:58.844371",
     "status": "completed"
    },
    "tags": []
   },
   "outputs": [],
   "source": [
    "Safe_Email = df[df[\"Email Type\"]== \"Safe Email\"]\n",
    "Phishing_Email = df[df[\"Email Type\"]== \"Phishing Email\"]\n",
    "Safe_Email = Safe_Email.sample(Phishing_Email.shape[0])"
   ]
  },
  {
   "cell_type": "code",
   "execution_count": 17,
   "id": "3a5f0655",
   "metadata": {
    "execution": {
     "iopub.execute_input": "2023-11-14T03:38:58.903122Z",
     "iopub.status.busy": "2023-11-14T03:38:58.902802Z",
     "iopub.status.idle": "2023-11-14T03:38:58.908678Z",
     "shell.execute_reply": "2023-11-14T03:38:58.907731Z"
    },
    "papermill": {
     "duration": 0.021456,
     "end_time": "2023-11-14T03:38:58.910763",
     "exception": false,
     "start_time": "2023-11-14T03:38:58.889307",
     "status": "completed"
    },
    "tags": []
   },
   "outputs": [
    {
     "data": {
      "text/plain": [
       "((7312, 3), (7312, 3))"
      ]
     },
     "execution_count": 17,
     "metadata": {},
     "output_type": "execute_result"
    }
   ],
   "source": [
    "Safe_Email.shape,Phishing_Email.shape"
   ]
  },
  {
   "cell_type": "code",
   "execution_count": 18,
   "id": "18171a12",
   "metadata": {
    "execution": {
     "iopub.execute_input": "2023-11-14T03:38:58.937955Z",
     "iopub.status.busy": "2023-11-14T03:38:58.937604Z",
     "iopub.status.idle": "2023-11-14T03:38:58.949767Z",
     "shell.execute_reply": "2023-11-14T03:38:58.948922Z"
    },
    "papermill": {
     "duration": 0.028294,
     "end_time": "2023-11-14T03:38:58.952062",
     "exception": false,
     "start_time": "2023-11-14T03:38:58.923768",
     "status": "completed"
    },
    "tags": []
   },
   "outputs": [
    {
     "data": {
      "text/html": [
       "<div>\n",
       "<style scoped>\n",
       "    .dataframe tbody tr th:only-of-type {\n",
       "        vertical-align: middle;\n",
       "    }\n",
       "\n",
       "    .dataframe tbody tr th {\n",
       "        vertical-align: top;\n",
       "    }\n",
       "\n",
       "    .dataframe thead th {\n",
       "        text-align: right;\n",
       "    }\n",
       "</style>\n",
       "<table border=\"1\" class=\"dataframe\">\n",
       "  <thead>\n",
       "    <tr style=\"text-align: right;\">\n",
       "      <th></th>\n",
       "      <th>Unnamed: 0</th>\n",
       "      <th>Email Text</th>\n",
       "      <th>Email Type</th>\n",
       "    </tr>\n",
       "  </thead>\n",
       "  <tbody>\n",
       "    <tr>\n",
       "      <th>0</th>\n",
<<<<<<< Updated upstream
       "      <td>4222</td>\n",
       "      <td>re : i ' ll check my billing ! thanks for the ...</td>\n",
=======
       "      <td>11211</td>\n",
       "      <td>URL: http://www.newsisfree.com/click/-2,865571...</td>\n",
>>>>>>> Stashed changes
       "      <td>Safe Email</td>\n",
       "    </tr>\n",
       "    <tr>\n",
       "      <th>1</th>\n",
<<<<<<< Updated upstream
       "      <td>599</td>\n",
       "      <td>URL: http://www.newsisfree.com/click/-4,872399...</td>\n",
=======
       "      <td>787</td>\n",
       "      <td>cera conference call audio replay now availabl...</td>\n",
>>>>>>> Stashed changes
       "      <td>Safe Email</td>\n",
       "    </tr>\n",
       "    <tr>\n",
       "      <th>2</th>\n",
<<<<<<< Updated upstream
       "      <td>8779</td>\n",
       "      <td>On Wed, 2002-07-24 at 18:14, James Rogers wrot...</td>\n",
=======
       "      <td>13399</td>\n",
       "      <td>fw : caiso notice : update to june 20 market n...</td>\n",
>>>>>>> Stashed changes
       "      <td>Safe Email</td>\n",
       "    </tr>\n",
       "    <tr>\n",
       "      <th>3</th>\n",
<<<<<<< Updated upstream
       "      <td>9497</td>\n",
       "      <td>re : inland resources we executed final docume...</td>\n",
=======
       "      <td>18406</td>\n",
       "      <td>start date : 12 / 14 / 01 ; hourahead hour : 2...</td>\n",
>>>>>>> Stashed changes
       "      <td>Safe Email</td>\n",
       "    </tr>\n",
       "    <tr>\n",
       "      <th>4</th>\n",
<<<<<<< Updated upstream
       "      <td>6057</td>\n",
       "      <td>re : next step al , i have spoken with mark la...</td>\n",
=======
       "      <td>12704</td>\n",
       "      <td>aisb-95 sheffield : registration ( con / work ...</td>\n",
>>>>>>> Stashed changes
       "      <td>Safe Email</td>\n",
       "    </tr>\n",
       "  </tbody>\n",
       "</table>\n",
       "</div>"
      ],
      "text/plain": [
       "   Unnamed: 0                                         Email Text  Email Type\n",
<<<<<<< Updated upstream
       "0        4222  re : i ' ll check my billing ! thanks for the ...  Safe Email\n",
       "1         599  URL: http://www.newsisfree.com/click/-4,872399...  Safe Email\n",
       "2        8779  On Wed, 2002-07-24 at 18:14, James Rogers wrot...  Safe Email\n",
       "3        9497  re : inland resources we executed final docume...  Safe Email\n",
       "4        6057  re : next step al , i have spoken with mark la...  Safe Email"
=======
       "0       11211  URL: http://www.newsisfree.com/click/-2,865571...  Safe Email\n",
       "1         787  cera conference call audio replay now availabl...  Safe Email\n",
       "2       13399  fw : caiso notice : update to june 20 market n...  Safe Email\n",
       "3       18406  start date : 12 / 14 / 01 ; hourahead hour : 2...  Safe Email\n",
       "4       12704  aisb-95 sheffield : registration ( con / work ...  Safe Email"
>>>>>>> Stashed changes
      ]
     },
     "execution_count": 18,
     "metadata": {},
     "output_type": "execute_result"
    }
   ],
   "source": [
    "Data= pd.concat([Safe_Email, Phishing_Email], ignore_index = True)\n",
    "Data.head()"
   ]
  },
  {
   "cell_type": "code",
   "execution_count": 19,
   "id": "20839d0e",
   "metadata": {
    "execution": {
     "iopub.execute_input": "2023-11-14T03:38:58.978153Z",
     "iopub.status.busy": "2023-11-14T03:38:58.977854Z",
     "iopub.status.idle": "2023-11-14T03:38:58.987758Z",
     "shell.execute_reply": "2023-11-14T03:38:58.986935Z"
    },
    "papermill": {
     "duration": 0.024917,
     "end_time": "2023-11-14T03:38:58.989598",
     "exception": false,
     "start_time": "2023-11-14T03:38:58.964681",
     "status": "completed"
    },
    "tags": []
   },
   "outputs": [
    {
     "data": {
      "text/plain": [
       "Unnamed: 0    0\n",
       "Email Text    0\n",
       "Email Type    0\n",
       "dtype: int64"
      ]
     },
     "execution_count": 19,
     "metadata": {},
     "output_type": "execute_result"
    }
   ],
   "source": [
    "Data.isna().sum()"
   ]
  },
  {
   "cell_type": "code",
   "execution_count": 20,
   "id": "faa44660",
   "metadata": {
    "execution": {
     "iopub.execute_input": "2023-11-14T03:38:59.016436Z",
     "iopub.status.busy": "2023-11-14T03:38:59.016136Z",
     "iopub.status.idle": "2023-11-14T03:38:59.023305Z",
     "shell.execute_reply": "2023-11-14T03:38:59.022570Z"
    },
    "papermill": {
     "duration": 0.022454,
     "end_time": "2023-11-14T03:38:59.025164",
     "exception": false,
     "start_time": "2023-11-14T03:38:59.002710",
     "status": "completed"
    },
    "tags": []
   },
   "outputs": [],
   "source": [
    "X = Data[\"Email Text\"].values\n",
    "y = Data[\"Email Type\"].values\n",
    "from sklearn.model_selection import train_test_split\n",
    "X_train,x_test,y_train,y_test = train_test_split(X, y, test_size = 0.3, random_state = 0)"
   ]
  },
  {
   "cell_type": "markdown",
   "id": "30a726df",
   "metadata": {
    "papermill": {
     "duration": 0.012709,
     "end_time": "2023-11-14T03:38:59.050540",
     "exception": false,
     "start_time": "2023-11-14T03:38:59.037831",
     "status": "completed"
    },
    "tags": []
   },
   "source": [
    "# Random Forest Classifier"
   ]
  },
  {
   "cell_type": "code",
<<<<<<< Updated upstream
   "execution_count": 21,
=======
   "execution_count": 23,
>>>>>>> Stashed changes
   "id": "c438444c",
   "metadata": {
    "execution": {
     "iopub.execute_input": "2023-11-14T03:38:59.076758Z",
     "iopub.status.busy": "2023-11-14T03:38:59.076476Z",
     "iopub.status.idle": "2023-11-14T03:38:59.083206Z",
     "shell.execute_reply": "2023-11-14T03:38:59.082532Z"
    },
    "papermill": {
     "duration": 0.021925,
     "end_time": "2023-11-14T03:38:59.085180",
     "exception": false,
     "start_time": "2023-11-14T03:38:59.063255",
     "status": "completed"
    },
    "tags": []
   },
   "outputs": [],
   "source": [
    "from sklearn.ensemble import RandomForestClassifier\n",
    "from sklearn.feature_extraction.text import TfidfVectorizer\n",
    "from sklearn.pipeline import Pipeline\n",
    "\n",
    "# define the Classifier\n",
    "classifier = Pipeline([(\"tfidf\",TfidfVectorizer() ),(\"classifier\",RandomForestClassifier(n_estimators=10))])"
   ]
  },
  {
   "cell_type": "code",
<<<<<<< Updated upstream
   "execution_count": 22,
=======
   "execution_count": 24,
>>>>>>> Stashed changes
   "id": "399e73dc",
   "metadata": {
    "execution": {
     "iopub.execute_input": "2023-11-14T03:38:59.111347Z",
     "iopub.status.busy": "2023-11-14T03:38:59.111057Z",
     "iopub.status.idle": "2023-11-14T03:39:07.139067Z",
     "shell.execute_reply": "2023-11-14T03:39:07.138070Z"
    },
    "papermill": {
     "duration": 8.04365,
     "end_time": "2023-11-14T03:39:07.141239",
     "exception": false,
     "start_time": "2023-11-14T03:38:59.097589",
     "status": "completed"
    },
    "tags": []
   },
   "outputs": [
    {
     "data": {
      "text/html": [
<<<<<<< Updated upstream
       "<style>#sk-container-id-1 {\n",
       "  /* Definition of color scheme common for light and dark mode */\n",
       "  --sklearn-color-text: black;\n",
       "  --sklearn-color-line: gray;\n",
       "  /* Definition of color scheme for unfitted estimators */\n",
       "  --sklearn-color-unfitted-level-0: #fff5e6;\n",
       "  --sklearn-color-unfitted-level-1: #f6e4d2;\n",
       "  --sklearn-color-unfitted-level-2: #ffe0b3;\n",
       "  --sklearn-color-unfitted-level-3: chocolate;\n",
       "  /* Definition of color scheme for fitted estimators */\n",
       "  --sklearn-color-fitted-level-0: #f0f8ff;\n",
       "  --sklearn-color-fitted-level-1: #d4ebff;\n",
       "  --sklearn-color-fitted-level-2: #b3dbfd;\n",
       "  --sklearn-color-fitted-level-3: cornflowerblue;\n",
       "\n",
       "  /* Specific color for light theme */\n",
       "  --sklearn-color-text-on-default-background: var(--sg-text-color, var(--theme-code-foreground, var(--jp-content-font-color1, black)));\n",
       "  --sklearn-color-background: var(--sg-background-color, var(--theme-background, var(--jp-layout-color0, white)));\n",
       "  --sklearn-color-border-box: var(--sg-text-color, var(--theme-code-foreground, var(--jp-content-font-color1, black)));\n",
       "  --sklearn-color-icon: #696969;\n",
       "\n",
       "  @media (prefers-color-scheme: dark) {\n",
       "    /* Redefinition of color scheme for dark theme */\n",
       "    --sklearn-color-text-on-default-background: var(--sg-text-color, var(--theme-code-foreground, var(--jp-content-font-color1, white)));\n",
       "    --sklearn-color-background: var(--sg-background-color, var(--theme-background, var(--jp-layout-color0, #111)));\n",
       "    --sklearn-color-border-box: var(--sg-text-color, var(--theme-code-foreground, var(--jp-content-font-color1, white)));\n",
       "    --sklearn-color-icon: #878787;\n",
       "  }\n",
       "}\n",
       "\n",
       "#sk-container-id-1 {\n",
       "  color: var(--sklearn-color-text);\n",
       "}\n",
       "\n",
       "#sk-container-id-1 pre {\n",
       "  padding: 0;\n",
       "}\n",
       "\n",
       "#sk-container-id-1 input.sk-hidden--visually {\n",
       "  border: 0;\n",
       "  clip: rect(1px 1px 1px 1px);\n",
       "  clip: rect(1px, 1px, 1px, 1px);\n",
       "  height: 1px;\n",
       "  margin: -1px;\n",
       "  overflow: hidden;\n",
       "  padding: 0;\n",
       "  position: absolute;\n",
       "  width: 1px;\n",
       "}\n",
       "\n",
       "#sk-container-id-1 div.sk-dashed-wrapped {\n",
       "  border: 1px dashed var(--sklearn-color-line);\n",
       "  margin: 0 0.4em 0.5em 0.4em;\n",
       "  box-sizing: border-box;\n",
       "  padding-bottom: 0.4em;\n",
       "  background-color: var(--sklearn-color-background);\n",
       "}\n",
       "\n",
       "#sk-container-id-1 div.sk-container {\n",
       "  /* jupyter's `normalize.less` sets `[hidden] { display: none; }`\n",
       "     but bootstrap.min.css set `[hidden] { display: none !important; }`\n",
       "     so we also need the `!important` here to be able to override the\n",
       "     default hidden behavior on the sphinx rendered scikit-learn.org.\n",
       "     See: https://github.com/scikit-learn/scikit-learn/issues/21755 */\n",
       "  display: inline-block !important;\n",
       "  position: relative;\n",
       "}\n",
       "\n",
       "#sk-container-id-1 div.sk-text-repr-fallback {\n",
       "  display: none;\n",
       "}\n",
       "\n",
       "div.sk-parallel-item,\n",
       "div.sk-serial,\n",
       "div.sk-item {\n",
       "  /* draw centered vertical line to link estimators */\n",
       "  background-image: linear-gradient(var(--sklearn-color-text-on-default-background), var(--sklearn-color-text-on-default-background));\n",
       "  background-size: 2px 100%;\n",
       "  background-repeat: no-repeat;\n",
       "  background-position: center center;\n",
       "}\n",
       "\n",
       "/* Parallel-specific style estimator block */\n",
       "\n",
       "#sk-container-id-1 div.sk-parallel-item::after {\n",
       "  content: \"\";\n",
       "  width: 100%;\n",
       "  border-bottom: 2px solid var(--sklearn-color-text-on-default-background);\n",
       "  flex-grow: 1;\n",
       "}\n",
       "\n",
       "#sk-container-id-1 div.sk-parallel {\n",
       "  display: flex;\n",
       "  align-items: stretch;\n",
       "  justify-content: center;\n",
       "  background-color: var(--sklearn-color-background);\n",
       "  position: relative;\n",
       "}\n",
       "\n",
       "#sk-container-id-1 div.sk-parallel-item {\n",
       "  display: flex;\n",
       "  flex-direction: column;\n",
       "}\n",
       "\n",
       "#sk-container-id-1 div.sk-parallel-item:first-child::after {\n",
       "  align-self: flex-end;\n",
       "  width: 50%;\n",
       "}\n",
       "\n",
       "#sk-container-id-1 div.sk-parallel-item:last-child::after {\n",
       "  align-self: flex-start;\n",
       "  width: 50%;\n",
       "}\n",
       "\n",
       "#sk-container-id-1 div.sk-parallel-item:only-child::after {\n",
       "  width: 0;\n",
       "}\n",
       "\n",
       "/* Serial-specific style estimator block */\n",
       "\n",
       "#sk-container-id-1 div.sk-serial {\n",
       "  display: flex;\n",
       "  flex-direction: column;\n",
       "  align-items: center;\n",
       "  background-color: var(--sklearn-color-background);\n",
       "  padding-right: 1em;\n",
       "  padding-left: 1em;\n",
       "}\n",
       "\n",
       "\n",
       "/* Toggleable style: style used for estimator/Pipeline/ColumnTransformer box that is\n",
       "clickable and can be expanded/collapsed.\n",
       "- Pipeline and ColumnTransformer use this feature and define the default style\n",
       "- Estimators will overwrite some part of the style using the `sk-estimator` class\n",
       "*/\n",
       "\n",
       "/* Pipeline and ColumnTransformer style (default) */\n",
       "\n",
       "#sk-container-id-1 div.sk-toggleable {\n",
       "  /* Default theme specific background. It is overwritten whether we have a\n",
       "  specific estimator or a Pipeline/ColumnTransformer */\n",
       "  background-color: var(--sklearn-color-background);\n",
       "}\n",
       "\n",
       "/* Toggleable label */\n",
       "#sk-container-id-1 label.sk-toggleable__label {\n",
       "  cursor: pointer;\n",
       "  display: block;\n",
       "  width: 100%;\n",
       "  margin-bottom: 0;\n",
       "  padding: 0.5em;\n",
       "  box-sizing: border-box;\n",
       "  text-align: center;\n",
       "}\n",
       "\n",
       "#sk-container-id-1 label.sk-toggleable__label-arrow:before {\n",
       "  /* Arrow on the left of the label */\n",
       "  content: \"▸\";\n",
       "  float: left;\n",
       "  margin-right: 0.25em;\n",
       "  color: var(--sklearn-color-icon);\n",
       "}\n",
       "\n",
       "#sk-container-id-1 label.sk-toggleable__label-arrow:hover:before {\n",
       "  color: var(--sklearn-color-text);\n",
       "}\n",
       "\n",
       "/* Toggleable content - dropdown */\n",
       "\n",
       "#sk-container-id-1 div.sk-toggleable__content {\n",
       "  max-height: 0;\n",
       "  max-width: 0;\n",
       "  overflow: hidden;\n",
       "  text-align: left;\n",
       "  /* unfitted */\n",
       "  background-color: var(--sklearn-color-unfitted-level-0);\n",
       "}\n",
       "\n",
       "#sk-container-id-1 div.sk-toggleable__content.fitted {\n",
       "  /* fitted */\n",
       "  background-color: var(--sklearn-color-fitted-level-0);\n",
       "}\n",
       "\n",
       "#sk-container-id-1 div.sk-toggleable__content pre {\n",
       "  margin: 0.2em;\n",
       "  border-radius: 0.25em;\n",
       "  color: var(--sklearn-color-text);\n",
       "  /* unfitted */\n",
       "  background-color: var(--sklearn-color-unfitted-level-0);\n",
       "}\n",
       "\n",
       "#sk-container-id-1 div.sk-toggleable__content.fitted pre {\n",
       "  /* unfitted */\n",
       "  background-color: var(--sklearn-color-fitted-level-0);\n",
       "}\n",
       "\n",
       "#sk-container-id-1 input.sk-toggleable__control:checked~div.sk-toggleable__content {\n",
       "  /* Expand drop-down */\n",
       "  max-height: 200px;\n",
       "  max-width: 100%;\n",
       "  overflow: auto;\n",
       "}\n",
       "\n",
       "#sk-container-id-1 input.sk-toggleable__control:checked~label.sk-toggleable__label-arrow:before {\n",
       "  content: \"▾\";\n",
       "}\n",
       "\n",
       "/* Pipeline/ColumnTransformer-specific style */\n",
       "\n",
       "#sk-container-id-1 div.sk-label input.sk-toggleable__control:checked~label.sk-toggleable__label {\n",
       "  color: var(--sklearn-color-text);\n",
       "  background-color: var(--sklearn-color-unfitted-level-2);\n",
       "}\n",
       "\n",
       "#sk-container-id-1 div.sk-label.fitted input.sk-toggleable__control:checked~label.sk-toggleable__label {\n",
       "  background-color: var(--sklearn-color-fitted-level-2);\n",
       "}\n",
       "\n",
       "/* Estimator-specific style */\n",
       "\n",
       "/* Colorize estimator box */\n",
       "#sk-container-id-1 div.sk-estimator input.sk-toggleable__control:checked~label.sk-toggleable__label {\n",
       "  /* unfitted */\n",
       "  background-color: var(--sklearn-color-unfitted-level-2);\n",
       "}\n",
       "\n",
       "#sk-container-id-1 div.sk-estimator.fitted input.sk-toggleable__control:checked~label.sk-toggleable__label {\n",
       "  /* fitted */\n",
       "  background-color: var(--sklearn-color-fitted-level-2);\n",
       "}\n",
       "\n",
       "#sk-container-id-1 div.sk-label label.sk-toggleable__label,\n",
       "#sk-container-id-1 div.sk-label label {\n",
       "  /* The background is the default theme color */\n",
       "  color: var(--sklearn-color-text-on-default-background);\n",
       "}\n",
       "\n",
       "/* On hover, darken the color of the background */\n",
       "#sk-container-id-1 div.sk-label:hover label.sk-toggleable__label {\n",
       "  color: var(--sklearn-color-text);\n",
       "  background-color: var(--sklearn-color-unfitted-level-2);\n",
       "}\n",
       "\n",
       "/* Label box, darken color on hover, fitted */\n",
       "#sk-container-id-1 div.sk-label.fitted:hover label.sk-toggleable__label.fitted {\n",
       "  color: var(--sklearn-color-text);\n",
       "  background-color: var(--sklearn-color-fitted-level-2);\n",
       "}\n",
       "\n",
       "/* Estimator label */\n",
       "\n",
       "#sk-container-id-1 div.sk-label label {\n",
       "  font-family: monospace;\n",
       "  font-weight: bold;\n",
       "  display: inline-block;\n",
       "  line-height: 1.2em;\n",
       "}\n",
       "\n",
       "#sk-container-id-1 div.sk-label-container {\n",
       "  text-align: center;\n",
       "}\n",
       "\n",
       "/* Estimator-specific */\n",
       "#sk-container-id-1 div.sk-estimator {\n",
       "  font-family: monospace;\n",
       "  border: 1px dotted var(--sklearn-color-border-box);\n",
       "  border-radius: 0.25em;\n",
       "  box-sizing: border-box;\n",
       "  margin-bottom: 0.5em;\n",
       "  /* unfitted */\n",
       "  background-color: var(--sklearn-color-unfitted-level-0);\n",
       "}\n",
       "\n",
       "#sk-container-id-1 div.sk-estimator.fitted {\n",
       "  /* fitted */\n",
       "  background-color: var(--sklearn-color-fitted-level-0);\n",
       "}\n",
       "\n",
       "/* on hover */\n",
       "#sk-container-id-1 div.sk-estimator:hover {\n",
       "  /* unfitted */\n",
       "  background-color: var(--sklearn-color-unfitted-level-2);\n",
       "}\n",
       "\n",
       "#sk-container-id-1 div.sk-estimator.fitted:hover {\n",
       "  /* fitted */\n",
       "  background-color: var(--sklearn-color-fitted-level-2);\n",
       "}\n",
       "\n",
       "/* Specification for estimator info (e.g. \"i\" and \"?\") */\n",
       "\n",
       "/* Common style for \"i\" and \"?\" */\n",
       "\n",
       ".sk-estimator-doc-link,\n",
       "a:link.sk-estimator-doc-link,\n",
       "a:visited.sk-estimator-doc-link {\n",
       "  float: right;\n",
       "  font-size: smaller;\n",
       "  line-height: 1em;\n",
       "  font-family: monospace;\n",
       "  background-color: var(--sklearn-color-background);\n",
       "  border-radius: 1em;\n",
       "  height: 1em;\n",
       "  width: 1em;\n",
       "  text-decoration: none !important;\n",
       "  margin-left: 1ex;\n",
       "  /* unfitted */\n",
       "  border: var(--sklearn-color-unfitted-level-1) 1pt solid;\n",
       "  color: var(--sklearn-color-unfitted-level-1);\n",
       "}\n",
       "\n",
       ".sk-estimator-doc-link.fitted,\n",
       "a:link.sk-estimator-doc-link.fitted,\n",
       "a:visited.sk-estimator-doc-link.fitted {\n",
       "  /* fitted */\n",
       "  border: var(--sklearn-color-fitted-level-1) 1pt solid;\n",
       "  color: var(--sklearn-color-fitted-level-1);\n",
       "}\n",
       "\n",
       "/* On hover */\n",
       "div.sk-estimator:hover .sk-estimator-doc-link:hover,\n",
       ".sk-estimator-doc-link:hover,\n",
       "div.sk-label-container:hover .sk-estimator-doc-link:hover,\n",
       ".sk-estimator-doc-link:hover {\n",
       "  /* unfitted */\n",
       "  background-color: var(--sklearn-color-unfitted-level-3);\n",
       "  color: var(--sklearn-color-background);\n",
       "  text-decoration: none;\n",
       "}\n",
       "\n",
       "div.sk-estimator.fitted:hover .sk-estimator-doc-link.fitted:hover,\n",
       ".sk-estimator-doc-link.fitted:hover,\n",
       "div.sk-label-container:hover .sk-estimator-doc-link.fitted:hover,\n",
       ".sk-estimator-doc-link.fitted:hover {\n",
       "  /* fitted */\n",
       "  background-color: var(--sklearn-color-fitted-level-3);\n",
       "  color: var(--sklearn-color-background);\n",
       "  text-decoration: none;\n",
       "}\n",
       "\n",
       "/* Span, style for the box shown on hovering the info icon */\n",
       ".sk-estimator-doc-link span {\n",
       "  display: none;\n",
       "  z-index: 9999;\n",
       "  position: relative;\n",
       "  font-weight: normal;\n",
       "  right: .2ex;\n",
       "  padding: .5ex;\n",
       "  margin: .5ex;\n",
       "  width: min-content;\n",
       "  min-width: 20ex;\n",
       "  max-width: 50ex;\n",
       "  color: var(--sklearn-color-text);\n",
       "  box-shadow: 2pt 2pt 4pt #999;\n",
       "  /* unfitted */\n",
       "  background: var(--sklearn-color-unfitted-level-0);\n",
       "  border: .5pt solid var(--sklearn-color-unfitted-level-3);\n",
       "}\n",
       "\n",
       ".sk-estimator-doc-link.fitted span {\n",
       "  /* fitted */\n",
       "  background: var(--sklearn-color-fitted-level-0);\n",
       "  border: var(--sklearn-color-fitted-level-3);\n",
       "}\n",
       "\n",
       ".sk-estimator-doc-link:hover span {\n",
       "  display: block;\n",
       "}\n",
       "\n",
       "/* \"?\"-specific style due to the `<a>` HTML tag */\n",
       "\n",
       "#sk-container-id-1 a.estimator_doc_link {\n",
       "  float: right;\n",
       "  font-size: 1rem;\n",
       "  line-height: 1em;\n",
       "  font-family: monospace;\n",
       "  background-color: var(--sklearn-color-background);\n",
       "  border-radius: 1rem;\n",
       "  height: 1rem;\n",
       "  width: 1rem;\n",
       "  text-decoration: none;\n",
       "  /* unfitted */\n",
       "  color: var(--sklearn-color-unfitted-level-1);\n",
       "  border: var(--sklearn-color-unfitted-level-1) 1pt solid;\n",
       "}\n",
       "\n",
       "#sk-container-id-1 a.estimator_doc_link.fitted {\n",
       "  /* fitted */\n",
       "  border: var(--sklearn-color-fitted-level-1) 1pt solid;\n",
       "  color: var(--sklearn-color-fitted-level-1);\n",
       "}\n",
       "\n",
       "/* On hover */\n",
       "#sk-container-id-1 a.estimator_doc_link:hover {\n",
       "  /* unfitted */\n",
       "  background-color: var(--sklearn-color-unfitted-level-3);\n",
       "  color: var(--sklearn-color-background);\n",
       "  text-decoration: none;\n",
       "}\n",
       "\n",
       "#sk-container-id-1 a.estimator_doc_link.fitted:hover {\n",
       "  /* fitted */\n",
       "  background-color: var(--sklearn-color-fitted-level-3);\n",
       "}\n",
       "</style><div id=\"sk-container-id-1\" class=\"sk-top-container\"><div class=\"sk-text-repr-fallback\"><pre>Pipeline(steps=[(&#x27;tfidf&#x27;, TfidfVectorizer()),\n",
       "                (&#x27;classifier&#x27;, RandomForestClassifier(n_estimators=10))])</pre><b>In a Jupyter environment, please rerun this cell to show the HTML representation or trust the notebook. <br />On GitHub, the HTML representation is unable to render, please try loading this page with nbviewer.org.</b></div><div class=\"sk-container\" hidden><div class=\"sk-item sk-dashed-wrapped\"><div class=\"sk-label-container\"><div class=\"sk-label fitted sk-toggleable\"><input class=\"sk-toggleable__control sk-hidden--visually\" id=\"sk-estimator-id-1\" type=\"checkbox\" ><label for=\"sk-estimator-id-1\" class=\"sk-toggleable__label fitted sk-toggleable__label-arrow fitted\">&nbsp;&nbsp;Pipeline<a class=\"sk-estimator-doc-link fitted\" rel=\"noreferrer\" target=\"_blank\" href=\"https://scikit-learn.org/1.5/modules/generated/sklearn.pipeline.Pipeline.html\">?<span>Documentation for Pipeline</span></a><span class=\"sk-estimator-doc-link fitted\">i<span>Fitted</span></span></label><div class=\"sk-toggleable__content fitted\"><pre>Pipeline(steps=[(&#x27;tfidf&#x27;, TfidfVectorizer()),\n",
       "                (&#x27;classifier&#x27;, RandomForestClassifier(n_estimators=10))])</pre></div> </div></div><div class=\"sk-serial\"><div class=\"sk-item\"><div class=\"sk-estimator fitted sk-toggleable\"><input class=\"sk-toggleable__control sk-hidden--visually\" id=\"sk-estimator-id-2\" type=\"checkbox\" ><label for=\"sk-estimator-id-2\" class=\"sk-toggleable__label fitted sk-toggleable__label-arrow fitted\">&nbsp;TfidfVectorizer<a class=\"sk-estimator-doc-link fitted\" rel=\"noreferrer\" target=\"_blank\" href=\"https://scikit-learn.org/1.5/modules/generated/sklearn.feature_extraction.text.TfidfVectorizer.html\">?<span>Documentation for TfidfVectorizer</span></a></label><div class=\"sk-toggleable__content fitted\"><pre>TfidfVectorizer()</pre></div> </div></div><div class=\"sk-item\"><div class=\"sk-estimator fitted sk-toggleable\"><input class=\"sk-toggleable__control sk-hidden--visually\" id=\"sk-estimator-id-3\" type=\"checkbox\" ><label for=\"sk-estimator-id-3\" class=\"sk-toggleable__label fitted sk-toggleable__label-arrow fitted\">&nbsp;RandomForestClassifier<a class=\"sk-estimator-doc-link fitted\" rel=\"noreferrer\" target=\"_blank\" href=\"https://scikit-learn.org/1.5/modules/generated/sklearn.ensemble.RandomForestClassifier.html\">?<span>Documentation for RandomForestClassifier</span></a></label><div class=\"sk-toggleable__content fitted\"><pre>RandomForestClassifier(n_estimators=10)</pre></div> </div></div></div></div></div></div>"
=======
       "<style>#sk-container-id-1 {color: black;}#sk-container-id-1 pre{padding: 0;}#sk-container-id-1 div.sk-toggleable {background-color: white;}#sk-container-id-1 label.sk-toggleable__label {cursor: pointer;display: block;width: 100%;margin-bottom: 0;padding: 0.3em;box-sizing: border-box;text-align: center;}#sk-container-id-1 label.sk-toggleable__label-arrow:before {content: \"▸\";float: left;margin-right: 0.25em;color: #696969;}#sk-container-id-1 label.sk-toggleable__label-arrow:hover:before {color: black;}#sk-container-id-1 div.sk-estimator:hover label.sk-toggleable__label-arrow:before {color: black;}#sk-container-id-1 div.sk-toggleable__content {max-height: 0;max-width: 0;overflow: hidden;text-align: left;background-color: #f0f8ff;}#sk-container-id-1 div.sk-toggleable__content pre {margin: 0.2em;color: black;border-radius: 0.25em;background-color: #f0f8ff;}#sk-container-id-1 input.sk-toggleable__control:checked~div.sk-toggleable__content {max-height: 200px;max-width: 100%;overflow: auto;}#sk-container-id-1 input.sk-toggleable__control:checked~label.sk-toggleable__label-arrow:before {content: \"▾\";}#sk-container-id-1 div.sk-estimator input.sk-toggleable__control:checked~label.sk-toggleable__label {background-color: #d4ebff;}#sk-container-id-1 div.sk-label input.sk-toggleable__control:checked~label.sk-toggleable__label {background-color: #d4ebff;}#sk-container-id-1 input.sk-hidden--visually {border: 0;clip: rect(1px 1px 1px 1px);clip: rect(1px, 1px, 1px, 1px);height: 1px;margin: -1px;overflow: hidden;padding: 0;position: absolute;width: 1px;}#sk-container-id-1 div.sk-estimator {font-family: monospace;background-color: #f0f8ff;border: 1px dotted black;border-radius: 0.25em;box-sizing: border-box;margin-bottom: 0.5em;}#sk-container-id-1 div.sk-estimator:hover {background-color: #d4ebff;}#sk-container-id-1 div.sk-parallel-item::after {content: \"\";width: 100%;border-bottom: 1px solid gray;flex-grow: 1;}#sk-container-id-1 div.sk-label:hover label.sk-toggleable__label {background-color: #d4ebff;}#sk-container-id-1 div.sk-serial::before {content: \"\";position: absolute;border-left: 1px solid gray;box-sizing: border-box;top: 0;bottom: 0;left: 50%;z-index: 0;}#sk-container-id-1 div.sk-serial {display: flex;flex-direction: column;align-items: center;background-color: white;padding-right: 0.2em;padding-left: 0.2em;position: relative;}#sk-container-id-1 div.sk-item {position: relative;z-index: 1;}#sk-container-id-1 div.sk-parallel {display: flex;align-items: stretch;justify-content: center;background-color: white;position: relative;}#sk-container-id-1 div.sk-item::before, #sk-container-id-1 div.sk-parallel-item::before {content: \"\";position: absolute;border-left: 1px solid gray;box-sizing: border-box;top: 0;bottom: 0;left: 50%;z-index: -1;}#sk-container-id-1 div.sk-parallel-item {display: flex;flex-direction: column;z-index: 1;position: relative;background-color: white;}#sk-container-id-1 div.sk-parallel-item:first-child::after {align-self: flex-end;width: 50%;}#sk-container-id-1 div.sk-parallel-item:last-child::after {align-self: flex-start;width: 50%;}#sk-container-id-1 div.sk-parallel-item:only-child::after {width: 0;}#sk-container-id-1 div.sk-dashed-wrapped {border: 1px dashed gray;margin: 0 0.4em 0.5em 0.4em;box-sizing: border-box;padding-bottom: 0.4em;background-color: white;}#sk-container-id-1 div.sk-label label {font-family: monospace;font-weight: bold;display: inline-block;line-height: 1.2em;}#sk-container-id-1 div.sk-label-container {text-align: center;}#sk-container-id-1 div.sk-container {/* jupyter's `normalize.less` sets `[hidden] { display: none; }` but bootstrap.min.css set `[hidden] { display: none !important; }` so we also need the `!important` here to be able to override the default hidden behavior on the sphinx rendered scikit-learn.org. See: https://github.com/scikit-learn/scikit-learn/issues/21755 */display: inline-block !important;position: relative;}#sk-container-id-1 div.sk-text-repr-fallback {display: none;}</style><div id=\"sk-container-id-1\" class=\"sk-top-container\"><div class=\"sk-text-repr-fallback\"><pre>Pipeline(steps=[(&#x27;tfidf&#x27;, TfidfVectorizer()),\n",
       "                (&#x27;classifier&#x27;, RandomForestClassifier(n_estimators=10))])</pre><b>In a Jupyter environment, please rerun this cell to show the HTML representation or trust the notebook. <br />On GitHub, the HTML representation is unable to render, please try loading this page with nbviewer.org.</b></div><div class=\"sk-container\" hidden><div class=\"sk-item sk-dashed-wrapped\"><div class=\"sk-label-container\"><div class=\"sk-label sk-toggleable\"><input class=\"sk-toggleable__control sk-hidden--visually\" id=\"sk-estimator-id-1\" type=\"checkbox\" ><label for=\"sk-estimator-id-1\" class=\"sk-toggleable__label sk-toggleable__label-arrow\">Pipeline</label><div class=\"sk-toggleable__content\"><pre>Pipeline(steps=[(&#x27;tfidf&#x27;, TfidfVectorizer()),\n",
       "                (&#x27;classifier&#x27;, RandomForestClassifier(n_estimators=10))])</pre></div></div></div><div class=\"sk-serial\"><div class=\"sk-item\"><div class=\"sk-estimator sk-toggleable\"><input class=\"sk-toggleable__control sk-hidden--visually\" id=\"sk-estimator-id-2\" type=\"checkbox\" ><label for=\"sk-estimator-id-2\" class=\"sk-toggleable__label sk-toggleable__label-arrow\">TfidfVectorizer</label><div class=\"sk-toggleable__content\"><pre>TfidfVectorizer()</pre></div></div></div><div class=\"sk-item\"><div class=\"sk-estimator sk-toggleable\"><input class=\"sk-toggleable__control sk-hidden--visually\" id=\"sk-estimator-id-3\" type=\"checkbox\" ><label for=\"sk-estimator-id-3\" class=\"sk-toggleable__label sk-toggleable__label-arrow\">RandomForestClassifier</label><div class=\"sk-toggleable__content\"><pre>RandomForestClassifier(n_estimators=10)</pre></div></div></div></div></div></div></div>"
>>>>>>> Stashed changes
      ],
      "text/plain": [
       "Pipeline(steps=[('tfidf', TfidfVectorizer()),\n",
       "                ('classifier', RandomForestClassifier(n_estimators=10))])"
      ]
     },
<<<<<<< Updated upstream
     "execution_count": 22,
=======
     "execution_count": 24,
>>>>>>> Stashed changes
     "metadata": {},
     "output_type": "execute_result"
    }
   ],
   "source": [
    "classifier.fit(X_train,y_train)"
   ]
  },
  {
   "cell_type": "code",
   "execution_count": null,
   "id": "5e577b9f",
   "metadata": {},
   "outputs": [],
   "source": []
  },
  {
   "cell_type": "code",
<<<<<<< Updated upstream
   "execution_count": 23,
=======
   "execution_count": 27,
>>>>>>> Stashed changes
   "id": "2aacbd5e",
   "metadata": {},
   "outputs": [
    {
     "name": "stdout",
     "output_type": "stream",
     "text": [
<<<<<<< Updated upstream
      "Accuracy: 0.93\n",
=======
      "Accuracy: 0.92\n",
>>>>>>> Stashed changes
      "\n",
      "Classification Report:\n",
      "                 precision    recall  f1-score   support\n",
      "\n",
      "Phishing Email       0.89      0.97      0.93      2198\n",
<<<<<<< Updated upstream
      "    Safe Email       0.97      0.88      0.92      2190\n",
      "\n",
      "      accuracy                           0.93      4388\n",
      "     macro avg       0.93      0.93      0.93      4388\n",
      "  weighted avg       0.93      0.93      0.93      4388\n",
=======
      "    Safe Email       0.96      0.88      0.92      2190\n",
      "\n",
      "      accuracy                           0.92      4388\n",
      "     macro avg       0.93      0.92      0.92      4388\n",
      "  weighted avg       0.93      0.92      0.92      4388\n",
>>>>>>> Stashed changes
      "\n"
     ]
    }
   ],
   "source": [
    "\n",
    "# Make predictions\n",
    "y_pred = classifier.predict(x_test)\n",
    "y_prob = classifier.predict_proba(x_test)[:, 1]  # Probability scores for ROC\n",
    "\n",
    "# Calculate accuracy\n",
    "print(f\"Accuracy: {accuracy_score(y_test, y_pred):.2f}\")\n",
    "\n",
    "# Print the classification report\n",
    "print(\"\\nClassification Report:\\n\", classification_report(y_test, y_pred))\n",
    "\n",
    "# Generate confusion matrix\n",
    "cm = confusion_matrix(y_test, y_pred)\n",
    "\n",
    "# Class labels (you can modify if your classes are named differently)\n",
    "class_names = [\"Safe Email\", \"Phishing Email\"]"
   ]
  },
  {
   "cell_type": "code",
<<<<<<< Updated upstream
   "execution_count": 24,
=======
   "execution_count": 28,
>>>>>>> Stashed changes
   "id": "81973608",
   "metadata": {},
   "outputs": [
    {
     "data": {
<<<<<<< Updated upstream
      "image/png": "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",
=======
      "image/png": "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",
>>>>>>> Stashed changes
      "text/plain": [
       "<Figure size 600x500 with 2 Axes>"
      ]
     },
     "metadata": {},
     "output_type": "display_data"
    }
   ],
   "source": [
    "# Plot the confusion matrix\n",
    "plt.figure(figsize=(6, 5))\n",
    "sns.heatmap(cm, annot=True, cmap=\"Blues\", fmt=\"d\", xticklabels=class_names, yticklabels=class_names)\n",
    "plt.xlabel('Predicted Label')\n",
    "plt.ylabel('True Label')\n",
    "plt.title('Confusion Matrix')\n",
    "plt.show()\n"
   ]
  },
  {
   "cell_type": "code",
<<<<<<< Updated upstream
   "execution_count": 25,
=======
   "execution_count": 31,
>>>>>>> Stashed changes
   "id": "1de0ae50",
   "metadata": {},
   "outputs": [
    {
     "data": {
<<<<<<< Updated upstream
      "image/png": "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",
=======
      "image/png": "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",
>>>>>>> Stashed changes
      "text/plain": [
       "<Figure size 800x600 with 1 Axes>"
      ]
     },
     "metadata": {},
     "output_type": "display_data"
    }
   ],
   "source": [
    "\n",
    "from sklearn.metrics import (\n",
    "    classification_report, accuracy_score, confusion_matrix, \n",
    "    roc_curve, auc, precision_recall_curve\n",
    ")\n",
    "import matplotlib.pyplot as plt\n",
    "import seaborn as sns\n",
    "import numpy as np\n",
    "fpr, tpr, thresholds = roc_curve(y_test, y_prob, pos_label='Phishing Email')\n",
    "roc_auc = auc(fpr, tpr)\n",
    "\n",
    "# Plot ROC curve\n",
    "plt.figure(figsize=(8, 6))\n",
    "plt.plot(fpr, tpr, color='darkorange', lw=2, label=f'ROC Curve (AUC = {roc_auc:.2f})')\n",
    "plt.plot([0, 1], [0, 1], color='navy', linestyle='--')\n",
    "plt.xlim([0.0, 1.0])\n",
    "plt.ylim([0.0, 1.05])\n",
    "plt.xlabel('False Positive Rate')\n",
    "plt.ylabel('True Positive Rate')\n",
    "plt.title('Receiver Operating Characteristic (ROC) Curve')\n",
    "plt.legend(loc=\"lower right\")\n",
    "plt.show()\n"
   ]
  },
  {
   "cell_type": "code",
<<<<<<< Updated upstream
   "execution_count": 26,
=======
   "execution_count": 25,
>>>>>>> Stashed changes
   "id": "a6156140",
   "metadata": {
    "execution": {
     "iopub.execute_input": "2023-11-14T03:39:07.168140Z",
     "iopub.status.busy": "2023-11-14T03:39:07.167811Z",
     "iopub.status.idle": "2023-11-14T03:39:08.556901Z",
     "shell.execute_reply": "2023-11-14T03:39:08.555861Z"
    },
    "papermill": {
     "duration": 1.404761,
     "end_time": "2023-11-14T03:39:08.559066",
     "exception": false,
     "start_time": "2023-11-14T03:39:07.154305",
     "status": "completed"
    },
    "tags": []
   },
   "outputs": [
    {
     "data": {
      "text/plain": [
<<<<<<< Updated upstream
       "0.92616226071103"
      ]
     },
     "execution_count": 26,
=======
       "0.9227438468550593"
      ]
     },
     "execution_count": 25,
>>>>>>> Stashed changes
     "metadata": {},
     "output_type": "execute_result"
    }
   ],
   "source": [
    "from sklearn.metrics import classification_report,accuracy_score,confusion_matrix\n",
    "y_pred = classifier.predict(x_test)\n",
    "accuracy_score(y_test,y_pred)"
   ]
  },
  {
   "cell_type": "markdown",
   "id": "2f5ea42f",
   "metadata": {
    "papermill": {
     "duration": 0.01345,
     "end_time": "2023-11-14T03:39:08.586481",
     "exception": false,
     "start_time": "2023-11-14T03:39:08.573031",
     "status": "completed"
    },
    "tags": []
   },
   "source": [
    "# Cara Penggunaan"
   ]
  },
  {
   "cell_type": "code",
   "execution_count": 27,
   "id": "022022c4",
   "metadata": {
    "execution": {
     "iopub.execute_input": "2023-11-14T03:39:08.613373Z",
     "iopub.status.busy": "2023-11-14T03:39:08.613068Z",
     "iopub.status.idle": "2023-11-14T03:39:08.620585Z",
     "shell.execute_reply": "2023-11-14T03:39:08.619906Z"
    },
    "papermill": {
     "duration": 0.02325,
     "end_time": "2023-11-14T03:39:08.622554",
     "exception": false,
     "start_time": "2023-11-14T03:39:08.599304",
     "status": "completed"
    },
    "tags": []
   },
   "outputs": [],
   "source": [
    "new_text = [\"Well well weell\"]\n",
    "predictions = classifier.predict(new_text)"
   ]
  },
  {
   "cell_type": "code",
   "execution_count": 28,
   "id": "1b0f6aff",
   "metadata": {
    "execution": {
     "iopub.execute_input": "2023-11-14T03:39:08.649989Z",
     "iopub.status.busy": "2023-11-14T03:39:08.649677Z",
     "iopub.status.idle": "2023-11-14T03:39:08.654959Z",
     "shell.execute_reply": "2023-11-14T03:39:08.654131Z"
    },
    "papermill": {
     "duration": 0.021376,
     "end_time": "2023-11-14T03:39:08.656967",
     "exception": false,
     "start_time": "2023-11-14T03:39:08.635591",
     "status": "completed"
    },
    "tags": []
   },
   "outputs": [
    {
     "data": {
      "text/plain": [
       "array(['Phishing Email'], dtype=object)"
      ]
     },
     "execution_count": 28,
     "metadata": {},
     "output_type": "execute_result"
    }
   ],
   "source": [
    "predictions"
   ]
  },
  {
   "cell_type": "markdown",
   "id": "23f11103",
   "metadata": {
    "papermill": {
     "duration": 0.012787,
     "end_time": "2023-11-14T03:39:08.683266",
     "exception": false,
     "start_time": "2023-11-14T03:39:08.670479",
     "status": "completed"
    },
    "tags": []
   },
   "source": [
    "# SVM"
   ]
  },
  {
   "cell_type": "code",
<<<<<<< Updated upstream
   "execution_count": 29,
=======
   "execution_count": 21,
>>>>>>> Stashed changes
   "id": "e3d7e4e1",
   "metadata": {
    "execution": {
     "iopub.execute_input": "2023-11-14T03:39:08.709927Z",
     "iopub.status.busy": "2023-11-14T03:39:08.709638Z",
     "iopub.status.idle": "2023-11-14T03:39:08.713975Z",
     "shell.execute_reply": "2023-11-14T03:39:08.713117Z"
    },
    "papermill": {
     "duration": 0.019894,
     "end_time": "2023-11-14T03:39:08.715924",
     "exception": false,
     "start_time": "2023-11-14T03:39:08.696030",
     "status": "completed"
    },
    "tags": []
   },
   "outputs": [],
   "source": [
    "from sklearn.svm import SVC\n",
    "\n",
    "SVM = Pipeline([(\"tfidf\", TfidfVectorizer()),(\"SVM\", SVC(C = 100, gamma = \"auto\"))])"
   ]
  },
  {
   "cell_type": "code",
<<<<<<< Updated upstream
   "execution_count": 30,
=======
   "execution_count": 22,
>>>>>>> Stashed changes
   "id": "7df1409e",
   "metadata": {
    "execution": {
     "iopub.execute_input": "2023-11-14T03:39:08.742609Z",
     "iopub.status.busy": "2023-11-14T03:39:08.742353Z",
     "iopub.status.idle": "2023-11-14T03:40:56.330137Z",
     "shell.execute_reply": "2023-11-14T03:40:56.329140Z"
    },
    "papermill": {
     "duration": 107.618521,
     "end_time": "2023-11-14T03:40:56.347344",
     "exception": false,
     "start_time": "2023-11-14T03:39:08.728823",
     "status": "completed"
    },
    "tags": []
   },
   "outputs": [
    {
     "data": {
      "text/html": [
<<<<<<< Updated upstream
       "<style>#sk-container-id-2 {\n",
       "  /* Definition of color scheme common for light and dark mode */\n",
       "  --sklearn-color-text: black;\n",
       "  --sklearn-color-line: gray;\n",
       "  /* Definition of color scheme for unfitted estimators */\n",
       "  --sklearn-color-unfitted-level-0: #fff5e6;\n",
       "  --sklearn-color-unfitted-level-1: #f6e4d2;\n",
       "  --sklearn-color-unfitted-level-2: #ffe0b3;\n",
       "  --sklearn-color-unfitted-level-3: chocolate;\n",
       "  /* Definition of color scheme for fitted estimators */\n",
       "  --sklearn-color-fitted-level-0: #f0f8ff;\n",
       "  --sklearn-color-fitted-level-1: #d4ebff;\n",
       "  --sklearn-color-fitted-level-2: #b3dbfd;\n",
       "  --sklearn-color-fitted-level-3: cornflowerblue;\n",
       "\n",
       "  /* Specific color for light theme */\n",
       "  --sklearn-color-text-on-default-background: var(--sg-text-color, var(--theme-code-foreground, var(--jp-content-font-color1, black)));\n",
       "  --sklearn-color-background: var(--sg-background-color, var(--theme-background, var(--jp-layout-color0, white)));\n",
       "  --sklearn-color-border-box: var(--sg-text-color, var(--theme-code-foreground, var(--jp-content-font-color1, black)));\n",
       "  --sklearn-color-icon: #696969;\n",
       "\n",
       "  @media (prefers-color-scheme: dark) {\n",
       "    /* Redefinition of color scheme for dark theme */\n",
       "    --sklearn-color-text-on-default-background: var(--sg-text-color, var(--theme-code-foreground, var(--jp-content-font-color1, white)));\n",
       "    --sklearn-color-background: var(--sg-background-color, var(--theme-background, var(--jp-layout-color0, #111)));\n",
       "    --sklearn-color-border-box: var(--sg-text-color, var(--theme-code-foreground, var(--jp-content-font-color1, white)));\n",
       "    --sklearn-color-icon: #878787;\n",
       "  }\n",
       "}\n",
       "\n",
       "#sk-container-id-2 {\n",
       "  color: var(--sklearn-color-text);\n",
       "}\n",
       "\n",
       "#sk-container-id-2 pre {\n",
       "  padding: 0;\n",
       "}\n",
       "\n",
       "#sk-container-id-2 input.sk-hidden--visually {\n",
       "  border: 0;\n",
       "  clip: rect(1px 1px 1px 1px);\n",
       "  clip: rect(1px, 1px, 1px, 1px);\n",
       "  height: 1px;\n",
       "  margin: -1px;\n",
       "  overflow: hidden;\n",
       "  padding: 0;\n",
       "  position: absolute;\n",
       "  width: 1px;\n",
       "}\n",
       "\n",
       "#sk-container-id-2 div.sk-dashed-wrapped {\n",
       "  border: 1px dashed var(--sklearn-color-line);\n",
       "  margin: 0 0.4em 0.5em 0.4em;\n",
       "  box-sizing: border-box;\n",
       "  padding-bottom: 0.4em;\n",
       "  background-color: var(--sklearn-color-background);\n",
       "}\n",
       "\n",
       "#sk-container-id-2 div.sk-container {\n",
       "  /* jupyter's `normalize.less` sets `[hidden] { display: none; }`\n",
       "     but bootstrap.min.css set `[hidden] { display: none !important; }`\n",
       "     so we also need the `!important` here to be able to override the\n",
       "     default hidden behavior on the sphinx rendered scikit-learn.org.\n",
       "     See: https://github.com/scikit-learn/scikit-learn/issues/21755 */\n",
       "  display: inline-block !important;\n",
       "  position: relative;\n",
       "}\n",
       "\n",
       "#sk-container-id-2 div.sk-text-repr-fallback {\n",
       "  display: none;\n",
       "}\n",
       "\n",
       "div.sk-parallel-item,\n",
       "div.sk-serial,\n",
       "div.sk-item {\n",
       "  /* draw centered vertical line to link estimators */\n",
       "  background-image: linear-gradient(var(--sklearn-color-text-on-default-background), var(--sklearn-color-text-on-default-background));\n",
       "  background-size: 2px 100%;\n",
       "  background-repeat: no-repeat;\n",
       "  background-position: center center;\n",
       "}\n",
       "\n",
       "/* Parallel-specific style estimator block */\n",
       "\n",
       "#sk-container-id-2 div.sk-parallel-item::after {\n",
       "  content: \"\";\n",
       "  width: 100%;\n",
       "  border-bottom: 2px solid var(--sklearn-color-text-on-default-background);\n",
       "  flex-grow: 1;\n",
       "}\n",
       "\n",
       "#sk-container-id-2 div.sk-parallel {\n",
       "  display: flex;\n",
       "  align-items: stretch;\n",
       "  justify-content: center;\n",
       "  background-color: var(--sklearn-color-background);\n",
       "  position: relative;\n",
       "}\n",
       "\n",
       "#sk-container-id-2 div.sk-parallel-item {\n",
       "  display: flex;\n",
       "  flex-direction: column;\n",
       "}\n",
       "\n",
       "#sk-container-id-2 div.sk-parallel-item:first-child::after {\n",
       "  align-self: flex-end;\n",
       "  width: 50%;\n",
       "}\n",
       "\n",
       "#sk-container-id-2 div.sk-parallel-item:last-child::after {\n",
       "  align-self: flex-start;\n",
       "  width: 50%;\n",
       "}\n",
       "\n",
       "#sk-container-id-2 div.sk-parallel-item:only-child::after {\n",
       "  width: 0;\n",
       "}\n",
       "\n",
       "/* Serial-specific style estimator block */\n",
       "\n",
       "#sk-container-id-2 div.sk-serial {\n",
       "  display: flex;\n",
       "  flex-direction: column;\n",
       "  align-items: center;\n",
       "  background-color: var(--sklearn-color-background);\n",
       "  padding-right: 1em;\n",
       "  padding-left: 1em;\n",
       "}\n",
       "\n",
       "\n",
       "/* Toggleable style: style used for estimator/Pipeline/ColumnTransformer box that is\n",
       "clickable and can be expanded/collapsed.\n",
       "- Pipeline and ColumnTransformer use this feature and define the default style\n",
       "- Estimators will overwrite some part of the style using the `sk-estimator` class\n",
       "*/\n",
       "\n",
       "/* Pipeline and ColumnTransformer style (default) */\n",
       "\n",
       "#sk-container-id-2 div.sk-toggleable {\n",
       "  /* Default theme specific background. It is overwritten whether we have a\n",
       "  specific estimator or a Pipeline/ColumnTransformer */\n",
       "  background-color: var(--sklearn-color-background);\n",
       "}\n",
       "\n",
       "/* Toggleable label */\n",
       "#sk-container-id-2 label.sk-toggleable__label {\n",
       "  cursor: pointer;\n",
       "  display: block;\n",
       "  width: 100%;\n",
       "  margin-bottom: 0;\n",
       "  padding: 0.5em;\n",
       "  box-sizing: border-box;\n",
       "  text-align: center;\n",
       "}\n",
       "\n",
       "#sk-container-id-2 label.sk-toggleable__label-arrow:before {\n",
       "  /* Arrow on the left of the label */\n",
       "  content: \"▸\";\n",
       "  float: left;\n",
       "  margin-right: 0.25em;\n",
       "  color: var(--sklearn-color-icon);\n",
       "}\n",
       "\n",
       "#sk-container-id-2 label.sk-toggleable__label-arrow:hover:before {\n",
       "  color: var(--sklearn-color-text);\n",
       "}\n",
       "\n",
       "/* Toggleable content - dropdown */\n",
       "\n",
       "#sk-container-id-2 div.sk-toggleable__content {\n",
       "  max-height: 0;\n",
       "  max-width: 0;\n",
       "  overflow: hidden;\n",
       "  text-align: left;\n",
       "  /* unfitted */\n",
       "  background-color: var(--sklearn-color-unfitted-level-0);\n",
       "}\n",
       "\n",
       "#sk-container-id-2 div.sk-toggleable__content.fitted {\n",
       "  /* fitted */\n",
       "  background-color: var(--sklearn-color-fitted-level-0);\n",
       "}\n",
       "\n",
       "#sk-container-id-2 div.sk-toggleable__content pre {\n",
       "  margin: 0.2em;\n",
       "  border-radius: 0.25em;\n",
       "  color: var(--sklearn-color-text);\n",
       "  /* unfitted */\n",
       "  background-color: var(--sklearn-color-unfitted-level-0);\n",
       "}\n",
       "\n",
       "#sk-container-id-2 div.sk-toggleable__content.fitted pre {\n",
       "  /* unfitted */\n",
       "  background-color: var(--sklearn-color-fitted-level-0);\n",
       "}\n",
       "\n",
       "#sk-container-id-2 input.sk-toggleable__control:checked~div.sk-toggleable__content {\n",
       "  /* Expand drop-down */\n",
       "  max-height: 200px;\n",
       "  max-width: 100%;\n",
       "  overflow: auto;\n",
       "}\n",
       "\n",
       "#sk-container-id-2 input.sk-toggleable__control:checked~label.sk-toggleable__label-arrow:before {\n",
       "  content: \"▾\";\n",
       "}\n",
       "\n",
       "/* Pipeline/ColumnTransformer-specific style */\n",
       "\n",
       "#sk-container-id-2 div.sk-label input.sk-toggleable__control:checked~label.sk-toggleable__label {\n",
       "  color: var(--sklearn-color-text);\n",
       "  background-color: var(--sklearn-color-unfitted-level-2);\n",
       "}\n",
       "\n",
       "#sk-container-id-2 div.sk-label.fitted input.sk-toggleable__control:checked~label.sk-toggleable__label {\n",
       "  background-color: var(--sklearn-color-fitted-level-2);\n",
       "}\n",
       "\n",
       "/* Estimator-specific style */\n",
       "\n",
       "/* Colorize estimator box */\n",
       "#sk-container-id-2 div.sk-estimator input.sk-toggleable__control:checked~label.sk-toggleable__label {\n",
       "  /* unfitted */\n",
       "  background-color: var(--sklearn-color-unfitted-level-2);\n",
       "}\n",
       "\n",
       "#sk-container-id-2 div.sk-estimator.fitted input.sk-toggleable__control:checked~label.sk-toggleable__label {\n",
       "  /* fitted */\n",
       "  background-color: var(--sklearn-color-fitted-level-2);\n",
       "}\n",
       "\n",
       "#sk-container-id-2 div.sk-label label.sk-toggleable__label,\n",
       "#sk-container-id-2 div.sk-label label {\n",
       "  /* The background is the default theme color */\n",
       "  color: var(--sklearn-color-text-on-default-background);\n",
       "}\n",
       "\n",
       "/* On hover, darken the color of the background */\n",
       "#sk-container-id-2 div.sk-label:hover label.sk-toggleable__label {\n",
       "  color: var(--sklearn-color-text);\n",
       "  background-color: var(--sklearn-color-unfitted-level-2);\n",
       "}\n",
       "\n",
       "/* Label box, darken color on hover, fitted */\n",
       "#sk-container-id-2 div.sk-label.fitted:hover label.sk-toggleable__label.fitted {\n",
       "  color: var(--sklearn-color-text);\n",
       "  background-color: var(--sklearn-color-fitted-level-2);\n",
       "}\n",
       "\n",
       "/* Estimator label */\n",
       "\n",
       "#sk-container-id-2 div.sk-label label {\n",
       "  font-family: monospace;\n",
       "  font-weight: bold;\n",
       "  display: inline-block;\n",
       "  line-height: 1.2em;\n",
       "}\n",
       "\n",
       "#sk-container-id-2 div.sk-label-container {\n",
       "  text-align: center;\n",
       "}\n",
       "\n",
       "/* Estimator-specific */\n",
       "#sk-container-id-2 div.sk-estimator {\n",
       "  font-family: monospace;\n",
       "  border: 1px dotted var(--sklearn-color-border-box);\n",
       "  border-radius: 0.25em;\n",
       "  box-sizing: border-box;\n",
       "  margin-bottom: 0.5em;\n",
       "  /* unfitted */\n",
       "  background-color: var(--sklearn-color-unfitted-level-0);\n",
       "}\n",
       "\n",
       "#sk-container-id-2 div.sk-estimator.fitted {\n",
       "  /* fitted */\n",
       "  background-color: var(--sklearn-color-fitted-level-0);\n",
       "}\n",
       "\n",
       "/* on hover */\n",
       "#sk-container-id-2 div.sk-estimator:hover {\n",
       "  /* unfitted */\n",
       "  background-color: var(--sklearn-color-unfitted-level-2);\n",
       "}\n",
       "\n",
       "#sk-container-id-2 div.sk-estimator.fitted:hover {\n",
       "  /* fitted */\n",
       "  background-color: var(--sklearn-color-fitted-level-2);\n",
       "}\n",
       "\n",
       "/* Specification for estimator info (e.g. \"i\" and \"?\") */\n",
       "\n",
       "/* Common style for \"i\" and \"?\" */\n",
       "\n",
       ".sk-estimator-doc-link,\n",
       "a:link.sk-estimator-doc-link,\n",
       "a:visited.sk-estimator-doc-link {\n",
       "  float: right;\n",
       "  font-size: smaller;\n",
       "  line-height: 1em;\n",
       "  font-family: monospace;\n",
       "  background-color: var(--sklearn-color-background);\n",
       "  border-radius: 1em;\n",
       "  height: 1em;\n",
       "  width: 1em;\n",
       "  text-decoration: none !important;\n",
       "  margin-left: 1ex;\n",
       "  /* unfitted */\n",
       "  border: var(--sklearn-color-unfitted-level-1) 1pt solid;\n",
       "  color: var(--sklearn-color-unfitted-level-1);\n",
       "}\n",
       "\n",
       ".sk-estimator-doc-link.fitted,\n",
       "a:link.sk-estimator-doc-link.fitted,\n",
       "a:visited.sk-estimator-doc-link.fitted {\n",
       "  /* fitted */\n",
       "  border: var(--sklearn-color-fitted-level-1) 1pt solid;\n",
       "  color: var(--sklearn-color-fitted-level-1);\n",
       "}\n",
       "\n",
       "/* On hover */\n",
       "div.sk-estimator:hover .sk-estimator-doc-link:hover,\n",
       ".sk-estimator-doc-link:hover,\n",
       "div.sk-label-container:hover .sk-estimator-doc-link:hover,\n",
       ".sk-estimator-doc-link:hover {\n",
       "  /* unfitted */\n",
       "  background-color: var(--sklearn-color-unfitted-level-3);\n",
       "  color: var(--sklearn-color-background);\n",
       "  text-decoration: none;\n",
       "}\n",
       "\n",
       "div.sk-estimator.fitted:hover .sk-estimator-doc-link.fitted:hover,\n",
       ".sk-estimator-doc-link.fitted:hover,\n",
       "div.sk-label-container:hover .sk-estimator-doc-link.fitted:hover,\n",
       ".sk-estimator-doc-link.fitted:hover {\n",
       "  /* fitted */\n",
       "  background-color: var(--sklearn-color-fitted-level-3);\n",
       "  color: var(--sklearn-color-background);\n",
       "  text-decoration: none;\n",
       "}\n",
       "\n",
       "/* Span, style for the box shown on hovering the info icon */\n",
       ".sk-estimator-doc-link span {\n",
       "  display: none;\n",
       "  z-index: 9999;\n",
       "  position: relative;\n",
       "  font-weight: normal;\n",
       "  right: .2ex;\n",
       "  padding: .5ex;\n",
       "  margin: .5ex;\n",
       "  width: min-content;\n",
       "  min-width: 20ex;\n",
       "  max-width: 50ex;\n",
       "  color: var(--sklearn-color-text);\n",
       "  box-shadow: 2pt 2pt 4pt #999;\n",
       "  /* unfitted */\n",
       "  background: var(--sklearn-color-unfitted-level-0);\n",
       "  border: .5pt solid var(--sklearn-color-unfitted-level-3);\n",
       "}\n",
       "\n",
       ".sk-estimator-doc-link.fitted span {\n",
       "  /* fitted */\n",
       "  background: var(--sklearn-color-fitted-level-0);\n",
       "  border: var(--sklearn-color-fitted-level-3);\n",
       "}\n",
       "\n",
       ".sk-estimator-doc-link:hover span {\n",
       "  display: block;\n",
       "}\n",
       "\n",
       "/* \"?\"-specific style due to the `<a>` HTML tag */\n",
       "\n",
       "#sk-container-id-2 a.estimator_doc_link {\n",
       "  float: right;\n",
       "  font-size: 1rem;\n",
       "  line-height: 1em;\n",
       "  font-family: monospace;\n",
       "  background-color: var(--sklearn-color-background);\n",
       "  border-radius: 1rem;\n",
       "  height: 1rem;\n",
       "  width: 1rem;\n",
       "  text-decoration: none;\n",
       "  /* unfitted */\n",
       "  color: var(--sklearn-color-unfitted-level-1);\n",
       "  border: var(--sklearn-color-unfitted-level-1) 1pt solid;\n",
       "}\n",
       "\n",
       "#sk-container-id-2 a.estimator_doc_link.fitted {\n",
       "  /* fitted */\n",
       "  border: var(--sklearn-color-fitted-level-1) 1pt solid;\n",
       "  color: var(--sklearn-color-fitted-level-1);\n",
       "}\n",
       "\n",
       "/* On hover */\n",
       "#sk-container-id-2 a.estimator_doc_link:hover {\n",
       "  /* unfitted */\n",
       "  background-color: var(--sklearn-color-unfitted-level-3);\n",
       "  color: var(--sklearn-color-background);\n",
       "  text-decoration: none;\n",
       "}\n",
       "\n",
       "#sk-container-id-2 a.estimator_doc_link.fitted:hover {\n",
       "  /* fitted */\n",
       "  background-color: var(--sklearn-color-fitted-level-3);\n",
       "}\n",
       "</style><div id=\"sk-container-id-2\" class=\"sk-top-container\"><div class=\"sk-text-repr-fallback\"><pre>Pipeline(steps=[(&#x27;tfidf&#x27;, TfidfVectorizer()),\n",
       "                (&#x27;SVM&#x27;, SVC(C=100, gamma=&#x27;auto&#x27;))])</pre><b>In a Jupyter environment, please rerun this cell to show the HTML representation or trust the notebook. <br />On GitHub, the HTML representation is unable to render, please try loading this page with nbviewer.org.</b></div><div class=\"sk-container\" hidden><div class=\"sk-item sk-dashed-wrapped\"><div class=\"sk-label-container\"><div class=\"sk-label fitted sk-toggleable\"><input class=\"sk-toggleable__control sk-hidden--visually\" id=\"sk-estimator-id-4\" type=\"checkbox\" ><label for=\"sk-estimator-id-4\" class=\"sk-toggleable__label fitted sk-toggleable__label-arrow fitted\">&nbsp;&nbsp;Pipeline<a class=\"sk-estimator-doc-link fitted\" rel=\"noreferrer\" target=\"_blank\" href=\"https://scikit-learn.org/1.5/modules/generated/sklearn.pipeline.Pipeline.html\">?<span>Documentation for Pipeline</span></a><span class=\"sk-estimator-doc-link fitted\">i<span>Fitted</span></span></label><div class=\"sk-toggleable__content fitted\"><pre>Pipeline(steps=[(&#x27;tfidf&#x27;, TfidfVectorizer()),\n",
       "                (&#x27;SVM&#x27;, SVC(C=100, gamma=&#x27;auto&#x27;))])</pre></div> </div></div><div class=\"sk-serial\"><div class=\"sk-item\"><div class=\"sk-estimator fitted sk-toggleable\"><input class=\"sk-toggleable__control sk-hidden--visually\" id=\"sk-estimator-id-5\" type=\"checkbox\" ><label for=\"sk-estimator-id-5\" class=\"sk-toggleable__label fitted sk-toggleable__label-arrow fitted\">&nbsp;TfidfVectorizer<a class=\"sk-estimator-doc-link fitted\" rel=\"noreferrer\" target=\"_blank\" href=\"https://scikit-learn.org/1.5/modules/generated/sklearn.feature_extraction.text.TfidfVectorizer.html\">?<span>Documentation for TfidfVectorizer</span></a></label><div class=\"sk-toggleable__content fitted\"><pre>TfidfVectorizer()</pre></div> </div></div><div class=\"sk-item\"><div class=\"sk-estimator fitted sk-toggleable\"><input class=\"sk-toggleable__control sk-hidden--visually\" id=\"sk-estimator-id-6\" type=\"checkbox\" ><label for=\"sk-estimator-id-6\" class=\"sk-toggleable__label fitted sk-toggleable__label-arrow fitted\">&nbsp;SVC<a class=\"sk-estimator-doc-link fitted\" rel=\"noreferrer\" target=\"_blank\" href=\"https://scikit-learn.org/1.5/modules/generated/sklearn.svm.SVC.html\">?<span>Documentation for SVC</span></a></label><div class=\"sk-toggleable__content fitted\"><pre>SVC(C=100, gamma=&#x27;auto&#x27;)</pre></div> </div></div></div></div></div></div>"
=======
       "<style>#sk-container-id-1 {color: black;}#sk-container-id-1 pre{padding: 0;}#sk-container-id-1 div.sk-toggleable {background-color: white;}#sk-container-id-1 label.sk-toggleable__label {cursor: pointer;display: block;width: 100%;margin-bottom: 0;padding: 0.3em;box-sizing: border-box;text-align: center;}#sk-container-id-1 label.sk-toggleable__label-arrow:before {content: \"▸\";float: left;margin-right: 0.25em;color: #696969;}#sk-container-id-1 label.sk-toggleable__label-arrow:hover:before {color: black;}#sk-container-id-1 div.sk-estimator:hover label.sk-toggleable__label-arrow:before {color: black;}#sk-container-id-1 div.sk-toggleable__content {max-height: 0;max-width: 0;overflow: hidden;text-align: left;background-color: #f0f8ff;}#sk-container-id-1 div.sk-toggleable__content pre {margin: 0.2em;color: black;border-radius: 0.25em;background-color: #f0f8ff;}#sk-container-id-1 input.sk-toggleable__control:checked~div.sk-toggleable__content {max-height: 200px;max-width: 100%;overflow: auto;}#sk-container-id-1 input.sk-toggleable__control:checked~label.sk-toggleable__label-arrow:before {content: \"▾\";}#sk-container-id-1 div.sk-estimator input.sk-toggleable__control:checked~label.sk-toggleable__label {background-color: #d4ebff;}#sk-container-id-1 div.sk-label input.sk-toggleable__control:checked~label.sk-toggleable__label {background-color: #d4ebff;}#sk-container-id-1 input.sk-hidden--visually {border: 0;clip: rect(1px 1px 1px 1px);clip: rect(1px, 1px, 1px, 1px);height: 1px;margin: -1px;overflow: hidden;padding: 0;position: absolute;width: 1px;}#sk-container-id-1 div.sk-estimator {font-family: monospace;background-color: #f0f8ff;border: 1px dotted black;border-radius: 0.25em;box-sizing: border-box;margin-bottom: 0.5em;}#sk-container-id-1 div.sk-estimator:hover {background-color: #d4ebff;}#sk-container-id-1 div.sk-parallel-item::after {content: \"\";width: 100%;border-bottom: 1px solid gray;flex-grow: 1;}#sk-container-id-1 div.sk-label:hover label.sk-toggleable__label {background-color: #d4ebff;}#sk-container-id-1 div.sk-serial::before {content: \"\";position: absolute;border-left: 1px solid gray;box-sizing: border-box;top: 0;bottom: 0;left: 50%;z-index: 0;}#sk-container-id-1 div.sk-serial {display: flex;flex-direction: column;align-items: center;background-color: white;padding-right: 0.2em;padding-left: 0.2em;position: relative;}#sk-container-id-1 div.sk-item {position: relative;z-index: 1;}#sk-container-id-1 div.sk-parallel {display: flex;align-items: stretch;justify-content: center;background-color: white;position: relative;}#sk-container-id-1 div.sk-item::before, #sk-container-id-1 div.sk-parallel-item::before {content: \"\";position: absolute;border-left: 1px solid gray;box-sizing: border-box;top: 0;bottom: 0;left: 50%;z-index: -1;}#sk-container-id-1 div.sk-parallel-item {display: flex;flex-direction: column;z-index: 1;position: relative;background-color: white;}#sk-container-id-1 div.sk-parallel-item:first-child::after {align-self: flex-end;width: 50%;}#sk-container-id-1 div.sk-parallel-item:last-child::after {align-self: flex-start;width: 50%;}#sk-container-id-1 div.sk-parallel-item:only-child::after {width: 0;}#sk-container-id-1 div.sk-dashed-wrapped {border: 1px dashed gray;margin: 0 0.4em 0.5em 0.4em;box-sizing: border-box;padding-bottom: 0.4em;background-color: white;}#sk-container-id-1 div.sk-label label {font-family: monospace;font-weight: bold;display: inline-block;line-height: 1.2em;}#sk-container-id-1 div.sk-label-container {text-align: center;}#sk-container-id-1 div.sk-container {/* jupyter's `normalize.less` sets `[hidden] { display: none; }` but bootstrap.min.css set `[hidden] { display: none !important; }` so we also need the `!important` here to be able to override the default hidden behavior on the sphinx rendered scikit-learn.org. See: https://github.com/scikit-learn/scikit-learn/issues/21755 */display: inline-block !important;position: relative;}#sk-container-id-1 div.sk-text-repr-fallback {display: none;}</style><div id=\"sk-container-id-1\" class=\"sk-top-container\"><div class=\"sk-text-repr-fallback\"><pre>Pipeline(steps=[(&#x27;tfidf&#x27;, TfidfVectorizer()),\n",
       "                (&#x27;SVM&#x27;, SVC(C=100, gamma=&#x27;auto&#x27;))])</pre><b>In a Jupyter environment, please rerun this cell to show the HTML representation or trust the notebook. <br />On GitHub, the HTML representation is unable to render, please try loading this page with nbviewer.org.</b></div><div class=\"sk-container\" hidden><div class=\"sk-item sk-dashed-wrapped\"><div class=\"sk-label-container\"><div class=\"sk-label sk-toggleable\"><input class=\"sk-toggleable__control sk-hidden--visually\" id=\"sk-estimator-id-1\" type=\"checkbox\" ><label for=\"sk-estimator-id-1\" class=\"sk-toggleable__label sk-toggleable__label-arrow\">Pipeline</label><div class=\"sk-toggleable__content\"><pre>Pipeline(steps=[(&#x27;tfidf&#x27;, TfidfVectorizer()),\n",
       "                (&#x27;SVM&#x27;, SVC(C=100, gamma=&#x27;auto&#x27;))])</pre></div></div></div><div class=\"sk-serial\"><div class=\"sk-item\"><div class=\"sk-estimator sk-toggleable\"><input class=\"sk-toggleable__control sk-hidden--visually\" id=\"sk-estimator-id-2\" type=\"checkbox\" ><label for=\"sk-estimator-id-2\" class=\"sk-toggleable__label sk-toggleable__label-arrow\">TfidfVectorizer</label><div class=\"sk-toggleable__content\"><pre>TfidfVectorizer()</pre></div></div></div><div class=\"sk-item\"><div class=\"sk-estimator sk-toggleable\"><input class=\"sk-toggleable__control sk-hidden--visually\" id=\"sk-estimator-id-3\" type=\"checkbox\" ><label for=\"sk-estimator-id-3\" class=\"sk-toggleable__label sk-toggleable__label-arrow\">SVC</label><div class=\"sk-toggleable__content\"><pre>SVC(C=100, gamma=&#x27;auto&#x27;)</pre></div></div></div></div></div></div></div>"
>>>>>>> Stashed changes
      ],
      "text/plain": [
       "Pipeline(steps=[('tfidf', TfidfVectorizer()),\n",
       "                ('SVM', SVC(C=100, gamma='auto'))])"
      ]
     },
<<<<<<< Updated upstream
     "execution_count": 30,
=======
     "execution_count": 22,
>>>>>>> Stashed changes
     "metadata": {},
     "output_type": "execute_result"
    }
   ],
   "source": [
    "SVM.fit(X_train,y_train)"
   ]
  },
  {
   "cell_type": "code",
<<<<<<< Updated upstream
   "execution_count": 31,
=======
   "execution_count": 23,
>>>>>>> Stashed changes
   "id": "68780aef",
   "metadata": {
    "execution": {
     "iopub.execute_input": "2023-11-14T03:40:56.376601Z",
     "iopub.status.busy": "2023-11-14T03:40:56.376287Z",
     "iopub.status.idle": "2023-11-14T03:41:45.154755Z",
     "shell.execute_reply": "2023-11-14T03:41:45.153782Z"
    },
    "papermill": {
     "duration": 48.809114,
     "end_time": "2023-11-14T03:41:45.170273",
     "exception": false,
     "start_time": "2023-11-14T03:40:56.361159",
     "status": "completed"
    },
    "tags": []
   },
   "outputs": [
    {
     "data": {
      "text/plain": [
       "0.4990884229717411"
      ]
     },
<<<<<<< Updated upstream
     "execution_count": 31,
=======
     "execution_count": 23,
>>>>>>> Stashed changes
     "metadata": {},
     "output_type": "execute_result"
    }
   ],
   "source": [
    "from sklearn.metrics import classification_report,accuracy_score,confusion_matrix\n",
    "s_ypred = SVM.predict(x_test)\n",
    "accuracy_score(y_test,s_ypred )"
   ]
  },
  {
   "cell_type": "code",
<<<<<<< Updated upstream
   "execution_count": 32,
=======
   "execution_count": 25,
>>>>>>> Stashed changes
   "id": "f548b49c",
   "metadata": {},
   "outputs": [
    {
     "data": {
<<<<<<< Updated upstream
      "image/png": "iVBORw0KGgoAAAANSUhEUgAAAhAAAAGJCAYAAADbgQqfAAAAP3RFWHRTb2Z0d2FyZQBNYXRwbG90bGliIHZlcnNpb24zLjkuMS5wb3N0MSwgaHR0cHM6Ly9tYXRwbG90bGliLm9yZy8kixA/AAAACXBIWXMAAA9hAAAPYQGoP6dpAABF8ElEQVR4nO3dd1QU198G8GdBWLogKiVBQDE2sMTYsGBX7GLXKBgssQR77D2WWLEbEyNIxG6wx45Y0Ng1thgFMRFFQUV62fv+4Y99XVmQQXBWfT7ncJK9c+fOd2AXHmfuzCiEEAJEREREEujJXQARERF9eBggiIiISDIGCCIiIpKMAYKIiIgkY4AgIiIiyRggiIiISDIGCCIiIpKMAYKIiIgkY4AgIiIiyRgg6JNx584dNG/eHEWLFoVCoUBISEiBjh8ZGQmFQoGAgIACHfdD1rBhQzRs2LDAxktISEC/fv1ga2sLhUKB4cOHF9jYJJ1CocC0adMkr8fPyseBAYLeq7t372LgwIEoXbo0jIyMYGFhgbp162LJkiVITk4u1G17e3vj2rVrmDVrFoKCgvDVV18V6vbeJx8fHygUClhYWGj9Pt65cwcKhQIKhQILFiyQPP7Dhw8xbdo0XL58uQCqzb/Zs2cjICAAgwYNQlBQEHr37l2o20tLS8OSJUtQrVo1WFhYwNLSEpUqVcKAAQNw69YtAEC7du1gYmKCly9f5jhOr169YGhoiNjYWABQ/yz69euntf/EiRPVfZ4+fZprjQEBAeq+J0+ezLZcCAEHBwcoFAq0adMmr7tO9FZF5C6APh179+5Fly5doFQq0adPH7i6uiItLQ0nT57EmDFjcP36daxZs6ZQtp2cnIzw8HBMnDgRQ4cOLZRtODo6Ijk5GQYGBoUy/tsUKVIESUlJ2L17N7p27aqxbMOGDTAyMkJKSkq+xn748CGmT58OJycnVK1aNc/rHTx4MF/by8nRo0dRu3ZtTJ06tUDHzUmnTp2wf/9+9OjRA/3790d6ejpu3bqFPXv2wN3dHeXLl0evXr2we/du/P777+jTp0+2MZKSkrBz5060bNkS1tbW6nYjIyNs374dK1euhKGhocY6GzdulPzzMjIyQnBwMOrVq6fRfvz4cfz7779QKpUS954odzwCQe9FREQEunfvDkdHR9y4cQNLlixB//79MWTIEGzcuBE3btxApUqVCm37T548AQBYWloW2jYUCgWMjIygr69faNvIjVKpRJMmTbBx48Zsy4KDg9G6dev3VktSUhIAwNDQMNsfx3cRExNToD/DjIwMpKWlaV127tw57NmzBzNmzEBQUBAGDx6MYcOGYdWqVYiMjETbtm0BvDoCYW5ujuDgYK3j7Ny5E4mJiejVq5dGe8uWLREfH4/9+/drtJ8+fRoRERGSf16tWrXC1q1bkZGRodEeHByM6tWrw9bWVtJ4RG/DAEHvxbx585CQkIC1a9fCzs4u23IXFxcMGzZM/TojIwMzZ85EmTJloFQq4eTkhAkTJiA1NVVjPScnJ7Rp0wYnT55EzZo1YWRkhNKlS2P9+vXqPtOmTYOjoyMAYMyYMVAoFHBycgLw6tB/1v+/btq0aVAoFBpthw4dQr169WBpaQkzMzOUK1cOEyZMUC/P6bzu0aNHUb9+fZiamsLS0hLt27fHzZs3tW7vn3/+gY+PDywtLVG0aFH07dtX/cc4L3r27In9+/fj+fPn6rZz587hzp076NmzZ7b+cXFxGD16NNzc3GBmZgYLCwt4enriypUr6j6hoaGoUaMGAKBv377qw+VZ+9mwYUO4urriwoULaNCgAUxMTNTflzfnQHh7e8PIyCjb/rdo0QJWVlZ4+PCh1v0KDQ2FQqFAREQE9u7dq64hMjISwKtg4evrCxsbGxgZGaFKlSoIDAzUGCPr57NgwQL4+/ur31s3btzQus27d+8CAOrWrZttmb6+vvpogrGxMby8vHDkyBHExMRk6xscHAxzc3O0a9dOo/2zzz5DgwYNsgWPDRs2wM3NDa6urlrrykmPHj0QGxuLQ4cOqdvS0tKwbds2rT97AEhMTMSoUaPg4OAApVKJcuXKYcGCBXjzIc2pqakYMWIESpQood6Xf//9V+uY//33H7755hvY2NhAqVSiUqVK+PXXXyXtC30YGCDovdi9ezdKly4Nd3f3PPXv168fpkyZgi+//BKLFy+Gh4cH5syZg+7du2fr+88//6Bz585o1qwZFi5cCCsrK/j4+OD69esAAC8vLyxevBjAq1+yQUFB8Pf3l1T/9evX0aZNG6SmpmLGjBlYuHAh2rVrh1OnTuW63uHDh9GiRQvExMRg2rRpGDlyJE6fPo26deuq//i9rmvXrnj58iXmzJmDrl27IiAgANOnT89znV5eXlAoFNixY4e6LTg4GOXLl8eXX36Zrf+9e/cQEhKCNm3aYNGiRRgzZgyuXbsGDw8P9R/zChUqYMaMGQCAAQMGICgoCEFBQWjQoIF6nNjYWHh6eqJq1arw9/dHo0aNtNa3ZMkSlChRAt7e3sjMzAQA/PTTTzh48CCWLVsGe3t7retVqFABQUFBKF68OKpWraquoUSJEkhOTkbDhg0RFBSEXr16Yf78+ShatCh8fHywZMmSbGOtW7cOy5Ytw4ABA7Bw4UIUK1ZM6zazQueGDRuy/av+Tb169UJGRga2bNmi0R4XF4cDBw6gY8eOMDY2zrZez549sXv3biQkJAB4FZy3bt2a4x/83Dg5OaFOnToaR6D279+PFy9eaP3cCCHQrl07LF68GC1btsSiRYtQrlw5jBkzBiNHjtTo269fP/j7+6N58+aYO3cuDAwMtB4hefz4MWrXro3Dhw9j6NChWLJkCVxcXODr6yv5M0cfAEFUyF68eCEAiPbt2+ep/+XLlwUA0a9fP4320aNHCwDi6NGj6jZHR0cBQISFhanbYmJihFKpFKNGjVK3RURECABi/vz5GmN6e3sLR0fHbDVMnTpVvP7xWLx4sQAgnjx5kmPdWdtYt26duq1q1aqiZMmSIjY2Vt125coVoaenJ/r06ZNte998843GmB07dhTW1tY5bvP1/TA1NRVCCNG5c2fRpEkTIYQQmZmZwtbWVkyfPl3r9yAlJUVkZmZm2w+lUilmzJihbjt37ly2fcvi4eEhAIjVq1drXebh4aHRduDAAQFA/PDDD+LevXvCzMxMdOjQ4a37KMSrn3fr1q012vz9/QUA8dtvv6nb0tLSRJ06dYSZmZmIj49X7xcAYWFhIWJiYt66LZVKpd43Gxsb0aNHD7FixQpx//79bH0zMjKEnZ2dqFOnjkb76tWrBQBx4MABjXYAYsiQISIuLk4YGhqKoKAgIYQQe/fuFQqFQkRGRqrfE7m954QQYt26dQKAOHfunFi+fLkwNzcXSUlJQgghunTpIho1aqT1excSEqL+Obyuc+fOQqFQiH/++UcI8f+fx8GDB2v069mzpwAgpk6dqm7z9fUVdnZ24unTpxp9u3fvLooWLaquS9tnhT48PAJBhS4+Ph4AYG5unqf++/btA4Bs/woaNWoUgFeTMV9XsWJF1K9fX/26RIkSKFeuHO7du5fvmt+Udd59586dUKlUeVonOjoaly9fho+Pj8a/citXroxmzZqp9/N13377rcbr+vXrIzY2Vv09zIuePXsiNDQUjx49wtGjR/Ho0aMc/0WrVCqhp/fq10BmZiZiY2PVp2cuXryY520qlUr07ds3T32bN2+OgQMHYsaMGfDy8oKRkRF++umnPG/rTfv27YOtrS169OihbjMwMICfnx8SEhJw/Phxjf6dOnVCiRIl3jquQqHAgQMH8MMPP8DKygobN27EkCFD4OjoiG7dummcJtLX10f37t0RHh6ucWQpODgYNjY2aNKkidZtWFlZoWXLluqjBsHBwXB3d1cf/ZCqa9euSE5Oxp49e/Dy5Uvs2bMnx5/9vn37oK+vDz8/P432UaNGQQihnpuR9T59s9+bl9AKIbB9+3a0bdsWQgg8ffpU/dWiRQu8ePFC0nuKdB8DBBU6CwsLAMj1MrfX3b9/H3p6enBxcdFot7W1haWlJe7fv6/RXqpUqWxjWFlZ4dmzZ/msOLtu3bqhbt266NevH2xsbNC9e3ds2bIl1zCRVWe5cuWyLatQoQKePn2KxMREjfY398XKygoAJO1Lq1atYG5ujs2bN2PDhg2oUaNGtu9lFpVKhcWLF6Ns2bJQKpUoXrw4SpQogatXr+LFixd53uZnn30mabLkggULUKxYMVy+fBlLly5FyZIl87zum+7fv4+yZcuqg1CWChUqqJe/ztnZOc9jK5VKTJw4ETdv3sTDhw+xceNG1K5dG1u2bMl2NU/WJMmsOQ3//vsvTpw4ge7du+c6sbZnz544dOgQoqKiEBISkq/TF1lKlCiBpk2bIjg4GDt27EBmZiY6d+6ste/9+/dhb2+fLdi/+X3L+jyWKVNGo9+b7+snT57g+fPnWLNmDUqUKKHxlRUutc0RoQ8XAwQVOgsLC9jb2+Ovv/6StN6bkxhzktMvZ/HGRDAp28g6P5/F2NgYYWFhOHz4MHr37o2rV6+iW7duaNasWba+7+Jd9iWLUqmEl5cXAgMD8fvvv+f6B2n27NkYOXIkGjRogN9++w0HDhzAoUOHUKlSpTwfaQGg9fx+bi5duqT+Y3Lt2jVJ674rqbVmsbOzQ/fu3REWFoayZctiy5YtGnMjqlevjvLly6uPJmzcuBFCiGxXX7ypXbt2UCqV8Pb2RmpqarZLcKXKmki7evVqeHp6FuqVR6/Ler98/fXXOHTokNYvbRNS6cPFAEHvRZs2bXD37l2Eh4e/ta+joyNUKhXu3Lmj0f748WM8f/4834d3tbGystI4FJ3lzX+1AoCenh6aNGmCRYsW4caNG5g1axaOHj2KY8eOaR07q87bt29nW3br1i0UL14cpqam77YDOejZsycuXbqEly9fap1Al2Xbtm1o1KgR1q5di+7du6N58+Zo2rRptu9JXsNcXiQmJqJv376oWLEiBgwYgHnz5uHcuXP5Hs/R0RF37tzJFniybvRUkO8X4NXpkcqVKyM9PT3bTZ569eqFv/76C1evXkVwcDDKli2rvoIlJ8bGxujQoQNCQ0PRrFkzFC9e/J3q69ixI/T09HDmzJlcw6OjoyMePnyY7cjgm9+3rM9j1lUpWd58X2ddoZGZmYmmTZtq/XqXI02kexgg6L34/vvvYWpqin79+uHx48fZlt+9e1c9Y75Vq1YAkG3W9qJFiwCgQO9nUKZMGbx48QJXr15Vt0VHR+P333/X6BcXF5dt3awbKr15aWkWOzs7VK1aFYGBgRp/kP/66y8cPHhQvZ+FoVGjRpg5cyaWL1+e6/X/+vr62Y5ubN26Ff/9959GW1bQ0Ra2pBo7diyioqIQGBiIRYsWwcnJSf2v7/xo1aoVHj16hM2bN6vbMjIysGzZMpiZmcHDwyNf4965cwdRUVHZ2p8/f47w8HBYWVllm0uRdbRhypQpuHz58luPPmQZPXo0pk6dismTJ+er1teZmZlh1apVmDZtmvpeFdq0atUKmZmZWL58uUb74sWLoVAo4OnpCQDq/y5dulSj35ufT319fXTq1Anbt2/XerQx614s9PHgnSjpvShTpgyCg4PRrVs3VKhQQeNOlKdPn8bWrVvh4+MDAKhSpQq8vb2xZs0aPH/+HB4eHvjzzz8RGBiIDh065HiJYH50794dY8eORceOHeHn54ekpCSsWrUKX3zxhcaErxkzZiAsLAytW7eGo6MjYmJisHLlSnz++efZ7vz3uvnz58PT0xN16tSBr68vkpOTsWzZMhQtWjRfzxDIKz09PUyaNOmt/dq0aYMZM2agb9++cHd3x7Vr17BhwwaULl1ao1+ZMmVgaWmJ1atXw9zcHKampqhVq5ak+QTAq3tirFy5ElOnTlVfVrpu3To0bNgQkydPxrx58ySNB7y6tPSnn36Cj48PLly4ACcnJ2zbtg2nTp2Cv79/nifvvunKlSvo2bMnPD09Ub9+fRQrVgz//fcfAgMD8fDhQ/j7+2c75eTs7Ax3d3fs3LkTAPIcIKpUqYIqVarkq05tvL2939qnbdu2aNSoESZOnIjIyEhUqVIFBw8exM6dOzF8+HD1nIeqVauiR48eWLlyJV68eAF3d3ccOXIE//zzT7Yx586di2PHjqFWrVro378/KlasiLi4OFy8eBGHDx/WGsTpAybjFSD0Cfr7779F//79hZOTkzA0NBTm5uaibt26YtmyZSIlJUXdLz09XUyfPl04OzsLAwMD4eDgIMaPH6/RRwjtl/UJkf3ywZwu4xRCiIMHDwpXV1dhaGgoypUrJ3777bdsl3EeOXJEtG/fXtjb2wtDQ0Nhb28vevToIf7+++9s23jz0rTDhw+LunXrCmNjY2FhYSHatm0rbty4odEnp0v2si7Ri4iIyPF7KoTmZZw5yekyzlGjRgk7OzthbGws6tatK8LDw7Vefrlz505RsWJFUaRIEY399PDwEJUqVdK6zdfHiY+PF46OjuLLL78U6enpGv1GjBgh9PT0RHh4eK77kNPP+/Hjx6Jv376iePHiwtDQULi5uWX7OeT2HtDm8ePHYu7cucLDw0PY2dmJIkWKCCsrK9G4cWOxbdu2HNdbsWKFACBq1qyZYx/87zLO3OTnMs7caPvevXz5UowYMULY29sLAwMDUbZsWTF//nyhUqk0+iUnJws/Pz9hbW0tTE1NRdu2bcWDBw+yXcYpxKvv25AhQ4SDg4MwMDAQtra2okmTJmLNmjXqPryM8+OgEELC7CwiIiIicA4EERER5QMDBBEREUnGAEFERESSMUAQERGRZAwQREREJBkDBBEREUnGAEFERESSfZR3okzJeHsfIpKPVY2hb+9ERLJIvrT87Z3AIxBERESUDwwQREREJBkDBBEREUnGAEFERESSMUAQERGRZAwQREREJBkDBBEREUnGAEFERESSMUAQERGRZAwQREREJBkDBBEREUnGAEFERESSMUAQERGRZAwQREREJBkDBBEREUnGAEFERESSMUAQERGRZAwQREREJBkDBBEREUnGAEFERESSMUAQERGRZAwQREREJBkDBBEREUnGAEFERESSMUAQERGRZAwQREREJBkDBBEREUnGAEFERESSMUAQERGRZAwQREREJBkDBBEREUnGAEFERESSMUAQERGRZAwQREREJBkDBBEREUnGAEFERESSMUAQERGRZAwQREREJBkDBBEREUnGAEFERESSMUAQERGRZEXk2OjIkSPz3HfRokWFWAkRERHlhywB4tKlS3nqp1AoCrkSIiIiyg9ZAsSxY8fk2CwREREVEM6BICIiIslkOQLh5eWFgIAAWFhYwMvLK9e+O3bseE9VERERUV7JEiCKFi2qnt9QtGhROUogIiKid6AQQgi5iyhoKRlyV0BEubGqMVTuEogoB8mXluepH+dAEBERkWSynMJ407Zt27BlyxZERUUhLS1NY9nFixdlqoqIiIhyIvsRiKVLl6Jv376wsbHBpUuXULNmTVhbW+PevXvw9PSUuzwiIiLSQvYAsXLlSqxZswbLli2DoaEhvv/+exw6dAh+fn548eKF3OURERGRFrIHiKioKLi7uwMAjI2N8fLlSwBA7969sXHjRjlLIyIiohzIHiBsbW0RFxcHAChVqhTOnDkDAIiIiMBHeIEIERHRR0H2ANG4cWPs2rULANC3b1+MGDECzZo1Q7du3dCxY0eZqyMiIiJtZL8PhEqlgkqlQpEiry4I2bRpE06fPo2yZcti4MCBMDQ0lDwm7wNBpNt4Hwgi3ZXX+0DIHiAKAwMEkW5jgCDSXXkNEDpxH4iUlBRcvXoVMTExUKlUGsvatWsnU1VERESUE9kDxB9//IE+ffrg6dOn2ZYpFApkZmbKUBURERHlRvZJlN999x26dOmC6Oho9XyIrC+GByIiIt0ke4B4/PgxRo4cCRsbG7lLISIiojySPUB07twZoaGhcpdBREREEsh+FUZSUhK6dOmCEiVKwM3NDQYGBhrL/fz8JI/JqzCIdBuvwiDSXR/MVRgbN27EwYMHYWRkhNDQUCgUCvUyhUKRrwBBREREhUv2ADFx4kRMnz4d48aNg56e7GdUiIiIKA9k/4udlpaGbt26MTwQERF9QGT/q+3t7Y3NmzfLXQYRERFJIPspjMzMTMybNw8HDhxA5cqVs02iXLRokUyVERERUU5kDxDXrl1DtWrVAAB//fWXxrLXJ1QSERGR7pA9QBw7dkzuEoiIiEgi2QNEbmJiYlCyZEm5yyAZbQregMB1a/H06RN8Ua48xk2YDLfKleUui+ijMfqb5ujQuAq+cLJBcmo6zl65h4lLduLO/Rh1n2+86qKb51eoWv5zWJgZw7b+GLxISNYYp2r5z/HDsA6oXqkUMjMFQo5cxtiF25GYnKbuU71iKcz0a49qFR0gBHD+r/uYuCQE1/7+773tLxUc2SZRmpiY4MmTJ+rXrVu3RnR0tPr148ePYWdnJ0dppCP+2L8PC+bNwcDBQ7Bp6+8oV648Bg30RWxsrNylEX006n/pgtWbw+DRZwHaDFqOIkX0sWfVUJgYGar7mBgZ4NDpG5j/60GtY9iVKIq9q7/D3QdP0KD3ArQfsgIVy9ji5xm91X1MjQ2xc8UQPHj0DA16L0CTvouQkJSCXSuGoEgR2efzUz7I9lNLSUnB6zfBDAsLQ3KyZqKV+SaZJLOgwHXw6twVHTp2QhkXF0yaOh1GRkYI2bFd7tKIPhrth67Eb7vP4ua9R7j2938YMPU3lLIrhmoVHdR9lgeHYsG6Qzh7NVLrGJ71XZGekYnhc7bgzv0YXLgRhe9mbUbHptVQ2qE4AKCcsy2sLU0xc9Ue3Lkfg5v3HmHWT/thW9wCpeyKvY9dpQKm07GPkyg/Xelpabh54zpq13FXt+np6aF2bXdcvXJJxsqIPm4WZkYAgGcvkvK8jtKwCNLTMzX+0Zec+urUhXvVMgCAvyMf4+mzBHh3cIdBEX0YKQ3g06EObt6Lxv2HcQW4B/S+6HSAoE/Xs+fPkJmZCWtra412a2trPH36VKaqiD5uCoUC80d3xulLd3HjbvTbV/if0D9vw8baAiP6NIFBEX1YmhvjB7/2AADbEkUBAAlJqWjRfwl6tKqBZ2cW4+mphWjmXgEdhq5EZqaqUPaHCpdsAUKhUGR77kV+jjikpqYiPj5e4ys1NbUgSyUi+iT4j++KSi526DNunaT1bt57hP5TguDXuwniwhch8vBsRP4Xi0dP4yFUr8KBkdIAq6f2QviVe/DoswCN+y7CjbvR2LF0EIyUBm/ZAuki2a7CEELgiy++UIeGhIQEVKtWTX1L67zOf5gzZw6mT5+u0TZx8lRMmjKtQOul98vK0gr6+vrZJkzGxsaiePHiMlVF9PFaPLYLWtV3RVNff/wX81zy+pv/OI/Nf5xHyWLmSExOhRCA39eNEfHvq89wN8+vUMq+GDy8F6p/v3uPD0B02Dy0bVgZWw9cKMjdofdAtgCxbp20hJuT8ePHY+TIkRptQl9ZIGOTfAwMDVGhYiWcPROOxk2aAgBUKhXOng1H9x5fy1wd0cdl8dguaNe4Cpr3X4L7D9/tKqeYuJcAgD7tayMlLR1HztwCAJgYGUKlEhr/OFQJASEAPc53+yDJFiC8vb0LZBylUgmlUjMwpGQUyNAks97efTF5wlhUquQKV7fK+C0oEMnJyejQ0Uvu0og+Gv7ju6Kb51foMmINEhJTYGNtDgB4kZCClNR0AICNtTlsrC1QptSro3+uZe3xMjEFDx49w7P4V5Mtv+3WAGeu3ENCUhqa1C6P2cM7YPKyner7RRw5cwuzh3eA//iuWLXpOPQUCozu2xwZmZk4fv5vGfac3pVCfITXSjJAfDw2bvhNfSOpcuUrYOyESahcuYrcZdE7sqoxVO4S6H+SLy3X2t5/ShB+230WADBxYCtM+rZVrn1+mdkbLeu5wszEELcjH8N//RFs3HtOo3/jWuUxcaAnKrrYQaUSuHLrX0xbsRt/Xoss2J2id5LTe+JNDBBE9N4xQBDprrwGCF7GSURERJIxQBAREZFkOhMg0tLScPv2bWRk8PwDERGRrpM9QCQlJcHX1xcmJiaoVKkSoqKiAADfffcd5s6dK3N1REREpI3sAWL8+PG4cuUKQkNDYWRkpG5v2rQpNm/eLGNlRERElBPZ7gORJSQkBJs3b0bt2rU1bmVdqVIl3L17V8bKiIiIKCeyH4F48uQJSpYsma09MTGRT+MkIiLSUbIHiK+++gp79+5Vv84KDb/88gvq1KkjV1lERESUC9lPYcyePRuenp64ceMGMjIysGTJEty4cQOnT5/G8ePH5S6PiIiItJD9CES9evVw+fJlZGRkwM3NDQcPHkTJkiURHh6O6tWry10eERERaSHLEYiRI0di5syZMDU1RVhYGNzd3fHzzz/LUQoRERHlgyxHIJYtW4aEhAQAQKNGjRAXFydHGURERJRPshyBcHJywtKlS9G8eXMIIRAeHg4rKyutfRs0aPCeqyMiIqK3keVpnCEhIfj2228RExMDhUKBnEpQKBTIzMyUPD6fxkmk2/g0TiLd9UE8zjshIQEWFha4ffu21ntBAEDRokUlj8sAQaTbGCCIdFdeA4Ssl3GamZnh2LFjcHZ2RpEisl9RSkRERHkk+19tDw8P9f+npKQgLS1NY7mFhcX7LomIiIjeQvb7QCQlJWHo0KEoWbIkTE1NYWVlpfFFREREukf2ADFmzBgcPXoUq1atglKpxC+//ILp06fD3t4e69evl7s8IiIi0kL2Uxi7d+/G+vXr0bBhQ/Tt2xf169eHi4sLHB0dsWHDBvTq1UvuEomIiOgNsh+BiIuLQ+nSpQG8mu+QdVOpevXqISwsTM7SiIiIKAeyB4jSpUsjIiICAFC+fHls2bIFwKsjE5aWljJWRkRERDmRPUD07dsXV65cAQCMGzcOK1asgJGREUaMGIExY8bIXB0RERFpI+uNpLSJjIzExYsX4eLigsqVK+drDN5Iiki38UZSRLrrg7iRlDZOTk5wcnKSuwwiIiLKhWynMMLDw7Fnzx6NtvXr18PZ2RklS5bEgAEDkJqaKlN1RERElBvZAsSMGTNw/fp19etr167B19cXTZs2xbhx47B7927MmTNHrvKIiIgoF7IFiMuXL6NJkybq15s2bUKtWrXw888/Y+TIkVi6dKn6igwiIiLSLbIFiGfPnsHGxkb9+vjx4/D09FS/rlGjBh48eCBHaURERPQWsgUIGxsb9f0f0tLScPHiRdSuXVu9/OXLlzAwMJCrPCIiIsqFbAGiVatWGDduHE6cOIHx48fDxMQE9evXVy+/evUqypQpI1d5RERElAvZLuOcOXMmvLy84OHhATMzMwQGBsLQ0FC9/Ndff0Xz5s3lKo+IiIhyIfuNpF68eAEzMzPo6+trtMfFxcHMzEwjVOQVbyRFpNt4Iyki3fXB3EiqaNGiWtuLFSv2nishIiKivJL9WRhERET04WGAICIiIskYIIiIiEgyBggiIiKSjAGCiIiIJGOAICIiIskYIIiIiEgyBggiIiKSjAGCiIiIJGOAICIiIskYIIiIiEgyBggiIiKSjAGCiIiIJGOAICIiIskYIIiIiEgyBggiIiKSjAGCiIiIJGOAICIiIskYIIiIiEiyInnptGvXrjwP2K5du3wXQ0RERB+GPAWIDh065GkwhUKBzMzMd6mHiIiIPgB5ChAqlaqw6yAiIqIPCOdAEBERkWR5OgLxpsTERBw/fhxRUVFIS0vTWObn51cghREREZHukhwgLl26hFatWiEpKQmJiYkoVqwYnj59ChMTE5QsWZIBgoiI6BMg+RTGiBEj0LZtWzx79gzGxsY4c+YM7t+/j+rVq2PBggWFUSMRERHpGMkB4vLlyxg1ahT09PSgr6+P1NRUODg4YN68eZgwYUJh1EhEREQ6RnKAMDAwgJ7eq9VKliyJqKgoAEDRokXx4MGDgq2OiIiIdJLkORDVqlXDuXPnULZsWXh4eGDKlCl4+vQpgoKC4OrqWhg1EhERkY6RfARi9uzZsLOzAwDMmjULVlZWGDRoEJ48eYI1a9YUeIFERESkexRCCCF3EQUtJUPuCogoN1Y1hspdAhHlIPnS8jz1442kiIiISDLJcyCcnZ2hUChyXH7v3r13KoiIiIh0n+QAMXz4cI3X6enpuHTpEv744w+MGTOmoOoiIiIiHSY5QAwbNkxr+4oVK3D+/Pl3LoiIiIh0X4HNgfD09MT27dsLajgiIiLSYQUWILZt24ZixYoV1HBERESkw/J1I6nXJ1EKIfDo0SM8efIEK1euLNDiiIiISDdJDhDt27fXCBB6enooUaIEGjZsiPLlyxdocURERKSbeCMpInrveCMpIt1VaDeS0tfXR0xMTLb22NhY6OvrSx2OiIiIPkCSA0ROByxSU1NhaGj4zgURERGR7svzHIilS5cCABQKBX755ReYmZmpl2VmZiIsLIxzIIiIiD4ReQ4QixcvBvDqCMTq1as1TlcYGhrCyckJq1evLvgKiYiISOfkOUBEREQAABo1aoQdO3bAysqq0IoiIiIi3Sb5Ms5jx44VRh1ERET0AZE8ibJTp0748ccfs7XPmzcPXbp0KZCiiIiISLdJDhBhYWFo1apVtnZPT0+EhYUVSFFERESk2yQHiISEBK2XaxoYGCA+Pr5AiiIiIiLdJjlAuLm5YfPmzdnaN23ahIoVKxZIUURERKTbJE+inDx5Mry8vHD37l00btwYAHDkyBEEBwdj27ZtBV4gERER6R7JAaJt27YICQnB7NmzsW3bNhgbG6NKlSo4evQoH+dNRET0iXjnh2nFx8dj48aNWLt2LS5cuIDMzMyCqi3f+DAtIt3Gh2kR6a5Ce5hWlrCwMHh7e8Pe3h4LFy5E48aNcebMmfwOR0RERB8QSacwHj16hICAAKxduxbx8fHo2rUrUlNTERISwgmUREREn5A8H4Fo27YtypUrh6tXr8Lf3x8PHz7EsmXLCrM2IiIi0lF5PgKxf/9++Pn5YdCgQShbtmxh1kREREQ6Ls9HIE6ePImXL1+ievXqqFWrFpYvX46nT58WZm1ERESko/IcIGrXro2ff/4Z0dHRGDhwIDZt2gR7e3uoVCocOnQIL1++LMw6iYiISIe802Wct2/fxtq1axEUFITnz5+jWbNm2LVrV0HWly+8jJNIt/EyTiLdVeiXcQJAuXLlMG/ePPz777/YuHHjuwxFREREH5B3vpGULuIRCCLdxiMQRLrrvRyBICIiok8TAwQRERFJxgBBREREkjFAEBERkWSSH+ddEOLj4/Pc18LCohArISIiovyQJUBYWlpCoVDk2kcIAYVCoROPByciIiJNsgSIY8eOybFZIiIiKiCyBAgPDw85NktEREQFRJYAcfXqVbi6ukJPTw9Xr17NtW/lypXfU1VERESUV7IEiKpVq+LRo0coWbIkqlatCoVCAW03xOQcCCIiIt0kS4CIiIhAiRIl1P9PREREHxZZAoSjo6PW/yciIqIPgywBQpsbN24gKioKaWlpGu3t2rWTqSIiIiLKiewB4t69e+jYsSOuXbumMRci6z4RnANBRESke2S/lfWwYcPg7OyMmJgYmJiY4Pr16wgLC8NXX32F0NBQucsjIiIiLWQ/AhEeHo6jR4+iePHi0NPTg56eHurVq4c5c+bAz88Ply5dkrtEIiIieoPsRyAyMzNhbm4OAChevDgePnwI4NXkytu3b8tZGhEREeVA9iMQrq6uuHLlCpydnVGrVi3MmzcPhoaGWLNmDUqXLi13eURERKSF7AFi0qRJSExMBADMmDEDbdq0Qf369WFtbY3NmzfLXB0RERFpoxDabgEps7i4OFhZWb31iZ05Scko4IKIqEBZ1RgqdwlElIPkS8vz1E/2IxDaFCtWTO4SiIiIKBeyB4iUlBQsW7YMx44dQ0xMDFQqlcbyixcvylQZERER5UT2AOHr64uDBw+ic+fOqFmzZr5PWxAREdH7I3uA2LNnD/bt24e6devKXQoRERHlkez3gfjss8/U94EgIiKiD4PsAWLhwoUYO3Ys7t+/L3cpRERElEeyn8L46quvkJKSgtKlS8PExAQGBgYay+Pi4mSqjIiIiHIie4Do0aMH/vvvP8yePRs2NjacRElERPQBkD1AnD59GuHh4ahSpYrcpRAREVEeyT4Honz58khOTpa7DCIiIpJA9gAxd+5cjBo1CqGhoYiNjUV8fLzGFxEREeke2Z+Foaf3KsO8OfdBCAGFQoHMzEzJY/JZGES6jc/CINJdH8yzMI4dOyZ3CURERCSR7AHCw8ND7hKIiIhIItnmQMybN09j8uSpU6eQmpqqfv3y5UsMHjxYjtKIiIjoLWSbA6Gvr4/o6GiULFkSAGBhYYHLly+jdOnSAIDHjx/D3t6ecyCIPkKcA0Gku/I6B0K2IxBv5haZ53ISERGRBLJfxklEREQfHgYIIiIikkzWqzB++eUXmJmZAQAyMjIQEBCA4sWLA3g1iZKIiIh0k2yTKJ2cnPL04KyIiAjJY3MSJZFu4yRKIt2l8zeSioyMlGvTRERE9I44B4KIiIgkY4AgIiIiyRggiIiISDIGCCIiIpKMAYKIiIgkk/1pnPHx8VrbFQoFlEolDA0N33NFpEs2BW9A4Lq1ePr0Cb4oVx7jJkyGW+XKcpdF9NEY/U1zdGhcBV842SA5NR1nr9zDxCU7ced+jLrPN1510c3zK1Qt/zkszIxhW38MXiQka4xTtfzn+GFYB1SvVAqZmQIhRy5j7MLtSExOU/dxsLXCkgnd4PHVF0hITsWG3WcxedkuZGaq3tv+UsGR/QiEpaUlrKyssn1ZWlrC2NgYjo6OmDp1KlQqvsE+NX/s34cF8+Zg4OAh2LT1d5QrVx6DBvoiNjZW7tKIPhr1v3TB6s1h8OizAG0GLUeRIvrYs2ooTIz+/x9vJkYGOHT6Bub/elDrGHYlimLv6u9w98ETNOi9AO2HrEDFMrb4eUZvdR89PQV2LB0EQ4MiaOSzEP2nBOHrdrUwZVDrQt9HKhyyH4EICAjAxIkT4ePjg5o1awIA/vzzTwQGBmLSpEl48uQJFixYAKVSiQkTJshcLb1PQYHr4NW5Kzp07AQAmDR1OsLCQhGyYzt8+w+QuTqij0P7oSs1Xg+Y+hseHJ2LahUdcOriXQDA8uBQAED96mW1juFZ3xXpGZkYPmeL+sGI383ajPNbJ6C0Q3Hce/AUTetUQIXStmj97TLExL3E1b//w4yVe/GDX3v8sHof0jOkP3mZ5CV7gAgMDMTChQvRtWtXdVvbtm3h5uaGn376CUeOHEGpUqUwa9YsBohPSHpaGm7euA7f/gPVbXp6eqhd2x1Xr1ySsTKij5uFmREA4NmLpDyvozQsgvT0TI2nKienvjp14V61DO49eIpalZ3x1z8PERP3/48pOHT6JpZN7I6KZexw5fa/BbQH9L7Ifgrj9OnTqFatWrb2atWqITw8HABQr149REVFve/SSEbPnj9DZmYmrK2tNdqtra3x9OlTmaoi+rgpFArMH90Zpy/dxY270XleL/TP27CxtsCIPk1gUEQflubG+MGvPQDAtkRRAICNtQViYjWfcRQT92oOnE1xiwLaA3qfZA8QDg4OWLt2bbb2tWvXwsHBAQAQGxsLKysrreunpqYiPj5e4ys1NbVQayYi+hj5j++KSi526DNunaT1bt57hP5TguDXuwniwhch8vBsRP4Xi0dP4yE4f+2jJfspjAULFqBLly7Yv38/atSoAQA4f/48bt26hW3btgEAzp07h27dumldf86cOZg+fbpG28TJUzFpyrRCrZsKl5WlFfT19bNNmIyNjVU/sZWICs7isV3Qqr4rmvr647+Y55LX3/zHeWz+4zxKFjNHYnIqhAD8vm6MiH9ffYYfx8bjK1dHjXVKFnt15OHxU+1X45Fuk/0IRLt27XDr1i14enoiLi4OcXFx8PT0xK1bt9CmTRsAwKBBg7Bo0SKt648fPx4vXrzQ+Bozdvz73AUqBAaGhqhQsRLOnglXt6lUKpw9G47KVbKf8iKi/Fs8tgvaNa6ClgOX4v7Dd7vKKSbuJRKT09C5xZdISUvHkTO3AABnr0bA1cUeJazM1H2b1C6PFy+TcfPeo3faJslD9iMQAODs7Iy5c+fma12lUgmlUqnRxsd5fxx6e/fF5AljUamSK1zdKuO3oEAkJyejQ0cvuUsj+mj4j++Kbp5focuINUhITIGNtTkA4EVCClJS0wEANtbmsLG2QJlSr47+uZa1x8vEFDx49AzP4l9Ntvy2WwOcuXIPCUlpaFK7PGYP74DJy3aq7xdxOPwmbt57hLU/eGPikhDYWFtg6pA2+GlLGNLS+Uv7Q6QQr0+blcnz58/x559/IiYmJtv9Hvr06SN5PAaIj8fGDb+pbyRVrnwFjJ0wCZUrV5G7LHpHVjWGyl0C/U/ypeVa2/tPCcJvu88CACYObIVJ37bKtc8vM3ujZT1XmJkY4nbkY/ivP4KNe89p9C9lZ4UlE7qjQfWySExJxYbdf2LS0p28kZSOyek98SbZA8Tu3bvRq1cvJCQkwMLCAgqFQr1MoVAgLi5O8pgMEES6jQGCSHflNUDIPgdi1KhR+Oabb5CQkIDnz5/j2bNn6q/8hAciIiIqfLIHiP/++w9+fn4wMTGRuxQiIiLKI9kDRIsWLXD+/Hm5yyAiIiIJZL8Ko3Xr1hgzZgxu3LgBNzc3GBgYaCxv166dTJURERFRTmSfRKmnl/NBEIVCgcxM6Q9Y4SRKIt3GSZREuiuvkyhlPwLBx3QTERF9eGSfA0FEREQfHlmOQCxduhQDBgyAkZERli5dmmtfPz+/91QVERER5ZUscyCcnZ1x/vx5WFtbw9nZOcd+CoUC9+7dkzw+50AQ6TbOgSDSXTo9ByIiIkLr/xMREdGHgXMgiIiISDLZr8LIzMxEQEAAjhw5ovVhWkePHpWpMiIiIsqJ7AFi2LBhCAgIQOvWreHq6qrxMC0iIiLSTbIHiE2bNmHLli1o1Sr7o2KJiIhIN8k+B8LQ0BAuLi5yl0FEREQSyB4gRo0ahSVLlkDmO2oTERGRBLKcwvDy8tJ4ffToUezfvx+VKlXK9jCtHTt2vM/SiIiIKA9kCRBFixbVeN2xY0c5yiAiIqJ8kiVArFu3To7NEhERUQGRfQ5EcnIykpKS1K/v378Pf39/HDx4UMaqiIiIKDeyB4j27dtj/fr1AIDnz5+jZs2aWLhwIdq3b49Vq1bJXB0RERFpI3uAuHjxIurXrw8A2LZtG2xtbXH//n2sX7/+rU/qJCIiInnIHiCSkpJgbm4OADh48CC8vLygp6eH2rVr4/79+zJXR0RERNrIHiBcXFwQEhKCBw8e4MCBA2jevDkAICYmBhYWFjJXR0RERNrIHiCmTJmC0aNHw8nJCbVq1UKdOnUAvDoaUa1aNZmrIyIiIm0UQgduAfno0SNER0ejSpUq0NN7lWn+/PNPWFhYoHz58pLHS8ko6AqJqCBZ1RgqdwlElIPkS8vz1E/2h2kBgK2tLWxtbTXaatasKVM1RERE9Day3co6ICAAFhYW2W5r/SbeypqIiEj3yHYra4VCof5/IiIi+rDoxByIgsY5EES6jXMgiHRXXudAyH4VBhEREX14ZA8Qjx8/Ru/evWFvb48iRYpAX19f44uIiIh0j+xXYfj4+CAqKgqTJ0+GnZ2dem4EERER6S7ZA8TJkydx4sQJVK1aVe5SiIiIKI9kP4Xh4OCAj3AeJxER0UdN9gDh7++PcePGITIyUu5SiIiIKI9kOYVhZWWlMdchMTERZcqUgYmJCQwMDDT6xsXFve/yiIiI6C1kCRD+/v5ybJaIiIgKiCwBwtvbW47NEhERUQGRbQ6ESqXCjz/+iLp166JGjRoYN24ckpOT5SqHiIiIJJAtQMyaNQsTJkyAmZkZPvvsMyxZsgRDhgyRqxwiIiKSQLYAsX79eqxcuRIHDhxASEgIdu/ejQ0bNkClUslVEhEREeWRbAEiKioKrVq1Ur9u2rQpFAoFHj58KFdJRERElEeyBYiMjAwYGRlptBkYGCA9PV2mioiIiCivZLuVtRACPj4+UCqV6raUlBR8++23MDU1Vbft2LFDjvKIiIgoF7IFCG2Xcn799dcyVEJERERSyRYg1q1bJ9emiYiI6B3J/iwMIiIi+vAwQBAREZFkDBBEREQkGQMEERERScYAQURERJIxQBAREZFkDBBEREQkGQMEERERScYAQURERJIxQBAREZFkDBBEREQkGQMEERERScYAQURERJIxQBAREZFkDBBEREQkGQMEERERScYAQURERJIxQBAREZFkDBBEREQkGQMEERERScYAQURERJIxQBAREZFkDBBEREQkGQMEERERScYAQURERJIphBBC7iKIcpOamoo5c+Zg/PjxUCqVcpdDRK/h5/PTxQBBOi8+Ph5FixbFixcvYGFhIXc5RPQafj4/XTyFQURERJIxQBAREZFkDBBEREQkGQME6TylUompU6dyghaRDuLn89PFSZREREQkGY9AEBERkWQMEERERCQZAwQRERFJxgBBhSokJAQuLi7Q19fH8OHD5S5HMh8fH3To0EH9umHDhh/kftCHKSAgAJaWlrn2efM9+q59nZyc4O/vn6fxPkSRkZFQKBS4fPkyACA0NBQKhQLPnz+Xta4PEQMEafXkyRMMGjQIpUqVglKphK2tLVq0aIFTp05JGmfgwIHo3LkzHjx4gJkzZ+arloCAACgUimxfRkZG+RpPiiVLliAgIKDQt0OfJh8fH/X72dDQEC4uLpgxYwYyMjLyPEZBv0fPnTuHAQMGFNh4OXFyctL6uZ47d26hbtfBwQHR0dFwdXUt1O18CorIXQDppk6dOiEtLQ2BgYEoXbo0Hj9+jCNHjiA2NjbPYyQkJCAmJgYtWrSAvb39O9VjYWGB27dva7QpFIp3GjMvihYtWujboE9by5YtsW7dOqSmpmLfvn0YMmQIDAwMMH78+DytX9Dv0RIlShToeLmZMWMG+vfvr9Fmbm5eqNvU19eHra1toW7jU8EjEJTN8+fPceLECfz4449o1KgRHB0dUbNmTYwfPx7t2rVT91u0aBHc3NxgamoKBwcHDB48GAkJCQBeHRbM+kXQuHFjKBQKhIaGAgBOnjyJ+vXrw9jYGA4ODvDz80NiYmKuNSkUCtja2mp82djYqJc3bNgQ3333HYYPHw4rKyvY2Njg559/RmJiIvr27Qtzc3O4uLhg//796nUyMzPh6+sLZ2dnGBsbo1y5cliyZInGdqUcHibKj6wjfI6Ojhg0aBCaNm2KXbt2afQ5cOAAKlSoADMzM7Rs2RLR0dHqZW++R7dt2wY3NzcYGxvD2toaTZs2zfb5WrBgAezs7GBtbY0hQ4YgPT1dvezNUxgKhQK//PILOnbsCBMTE5QtWzZbfbt27ULZsmVhZGSERo0aITAwME+nBczNzbN9rk1NTQH8/6mFAwcOoFq1ajA2Nkbjxo0RExOD/fv3o0KFCrCwsEDPnj2RlJSkHvOPP/5AvXr1YGlpCWtra7Rp0wZ3795VL3/zFAblHwMEZWNmZgYzMzOEhIQgNTU1x356enpYunQprl+/jsDAQBw9ehTff/89AMDd3V19xGD79u2Ijo6Gu7s77t69i5YtW6JTp064evUqNm/ejJMnT2Lo0KHvXHdgYCCKFy+OP//8E9999x0GDRqELl26wN3dHRcvXkTz5s3Ru3dv9S8blUqFzz//HFu3bsWNGzcwZcoUTJgwAVu2bHnnWojyy9jYGGlpaerXSUlJWLBgAYKCghAWFoaoqCiMHj1a67rR0dHo0aMHvvnmG9y8eROhoaHw8vLC67f7OXbsGO7evYtjx44hMDAQAQEBbz0FMn36dHTt2hVXr15Fq1at0KtXL8TFxQEAIiIi0LlzZ3To0AFXrlzBwIEDMXHixHf/RvzPtGnTsHz5cpw+fRoPHjxA165d4e/vj+DgYOzduxcHDx7EsmXL1P0TExMxcuRInD9/HkeOHIGenh46duwIlUpVYDXR/wgiLbZt2yasrKyEkZGRcHd3F+PHjxdXrlzJdZ2tW7cKa2tr9etnz54JAOLYsWPqNl9fXzFgwACN9U6cOCH09PREcnKy1nHXrVsnAAhTU1ONr5YtW6r7eHh4iHr16qlfZ2RkCFNTU9G7d291W3R0tAAgwsPDc9yHIUOGiE6dOqlfe3t7i/bt22tsZ9iwYTmuTyTF6+8vlUolDh06JJRKpRg9erQQ4v/f+//88496nRUrVggbGxutY1y4cEEAEJGRkTluz9HRUWRkZKjbunTpIrp166Z+7ejoKBYvXqx+DUBMmjRJ/TohIUEAEPv37xdCCDF27Fjh6uqqsZ2JEycKAOLZs2c57rujo6MwNDTM9rkOCwsTQghx7NgxAUAcPnxYvc6cOXMEAHH37l1128CBA0WLFi1y3M6TJ08EAHHt2jUhhBARERECgLh06ZLGdnKrlbTjHAjSqlOnTmjdujVOnDiBM2fOYP/+/Zg3bx5++eUX+Pj4AAAOHz6MOXPm4NatW4iPj0dGRgZSUlKQlJQEExMTreNeuXIFV69exYYNG9RtQgioVCpERESgQoUKWtczNzfHxYsXNdqMjY01XleuXFn9//r6+rC2toabm5u6LeuUR0xMjLptxYoV+PXXXxEVFYXk5GSkpaWhatWqb/8GERWQPXv2wMzMDOnp6VCpVOjZsyemTZumXm5iYoIyZcqoX9vZ2Wm8h19XpUoVNGnSBG5ubmjRogWaN2+Ozp07w8rKSt2nUqVK0NfX1xjv2rVrudb4+mfL1NQUFhYW6hpu376NGjVqaPSvWbPm23ccwJgxY9S/T7J89tlnOW7bxsYGJiYmKF26tEbbn3/+qX59584dTJkyBWfPnsXTp0/VRx6ioqI4cbKAMUBQjoyMjNCsWTM0a9YMkydPRr9+/TB16lT4+PggMjISbdq0waBBgzBr1iwUK1YMJ0+ehK+vL9LS0nIMEAkJCRg4cCD8/PyyLStVqlSOtejp6cHFxSXXeg0MDDReKxQKjbasSZdZv1A2bdqE0aNHY+HChahTpw7Mzc0xf/58nD17NtftEBWkRo0aYdWqVTA0NIS9vT2KFNH8taztfS1yeAKBvr4+Dh06hNOnT6sP7U+cOBFnz56Fs7NzjuO97fB+ftbJi+LFi0v6XL/5mdZWS9u2beHo6Iiff/4Z9vb2UKlUcHV11TgtRAWDAYLyrGLFiggJCQEAXLhwASqVCgsXLoSe3qupNHmZO/Dll1/ixo0bb/2l8T6cOnUK7u7uGDx4sLrt9clWRO+DqalpgX4eFAoF6tati7p162LKlClwdHTE77//jpEjRxbYNl5Xrlw57Nu3T6Pt3LlzhbKtt4mNjcXt27fx888/o379+gBeTdqmwsEAQdnExsaiS5cu+Oabb1C5cmWYm5vj/PnzmDdvHtq3bw8AcHFxQXp6OpYtW4a2bdvi1KlTWL169VvHHjt2LGrXro2hQ4eiX79+MDU1xY0bN3Do0CEsX748x/WEEHj06FG29pIlS6oDjFRly5bF+vXrceDAATg7OyMoKAjnzp1T/0uN6ENz9uxZHDlyBM2bN0fJkiVx9uxZPHnyJMdTgwVh4MCBWLRoEcaOHQtfX19cvnxZPSnzbZdav3z5Mtvn2sTEBBYWFvmqxcrKCtbW1lizZg3s7OwQFRWFcePG5WssejtehUHZmJmZoVatWli8eDEaNGgAV1dXTJ48Gf3791f/ka9SpQoWLVqEH3/8Ea6urtiwYQPmzJnz1rErV66M48eP4++//0b9+vVRrVo1TJky5a33iYiPj4ednV22r5zOBefFwIED4eXlhW7duqFWrVqIjY3VOBpB9KGxsLBAWFgYWrVqhS+++AKTJk3CwoUL4enpWWjbdHZ2xrZt27Bjxw5UrlwZq1atUl+F8bZHfE+ZMiXbZzrrSq780NPTw6ZNm3DhwgW4urpixIgRmD9/fr7Ho9zxcd5ERFSgZs2ahdWrV+PBgwdyl0KFiKcwiIjonaxcuRI1atSAtbU1Tp06hfnz5xfIvV1ItzFAEBHRO7lz5w5++OEHxMXFoVSpUhg1alSeb8VNHy6ewiAiIiLJOImSiIiIJGOAICIiIskYIIiIiEgyBggiIiKSjAGCiIiIJGOAIKJC4+Pjgw4dOqhfN2zYEMOHD3/vdYSGhkKhUOD58+fvfdtEHysGCKJPkI+PDxQKBRQKBQwNDeHi4oIZM2YgIyOjULe7Y8cOzJw5M099+UefSLfxRlJEn6iWLVti3bp1SE1Nxb59+zBkyBAYGBhkuwFQWloaDA0NC2SbxYoVK5BxiEh+PAJB9IlSKpWwtbWFo6MjBg0ahKZNm2LXrl3q0w6zZs2Cvb09ypUrBwB48OABunbtCktLSxQrVgzt27dHZGSkerzMzEyMHDkSlpaWsLa2xvfff48371P35imM1NRUjB07Fg4ODlAqlXBxccHatWsRGRmJRo0aAXj1hEWFQgEfHx8AgEqlwpw5c+Ds7AxjY2NUqVIF27Zt09jOvn378MUXX8DY2BiNGjXSqJOICgYDBBEBAIyNjZGWlgYAOHLkCG7fvo1Dhw5hz549SE9PR4sWLWBubo4TJ07g1KlTMDMzQ8uWLdXrLFy4EAEBAfj1119x8uRJxMXF4ffff891m3369MHGjRuxdOlS3Lx5Ez/99BPMzMzg4OCA7du3AwBu376N6OhoLFmyBAAwZ84crF+/HqtXr8b169cxYsQIfP311zh+/DiAV0HHy8sLbdu2xeXLl9GvXz8+0pmoMAgi+uR4e3uL9u3bCyGEUKlU4tChQ0KpVIrRo0cLb29vYWNjI1JTU9X9g4KCRLly5YRKpVK3paamCmNjY3HgwAEhhBB2dnZi3rx56uXp6eni888/V29HCCE8PDzEsGHDhBBC3L59WwAQhw4d0lrjsWPHBADx7NkzdVtKSoowMTERp0+f1ujr6+srevToIYQQYvz48aJixYoay8eOHZttLCJ6N5wDQfSJ2rNnD8zMzJCeng6VSoWePXti2rRpGDJkCNzc3DTmPVy5cgX//PMPzM3NNcZISUnB3bt38eLFC0RHR6NWrVrqZUWKFMFXX32V7TRGlsuXL0NfXx8eHh55rvmff/5BUlISmjVrptGelpaGatWqAQBu3rypUQcA1KlTJ8/bIKK8YYAg+kQ1atQIq1atgqGhIezt7VGkyP//OjA1NdXom5CQgOrVq2PDhg3ZxilRokS+tm9sbCx5nYSEBADA3r178dlnn2ksUyqV+aqDiPKHAYLoE2VqagoXF5c89f3yyy+xefNmlCxZEhYWFlr72NnZ4ezZs2jQoAEAICMjAxcuXMCXX36ptb+bmxtUKhWOHz+Opk2bZluedQQkMzNT3VaxYkUolUpERUXleOSiQoUK2LVrl0bbmTNn3r6TRCQJJ1ES0Vv16tULxYsXR/v27XHixAlEREQgNDQUfn5++PfffwEAw4YNw9y5cxESEoJbt25h8ODBud7DwcnJCd7e3vjmm28QEhKiHnPLli0AAEdHRygUCuzZswdPnjxBQkICzM3NMXr0aIwYMQKBgYG4e/cuLl68iGXLliEwMBAA8O233+LOnTsYM2YMbt++jeDgYAQEBBT2t4jok8MAQURvZWJigrCwMJQqVQpeXl6oUKECfH19kZKSoj4iMWrUKPTu3Rve3t6oU6cOzM3N0bFjx1zHXbVqFTp37ozBgwejfPny6N+/PxITEwEAn332GaZPn45x48bBxsYGQ4cOBQDMnDkTkydPxpw5c1ChQgW0bNkSe/fuhbOzMwCgVKlS2L59O0JCQlClShWsXr0as2fPLsTvDtGnSSFymuFERERElAMegSAiIiLJGCCIiIhIMgYIIiIikowBgoiIiCRjgCAiIiLJGCCIiIhIMgYIIiIikowBgoiIiCRjgCAiIiLJGCCIiIhIMgYIIiIikuz/AD98Yw2pX5KhAAAAAElFTkSuQmCC",
=======
      "image/png": "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",
>>>>>>> Stashed changes
      "text/plain": [
       "<Figure size 600x400 with 1 Axes>"
      ]
     },
     "metadata": {},
     "output_type": "display_data"
    }
   ],
   "source": [
    "import matplotlib.pyplot as plt\n",
    "import seaborn as sns\n",
    "from sklearn.metrics import roc_curve, auc, confusion_matrix, classification_report, accuracy_score\n",
    "\n",
    "\n",
    "\n",
    "# Confusion matrix\n",
    "conf_matrix = confusion_matrix(y_test, s_ypred)\n",
    "plt.figure(figsize=(6, 4))\n",
    "sns.heatmap(conf_matrix, annot=True, cmap='Blues', fmt='d', cbar=False, \n",
    "            xticklabels=[\"Safe Email\", \"Phishing Email\"], \n",
    "            yticklabels=[\"Safe Email\", \"Phishing Email\"])\n",
    "plt.xlabel('Predicted')\n",
    "plt.ylabel('Actual')\n",
    "plt.title('Confusion Matrix for SVM Model')\n",
    "plt.show()\n",
    "\n"
   ]
  },
  {
   "cell_type": "markdown",
   "id": "9e3a7436",
   "metadata": {
    "papermill": {
     "duration": 0.012827,
     "end_time": "2023-11-14T03:41:45.196386",
     "exception": false,
     "start_time": "2023-11-14T03:41:45.183559",
     "status": "completed"
    },
    "tags": []
   },
   "source": [
    "# Using K-Fold and XGBoost"
   ]
  },
  {
   "cell_type": "code",
   "execution_count": 33,
   "id": "dbcda859",
   "metadata": {
    "execution": {
     "iopub.execute_input": "2023-11-14T03:41:45.223590Z",
     "iopub.status.busy": "2023-11-14T03:41:45.223263Z",
     "iopub.status.idle": "2023-11-14T03:41:45.230732Z",
     "shell.execute_reply": "2023-11-14T03:41:45.229926Z"
    },
    "papermill": {
     "duration": 0.023462,
     "end_time": "2023-11-14T03:41:45.232760",
     "exception": false,
     "start_time": "2023-11-14T03:41:45.209298",
     "status": "completed"
    },
    "tags": []
   },
   "outputs": [],
   "source": [
    "def read_data(file_path):\n",
    "    data = pd.read_csv(file_path, encoding='latin-1')\n",
    "    data.dropna(inplace=True)\n",
    "\n",
    "    label_encoder = LabelEncoder()\n",
    "    T_vectorizer = TfidfVectorizer(sublinear_tf=True, ngram_range=(1, 2), max_features=5000)\n",
    "\n",
    "    X = data['Email Text'].values\n",
    "    y = data['Email Type'].values\n",
    "\n",
    "    for i in range(len(y)):\n",
    "        if y[i] == 'Phishing Email':\n",
    "            y[i] = 1\n",
    "        else:\n",
    "            y[i] = 0\n",
    "\n",
    "    y = label_encoder.fit_transform(y)\n",
    "    return X, y\n",
    "\n",
    "\n",
    "def print_report(y_val, y_pred, fold):\n",
    "    print(f'Fold: {fold}')\n",
    "    print(f'Accuracy Score: {accuracy_score(y_val, y_pred)}')\n",
    "    print(f'Confusion Matrix: \\n {confusion_matrix(y_val, y_pred)}')\n",
    "    print(f'Classification Report: \\n {classification_report(y_val, y_pred)}')"
   ]
  },
  {
   "cell_type": "code",
   "execution_count": 34,
   "id": "68ee273b",
   "metadata": {
    "execution": {
     "iopub.execute_input": "2023-11-14T03:41:45.260537Z",
     "iopub.status.busy": "2023-11-14T03:41:45.260264Z",
     "iopub.status.idle": "2023-11-14T03:41:45.808590Z",
     "shell.execute_reply": "2023-11-14T03:41:45.807597Z"
    },
    "papermill": {
     "duration": 0.56453,
     "end_time": "2023-11-14T03:41:45.810785",
     "exception": false,
     "start_time": "2023-11-14T03:41:45.246255",
     "status": "completed"
    },
    "tags": []
   },
   "outputs": [
    {
     "name": "stdout",
     "output_type": "stream",
     "text": [
      "   Unnamed: 0                                         Email Text  \\\n",
      "0           0  re : 6 . 1100 , disc : uniformitarianism , re ...   \n",
      "1           1  the other side of * galicismos * * galicismo *...   \n",
      "2           2  re : equistar deal tickets are you still avail...   \n",
      "3           3  \\r\\nHello I am your hot lil horny toy.\\r\\n    ...   \n",
      "4           4  software at incredibly low prices ( 86 % lower...   \n",
      "\n",
      "       Email Type  \n",
      "0      Safe Email  \n",
      "1      Safe Email  \n",
      "2      Safe Email  \n",
      "3  Phishing Email  \n",
      "4  Phishing Email  \n",
      "Email Type\n",
      "Safe Email        11322\n",
      "Phishing Email     7328\n",
      "Name: count, dtype: int64\n"
     ]
    }
   ],
   "source": [
    "data = pd.read_csv('C:/Users/aafta/OneDrive/Documents/GitHub/cyber_security/Phishing_Email.csv')\n",
    "print(data.head())\n",
    "print(data['Email Type'].value_counts())"
   ]
  },
  {
   "cell_type": "code",
   "execution_count": 35,
   "id": "b83c7256",
   "metadata": {
    "execution": {
     "iopub.execute_input": "2023-11-14T03:41:45.839665Z",
     "iopub.status.busy": "2023-11-14T03:41:45.839280Z",
     "iopub.status.idle": "2023-11-14T03:41:46.362706Z",
     "shell.execute_reply": "2023-11-14T03:41:46.361651Z"
    },
    "papermill": {
     "duration": 0.53989,
     "end_time": "2023-11-14T03:41:46.364785",
     "exception": false,
     "start_time": "2023-11-14T03:41:45.824895",
     "status": "completed"
    },
    "tags": []
   },
   "outputs": [
    {
     "name": "stdout",
     "output_type": "stream",
     "text": [
      "(18634,) (18634,)\n"
     ]
    }
   ],
   "source": [
    "X, y = read_data('C:/Users/aafta/OneDrive/Documents/GitHub/cyber_security/Phishing_Email.csv')\n",
    "num_folds = 5\n",
    "kfold = KFold(n_splits=num_folds, shuffle=True, random_state=42)\n",
    "\n",
    "print(X.shape, y.shape)"
   ]
  },
  {
   "cell_type": "code",
   "execution_count": 36,
   "id": "ec0241b8",
   "metadata": {
    "execution": {
     "iopub.execute_input": "2023-11-14T03:41:46.393017Z",
     "iopub.status.busy": "2023-11-14T03:41:46.392712Z",
     "iopub.status.idle": "2023-11-14T03:52:07.561569Z",
     "shell.execute_reply": "2023-11-14T03:52:07.556693Z"
    },
    "papermill": {
     "duration": 621.196306,
     "end_time": "2023-11-14T03:52:07.574930",
     "exception": false,
     "start_time": "2023-11-14T03:41:46.378624",
     "status": "completed"
    },
    "tags": []
   },
   "outputs": [
    {
     "name": "stdout",
     "output_type": "stream",
     "text": [
      "Fold: 1\n",
      "Accuracy Score: 0.9664609605580896\n",
      "Confusion Matrix: \n",
      " [[2110   99]\n",
      " [  26 1492]]\n",
      "Classification Report: \n",
      "               precision    recall  f1-score   support\n",
      "\n",
      "           0       0.99      0.96      0.97      2209\n",
      "           1       0.94      0.98      0.96      1518\n",
      "\n",
      "    accuracy                           0.97      3727\n",
      "   macro avg       0.96      0.97      0.97      3727\n",
      "weighted avg       0.97      0.97      0.97      3727\n",
      "\n",
      "Fold: 2\n",
      "Accuracy Score: 0.9710222699221894\n",
      "Confusion Matrix: \n",
      " [[2198   81]\n",
      " [  27 1421]]\n",
      "Classification Report: \n",
      "               precision    recall  f1-score   support\n",
      "\n",
      "           0       0.99      0.96      0.98      2279\n",
      "           1       0.95      0.98      0.96      1448\n",
      "\n",
      "    accuracy                           0.97      3727\n",
      "   macro avg       0.97      0.97      0.97      3727\n",
      "weighted avg       0.97      0.97      0.97      3727\n",
      "\n",
      "Fold: 3\n",
      "Accuracy Score: 0.9667292728736249\n",
      "Confusion Matrix: \n",
      " [[2176   84]\n",
      " [  40 1427]]\n",
      "Classification Report: \n",
      "               precision    recall  f1-score   support\n",
      "\n",
      "           0       0.98      0.96      0.97      2260\n",
      "           1       0.94      0.97      0.96      1467\n",
      "\n",
      "    accuracy                           0.97      3727\n",
      "   macro avg       0.96      0.97      0.97      3727\n",
      "weighted avg       0.97      0.97      0.97      3727\n",
      "\n",
      "Fold: 4\n",
      "Accuracy Score: 0.9737053930775422\n",
      "Confusion Matrix: \n",
      " [[2254   78]\n",
      " [  20 1375]]\n",
      "Classification Report: \n",
      "               precision    recall  f1-score   support\n",
      "\n",
      "           0       0.99      0.97      0.98      2332\n",
      "           1       0.95      0.99      0.97      1395\n",
      "\n",
      "    accuracy                           0.97      3727\n",
      "   macro avg       0.97      0.98      0.97      3727\n",
      "weighted avg       0.97      0.97      0.97      3727\n",
      "\n",
      "Fold: 5\n",
      "Accuracy Score: 0.9694041867954911\n",
      "Confusion Matrix: \n",
      " [[2158   84]\n",
      " [  30 1454]]\n",
      "Classification Report: \n",
      "               precision    recall  f1-score   support\n",
      "\n",
      "           0       0.99      0.96      0.97      2242\n",
      "           1       0.95      0.98      0.96      1484\n",
      "\n",
      "    accuracy                           0.97      3726\n",
      "   macro avg       0.97      0.97      0.97      3726\n",
      "weighted avg       0.97      0.97      0.97      3726\n",
      "\n"
     ]
    }
   ],
   "source": [
    "fold = 1\n",
    "\n",
    "for train_index, val_index in kfold.split(X):\n",
    "\n",
    "  X_train, X_val = X[train_index], X[val_index]\n",
    "  y_train, y_val = y[train_index], y[val_index]\n",
    "\n",
    "  vectorizer = TfidfVectorizer(sublinear_tf=True, ngram_range=(1, 3), max_features=10000)\n",
    "  vectorizer.fit(X_train)\n",
    "\n",
    "  X_train = vectorizer.transform(X_train)\n",
    "  X_val = vectorizer.transform(X_val)\n",
    "  \n",
    "  model = XGBClassifier(n_estimators=800, learning_rate=0.1, max_depth=4, colsample_bytree=0.2, n_jobs=-1, random_state=42)\n",
    "  model.fit(X_train, y_train)\n",
    "  y_pred = model.predict(X_val)\n",
    "\n",
    "  print_report(y_val, y_pred, fold)\n",
    "  fold += 1"
   ]
  },
  {
   "cell_type": "code",
   "execution_count": 37,
   "id": "b93a61a8",
   "metadata": {
    "execution": {
     "iopub.execute_input": "2023-11-14T03:52:07.605707Z",
     "iopub.status.busy": "2023-11-14T03:52:07.605404Z",
     "iopub.status.idle": "2023-11-14T03:52:07.611569Z",
     "shell.execute_reply": "2023-11-14T03:52:07.610721Z"
    },
    "papermill": {
     "duration": 0.023926,
     "end_time": "2023-11-14T03:52:07.613709",
     "exception": false,
     "start_time": "2023-11-14T03:52:07.589783",
     "status": "completed"
    },
    "tags": []
   },
   "outputs": [
    {
     "data": {
      "text/plain": [
       "<Compressed Sparse Row sparse matrix of dtype 'float64'\n",
       "\twith 52 stored elements and shape (1, 10000)>"
      ]
     },
     "execution_count": 37,
     "metadata": {},
     "output_type": "execute_result"
    }
   ],
   "source": [
    "X_train[1]"
   ]
  },
  {
   "cell_type": "markdown",
   "id": "3fabfabb",
   "metadata": {
    "papermill": {
     "duration": 0.013622,
     "end_time": "2023-11-14T03:52:07.641347",
     "exception": false,
     "start_time": "2023-11-14T03:52:07.627725",
     "status": "completed"
    },
    "tags": []
   },
   "source": [
    "# Cara Penggunaan\n",
    "1 = \"Phising Email\"\n",
    "\n",
    "0 = \"Safe Email\""
   ]
  },
  {
   "cell_type": "code",
   "execution_count": 38,
   "id": "33b685c2",
   "metadata": {
    "execution": {
     "iopub.execute_input": "2023-11-14T03:52:07.670539Z",
     "iopub.status.busy": "2023-11-14T03:52:07.670250Z",
     "iopub.status.idle": "2023-11-14T03:52:07.681076Z",
     "shell.execute_reply": "2023-11-14T03:52:07.680389Z"
    },
    "papermill": {
     "duration": 0.030339,
     "end_time": "2023-11-14T03:52:07.685428",
     "exception": false,
     "start_time": "2023-11-14T03:52:07.655089",
     "status": "completed"
    },
    "tags": []
   },
   "outputs": [
    {
     "name": "stdout",
     "output_type": "stream",
     "text": [
      "[1]\n"
     ]
    }
   ],
   "source": [
    "new_text = [\"Hello this is definetly not a scam\"]\n",
    "\n",
    "# Transform the new text using the same vectorizer\n",
    "new_text_transformed = vectorizer.transform(new_text)\n",
    "\n",
    "# Make predictions\n",
    "predictions = model.predict(new_text_transformed)\n",
    "\n",
    "print(predictions)"
   ]
  },
  {
   "cell_type": "code",
   "execution_count": 39,
   "id": "4b5fd71f",
   "metadata": {
    "papermill": {
     "duration": 0.014119,
     "end_time": "2023-11-14T03:52:07.714771",
     "exception": false,
     "start_time": "2023-11-14T03:52:07.700652",
     "status": "completed"
    },
    "tags": []
   },
   "outputs": [],
<<<<<<< Updated upstream
   "source": [
    "# Import necessary libraries for visualization\n",
    "import matplotlib.pyplot as plt\n",
    "import seaborn as sns\n",
    "from sklearn.metrics import roc_curve, auc, confusion_matrix\n",
    "from sklearn.pipeline import Pipeline\n",
    "from sklearn.model_selection import train_test_split\n",
    "from sklearn.metrics import accuracy_score, classification_report\n",
    "from sklearn.feature_extraction.text import TfidfVectorizer\n"
   ]
=======
   "source": []
>>>>>>> Stashed changes
  },
  {
   "cell_type": "code",
   "execution_count": 40,
   "id": "4a3f87e9",
   "metadata": {
    "papermill": {
     "duration": 0.014366,
     "end_time": "2023-11-14T03:52:07.771903",
     "exception": false,
     "start_time": "2023-11-14T03:52:07.757537",
     "status": "completed"
    },
    "tags": []
   },
   "outputs": [],
   "source": [
    "# Import classifiers\n",
    "from sklearn.linear_model import LogisticRegression\n",
    "from sklearn.naive_bayes import MultinomialNB\n",
    "from sklearn.neighbors import KNeighborsClassifier"
   ]
  },
  {
   "cell_type": "code",
   "execution_count": 41,
   "id": "8255ae8c",
   "metadata": {},
   "outputs": [],
   "source": [
    "# Split the data\n",
    "X = Data[\"Email Text\"].values\n",
    "y = Data[\"Email Type\"].values\n",
    "X_train, X_test, y_train, y_test = train_test_split(X, y, test_size=0.3, random_state=0)"
   ]
  },
  {
   "cell_type": "code",
   "execution_count": 42,
   "id": "09f9f460",
   "metadata": {},
   "outputs": [],
   "source": [
    "# Define the selected classifiers\n",
    "classifiers = {\n",
    "    \"Logistic Regression\": LogisticRegression(),\n",
    "    \"Naive Bayes\": MultinomialNB(),\n",
    "    \"K-Nearest Neighbors\": KNeighborsClassifier(n_neighbors=5)\n",
    "}"
   ]
  },
  {
   "cell_type": "code",
   "execution_count": 43,
   "id": "86cacdfc",
   "metadata": {},
   "outputs": [
    {
     "data": {
      "text/plain": [
       "<Figure size 1000x800 with 0 Axes>"
      ]
     },
     "execution_count": 43,
     "metadata": {},
     "output_type": "execute_result"
    },
    {
     "data": {
      "text/plain": [
       "<Figure size 1000x800 with 0 Axes>"
      ]
     },
     "metadata": {},
     "output_type": "display_data"
    }
   ],
   "source": [
    "# Initialize a plot for ROC curves\n",
    "plt.figure(figsize=(10, 8))"
   ]
  },
  {
   "cell_type": "code",
   "execution_count": 52,
   "id": "a1da0838",
   "metadata": {},
   "outputs": [],
   "source": [
    "Data.columns=['word_count','email','type']"
   ]
  },
  {
   "cell_type": "code",
   "execution_count": 60,
   "id": "3908c8a9",
   "metadata": {},
   "outputs": [],
   "source": [
    "data2.to_csv('email_preprocessed.csv',index=False)"
   ]
  },
  {
   "cell_type": "code",
   "execution_count": 57,
   "id": "1aab7206",
   "metadata": {},
   "outputs": [],
   "source": [
    "data2=Data\n",
    "data2['type'].replace('Safe Email',0,inplace=True)\n",
    "data2['type'].replace('Phishing Email',1,inplace=True)"
   ]
  },
  {
   "cell_type": "code",
   "execution_count": 68,
   "id": "b280152a",
   "metadata": {},
   "outputs": [
    {
     "name": "stderr",
     "output_type": "stream",
     "text": [
      "c:\\Users\\aafta\\AppData\\Local\\Programs\\Python\\Python312\\Lib\\site-packages\\keras\\src\\layers\\core\\dense.py:87: UserWarning: Do not pass an `input_shape`/`input_dim` argument to a layer. When using Sequential models, prefer using an `Input(shape)` object as the first layer in the model instead.\n",
      "  super().__init__(activity_regularizer=activity_regularizer, **kwargs)\n"
     ]
    },
    {
     "name": "stdout",
     "output_type": "stream",
     "text": [
      "Epoch 1/10\n",
      "\u001b[1m183/183\u001b[0m \u001b[32m━━━━━━━━━━━━━━━━━━━━\u001b[0m\u001b[37m\u001b[0m \u001b[1m5s\u001b[0m 22ms/step - accuracy: 0.8555 - loss: 0.3075 - val_accuracy: 0.9610 - val_loss: 0.1334\n",
      "Epoch 2/10\n",
      "\u001b[1m183/183\u001b[0m \u001b[32m━━━━━━━━━━━━━━━━━━━━\u001b[0m\u001b[37m\u001b[0m \u001b[1m4s\u001b[0m 23ms/step - accuracy: 0.9855 - loss: 0.0395 - val_accuracy: 0.9662 - val_loss: 0.1013\n",
      "Epoch 3/10\n",
      "\u001b[1m183/183\u001b[0m \u001b[32m━━━━━━━━━━━━━━━━━━━━\u001b[0m\u001b[37m\u001b[0m \u001b[1m4s\u001b[0m 20ms/step - accuracy: 0.9912 - loss: 0.0228 - val_accuracy: 0.9665 - val_loss: 0.1126\n",
      "Epoch 4/10\n",
      "\u001b[1m183/183\u001b[0m \u001b[32m━━━━━━━━━━━━━━━━━━━━\u001b[0m\u001b[37m\u001b[0m \u001b[1m4s\u001b[0m 21ms/step - accuracy: 0.9900 - loss: 0.0232 - val_accuracy: 0.9662 - val_loss: 0.1194\n",
      "Epoch 5/10\n",
      "\u001b[1m183/183\u001b[0m \u001b[32m━━━━━━━━━━━━━━━━━━━━\u001b[0m\u001b[37m\u001b[0m \u001b[1m4s\u001b[0m 21ms/step - accuracy: 0.9918 - loss: 0.0200 - val_accuracy: 0.9668 - val_loss: 0.1289\n",
      "Epoch 6/10\n",
      "\u001b[1m183/183\u001b[0m \u001b[32m━━━━━━━━━━━━━━━━━━━━\u001b[0m\u001b[37m\u001b[0m \u001b[1m4s\u001b[0m 21ms/step - accuracy: 0.9889 - loss: 0.0218 - val_accuracy: 0.9641 - val_loss: 0.1361\n",
      "Epoch 7/10\n",
      "\u001b[1m183/183\u001b[0m \u001b[32m━━━━━━━━━━━━━━━━━━━━\u001b[0m\u001b[37m\u001b[0m \u001b[1m4s\u001b[0m 22ms/step - accuracy: 0.9912 - loss: 0.0206 - val_accuracy: 0.9651 - val_loss: 0.1398\n",
      "Epoch 8/10\n",
      "\u001b[1m183/183\u001b[0m \u001b[32m━━━━━━━━━━━━━━━━━━━━\u001b[0m\u001b[37m\u001b[0m \u001b[1m4s\u001b[0m 21ms/step - accuracy: 0.9892 - loss: 0.0211 - val_accuracy: 0.9651 - val_loss: 0.1483\n",
      "Epoch 9/10\n",
      "\u001b[1m183/183\u001b[0m \u001b[32m━━━━━━━━━━━━━━━━━━━━\u001b[0m\u001b[37m\u001b[0m \u001b[1m4s\u001b[0m 21ms/step - accuracy: 0.9894 - loss: 0.0234 - val_accuracy: 0.9662 - val_loss: 0.1486\n",
      "Epoch 10/10\n",
      "\u001b[1m183/183\u001b[0m \u001b[32m━━━━━━━━━━━━━━━━━━━━\u001b[0m\u001b[37m\u001b[0m \u001b[1m4s\u001b[0m 21ms/step - accuracy: 0.9909 - loss: 0.0207 - val_accuracy: 0.9644 - val_loss: 0.1493\n",
      "\u001b[1m92/92\u001b[0m \u001b[32m━━━━━━━━━━━━━━━━━━━━\u001b[0m\u001b[37m\u001b[0m \u001b[1m0s\u001b[0m 2ms/step\n"
     ]
    },
    {
     "data": {
      "image/png": "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",
      "text/plain": [
       "<Figure size 800x600 with 1 Axes>"
      ]
     },
     "metadata": {},
     "output_type": "display_data"
    },
    {
     "data": {
      "image/png": "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",
      "text/plain": [
       "<Figure size 800x600 with 1 Axes>"
      ]
     },
     "metadata": {},
     "output_type": "display_data"
    }
   ],
   "source": [
    "import numpy as np\n",
    "import pandas as pd\n",
    "from sklearn.model_selection import train_test_split\n",
    "from sklearn.feature_extraction.text import TfidfVectorizer\n",
    "from sklearn.preprocessing import StandardScaler\n",
    "from sklearn.metrics import confusion_matrix, roc_curve, auc\n",
    "from sklearn.utils import class_weight\n",
    "from tensorflow.keras.models import Sequential\n",
    "from tensorflow.keras.layers import Dense, Dropout\n",
    "from tensorflow.keras.utils import to_categorical\n",
    "import matplotlib.pyplot as plt\n",
    "import seaborn as sns\n",
    "\n",
    "\n",
    "\n",
    "# Extract features and target\n",
    "X_text = data2['email']  # Text column\n",
    "word_count = data2['word_count']  # Word count column\n",
    "y = data2['type']  # Target\n",
    "\n",
    "# TF-IDF Vectorization\n",
    "tfidf = TfidfVectorizer(max_features=5000)\n",
    "X_tfidf = tfidf.fit_transform(X_text).toarray()\n",
    "\n",
    "# Combine TF-IDF features with word count\n",
    "X_combined = np.hstack([X_tfidf, word_count.values.reshape(-1, 1)])\n",
    "\n",
    "# Train-test split\n",
    "X_train, X_test, y_train, y_test = train_test_split(X_combined, y, test_size=0.2, random_state=42)\n",
    "\n",
    "# Scale the combined features\n",
    "scaler = StandardScaler()\n",
    "X_train = scaler.fit_transform(X_train)\n",
    "X_test = scaler.transform(X_test)\n",
    "\n",
    "# Build Neural Network Model\n",
    "model = Sequential()\n",
    "model.add(Dense(256, input_dim=X_train.shape[1], activation='relu'))\n",
    "model.add(Dropout(0.3))\n",
    "model.add(Dense(128, activation='relu'))\n",
    "model.add(Dropout(0.3))\n",
    "model.add(Dense(1, activation='sigmoid'))\n",
    "\n",
    "# Compile the model\n",
    "model.compile(optimizer='adam', loss='binary_crossentropy', metrics=['accuracy'])\n",
    "\n",
    "# Handling class imbalance by adjusting class weights\n",
    "# class_weights = class_weight.compute_class_weight('balanced', np.unique(y_train), y_train)\n",
    "# class_weights = dict(enumerate(class_weights))\n",
    "# class_weight=class_weights\n",
    "# Train the model\n",
    "history = model.fit(X_train, y_train, epochs=10, batch_size=64, validation_data=(X_test, y_test) )\n",
    "\n",
    "# Predictions\n",
    "y_pred = model.predict(X_test)\n",
    "y_pred_labels = (y_pred > 0.5).astype(int)\n",
    "\n",
    "# Confusion Matrix\n",
    "cm = confusion_matrix(y_test, y_pred_labels)\n",
    "\n",
    "# Confusion Matrix Visualization\n",
    "plt.figure(figsize=(8,6))\n",
    "sns.heatmap(cm, annot=True, fmt='d', cmap='Blues', cbar=False)\n",
    "plt.title('Confusion Matrix')\n",
    "plt.xlabel('Predicted Label')\n",
    "plt.ylabel('True Label')\n",
    "plt.show()\n",
    "\n",
    "# AUC-ROC Curve\n",
    "fpr, tpr, thresholds = roc_curve(y_test, y_pred)\n",
    "roc_auc = auc(fpr, tpr)\n",
    "\n",
    "plt.figure(figsize=(8,6))\n",
    "plt.plot(fpr, tpr, label='AUC = {:.3f}'.format(roc_auc), color='darkorange')\n",
    "plt.plot([0, 1], [0, 1], 'r--')\n",
    "plt.xlim([0.0, 1.0])\n",
    "plt.ylim([0.0, 1.05])\n",
    "plt.xlabel('False Positive Rate')\n",
    "plt.ylabel('True Positive Rate')\n",
    "plt.title('Receiver Operating Characteristic')\n",
    "plt.legend(loc='lower right')\n",
    "plt.show()\n"
   ]
  },
  {
   "cell_type": "code",
   "execution_count": 59,
   "id": "f87ff647",
   "metadata": {},
   "outputs": [
    {
     "data": {
      "text/html": [
       "<div>\n",
       "<style scoped>\n",
       "    .dataframe tbody tr th:only-of-type {\n",
       "        vertical-align: middle;\n",
       "    }\n",
       "\n",
       "    .dataframe tbody tr th {\n",
       "        vertical-align: top;\n",
       "    }\n",
       "\n",
       "    .dataframe thead th {\n",
       "        text-align: right;\n",
       "    }\n",
       "</style>\n",
       "<table border=\"1\" class=\"dataframe\">\n",
       "  <thead>\n",
       "    <tr style=\"text-align: right;\">\n",
       "      <th></th>\n",
       "      <th>word_count</th>\n",
       "      <th>email</th>\n",
       "      <th>type</th>\n",
       "    </tr>\n",
       "  </thead>\n",
       "  <tbody>\n",
       "    <tr>\n",
       "      <th>0</th>\n",
       "      <td>4222</td>\n",
       "      <td>re : i ' ll check my billing ! thanks for the ...</td>\n",
       "      <td>0</td>\n",
       "    </tr>\n",
       "    <tr>\n",
       "      <th>1</th>\n",
       "      <td>599</td>\n",
       "      <td>URL: http://www.newsisfree.com/click/-4,872399...</td>\n",
       "      <td>0</td>\n",
       "    </tr>\n",
       "    <tr>\n",
       "      <th>2</th>\n",
       "      <td>8779</td>\n",
       "      <td>On Wed, 2002-07-24 at 18:14, James Rogers wrot...</td>\n",
       "      <td>0</td>\n",
       "    </tr>\n",
       "    <tr>\n",
       "      <th>3</th>\n",
       "      <td>9497</td>\n",
       "      <td>re : inland resources we executed final docume...</td>\n",
       "      <td>0</td>\n",
       "    </tr>\n",
       "    <tr>\n",
       "      <th>4</th>\n",
       "      <td>6057</td>\n",
       "      <td>re : next step al , i have spoken with mark la...</td>\n",
       "      <td>0</td>\n",
       "    </tr>\n",
       "    <tr>\n",
       "      <th>...</th>\n",
       "      <td>...</td>\n",
       "      <td>...</td>\n",
       "      <td>...</td>\n",
       "    </tr>\n",
       "    <tr>\n",
       "      <th>14619</th>\n",
       "      <td>18635</td>\n",
       "      <td>congratulations you have won ! ! ! pls contact...</td>\n",
       "      <td>1</td>\n",
       "    </tr>\n",
       "    <tr>\n",
       "      <th>14620</th>\n",
       "      <td>18638</td>\n",
       "      <td>empty</td>\n",
       "      <td>1</td>\n",
       "    </tr>\n",
       "    <tr>\n",
       "      <th>14621</th>\n",
       "      <td>18639</td>\n",
       "      <td>strong buy alert : monthly newsletter topstock...</td>\n",
       "      <td>1</td>\n",
       "    </tr>\n",
       "    <tr>\n",
       "      <th>14622</th>\n",
       "      <td>18646</td>\n",
       "      <td>date a lonely housewife always wanted to date ...</td>\n",
       "      <td>1</td>\n",
       "    </tr>\n",
       "    <tr>\n",
       "      <th>14623</th>\n",
       "      <td>18650</td>\n",
       "      <td>empty</td>\n",
       "      <td>1</td>\n",
       "    </tr>\n",
       "  </tbody>\n",
       "</table>\n",
       "<p>14624 rows × 3 columns</p>\n",
       "</div>"
      ],
      "text/plain": [
       "       word_count                                              email  type\n",
       "0            4222  re : i ' ll check my billing ! thanks for the ...     0\n",
       "1             599  URL: http://www.newsisfree.com/click/-4,872399...     0\n",
       "2            8779  On Wed, 2002-07-24 at 18:14, James Rogers wrot...     0\n",
       "3            9497  re : inland resources we executed final docume...     0\n",
       "4            6057  re : next step al , i have spoken with mark la...     0\n",
       "...           ...                                                ...   ...\n",
       "14619       18635  congratulations you have won ! ! ! pls contact...     1\n",
       "14620       18638                                              empty     1\n",
       "14621       18639  strong buy alert : monthly newsletter topstock...     1\n",
       "14622       18646  date a lonely housewife always wanted to date ...     1\n",
       "14623       18650                                              empty     1\n",
       "\n",
       "[14624 rows x 3 columns]"
      ]
     },
     "execution_count": 59,
     "metadata": {},
     "output_type": "execute_result"
    }
   ],
   "source": []
  },
  {
   "cell_type": "code",
   "execution_count": null,
   "id": "0da86a64",
   "metadata": {},
   "outputs": [],
   "source": []
  }
 ],
 "metadata": {
  "kernelspec": {
   "display_name": "Python 3",
   "language": "python",
   "name": "python3"
  },
  "language_info": {
   "codemirror_mode": {
    "name": "ipython",
    "version": 3
   },
   "file_extension": ".py",
   "mimetype": "text/x-python",
   "name": "python",
   "nbconvert_exporter": "python",
   "pygments_lexer": "ipython3",
<<<<<<< Updated upstream
   "version": "3.12.5"
=======
   "version": "3.11.5"
>>>>>>> Stashed changes
  },
  "papermill": {
   "default_parameters": {},
   "duration": 798.282462,
   "end_time": "2023-11-14T03:52:08.909075",
   "environment_variables": {},
   "exception": null,
   "input_path": "__notebook__.ipynb",
   "output_path": "__notebook__.ipynb",
   "parameters": {},
   "start_time": "2023-11-14T03:38:50.626613",
   "version": "2.4.0"
  }
 },
 "nbformat": 4,
 "nbformat_minor": 5
}
